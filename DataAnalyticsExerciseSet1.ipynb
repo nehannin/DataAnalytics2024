{
 "cells": [
  {
   "attachments": {},
   "cell_type": "markdown",
   "metadata": {},
   "source": [
    "<h3><b>Introduction to Data Analytics - Exercise set 1 - Python and NumPy Basics</b></h3>"
   ]
  },
  {
   "attachments": {},
   "cell_type": "markdown",
   "metadata": {},
   "source": [
    "Put all your exercises (Jupyter Notebooks or Python-files) in your course Git-project.\n",
    "Use either code comments or Jupyter Notebook markdown (text) to document which exercise you are doing and what a certain code section does! \n",
    "You can return all of these exercises in a single Jupyter Notebook, if you wish.\n",
    "\n",
    "<img src=\"http://srv.plab.fi/~tuomasv/data_analytics_2023_images/exercise_set_1/numpylogo.png\" width=\"250\"/>"
   ]
  },
  {
   "cell_type": "markdown",
   "metadata": {},
   "source": [
    "<b>NOTE!</b> For each subtask, save the result into a separate variable!"
   ]
  },
  {
   "cell_type": "code",
   "execution_count": null,
   "metadata": {},
   "outputs": [],
   "source": [
    "# setup all needed modules and configurations\n",
    "import numpy as np\n",
    "import numpy.ma as ma\n",
    "\n",
    "# re-style the NumPy arrays\n",
    "# remember to install needed module first:\n",
    "# pip3 install numpy-html\n",
    "%load_ext numpy_html"
   ]
  },
  {
   "attachments": {},
   "cell_type": "markdown",
   "metadata": {},
   "source": [
    "Run the cell below to enable custom style for NumPy arrays:"
   ]
  },
  {
   "cell_type": "code",
   "execution_count": null,
   "metadata": {},
   "outputs": [],
   "source": [
    "%%html\n",
    "<style>\n",
    "table {margin-top: 16pt;}\n",
    "td {font-family: Arial, Helvetica, sans-serif !important; font-weight: 600; white-space: normal !important;}\n",
    "tr:nth-child(even) {background: #dbc9e2 !important; color: black}\n",
    "tr:nth-child(odd) {background: #e6afd3 !important; color: black}\n",
    "</style>"
   ]
  },
  {
   "attachments": {},
   "cell_type": "markdown",
   "metadata": {},
   "source": [
    "<h4><b>1. Create these lists without NumPy:</b></h4>\n",
    "\n",
    "- List of 15 ones\n",
    "\n",
    "- List of 15 number 7's\n",
    "\n",
    "- List of numbers from 100 to 150\n",
    "\n",
    "- List of even numbers between 0 and 100\n",
    "\n",
    "- List of years that are divisible by 4 between 1950 and 2020\n",
    "\n",
    "<br>\n",
    "\n",
    "<b>Tip: creating a list with Python code is usually something like this:</b>\n",
    "\n",
    "<pre>\n",
    "numbers = []\n",
    "\n",
    "for x in range(0, 5):\n",
    "    numbers.append(x)\n",
    "</pre>"
   ]
  },
  {
   "cell_type": "code",
   "execution_count": null,
   "metadata": {},
   "outputs": [],
   "source": [
    "# exercise 1.1, create lists without NumPy\n",
    "# use additional code cells or different variable names for each subtask\n",
    "\n",
    "# list of 15 ones\n",
    "list_of_ones = [1] * 15\n",
    "list_of_ones\n"
   ]
  },
  {
   "cell_type": "code",
   "execution_count": null,
   "metadata": {},
   "outputs": [],
   "source": [
    "# list of 15 number 7's\n",
    "list_of_sevens = [7] * 15\n",
    "list_of_sevens"
   ]
  },
  {
   "cell_type": "code",
   "execution_count": null,
   "metadata": {},
   "outputs": [],
   "source": [
    "# list of numbers from 100 to 150\n",
    "list_from_100_to_150 = list(range(100, 151))\n",
    "list_from_100_to_150"
   ]
  },
  {
   "cell_type": "code",
   "execution_count": null,
   "metadata": {},
   "outputs": [],
   "source": [
    "# list of even numbers between 0 and 100\n",
    "list_of_even_numbers = list(range(0, 101, 2))\n",
    "list_of_even_numbers"
   ]
  },
  {
   "cell_type": "code",
   "execution_count": null,
   "metadata": {},
   "outputs": [],
   "source": [
    "# list of years that are divisible by 4 between 1950 and 2020\n",
    "list_of_divisible_by_4 = [year for year in range(1950, 2021) if year % 4 == 0]\n",
    "list_of_divisible_by_4"
   ]
  },
  {
   "attachments": {},
   "cell_type": "markdown",
   "metadata": {},
   "source": [
    "<h4><b>2.\tNow, create these arrays with NumPy!</b></h4>\n",
    "\n",
    "- Array of 15 zeroes\n",
    "\n",
    "- Array of 15 ones\n",
    "\n",
    "- Array of 15 number 7's\n",
    "\n",
    "- Array of numbers from 100 to 150\n",
    "\n",
    "- Array of numbers from 1900 to 2021\n",
    "\n",
    "- Array of even numbers between 0 and 100\n",
    "\n",
    "- Array of years that are divisible by 4 between 1950 and 2020\n",
    "\n"
   ]
  },
  {
   "cell_type": "code",
   "execution_count": null,
   "metadata": {},
   "outputs": [],
   "source": [
    "# exercise 1.2, create lists WITH NumPy\n",
    "# use additional code cells or different variable names for each subtask\n",
    "\n",
    "# array of 15 zeroes\n",
    "array_of_zeroes = np.zeros(15)\n",
    "array_of_zeroes"
   ]
  },
  {
   "cell_type": "code",
   "execution_count": null,
   "metadata": {},
   "outputs": [],
   "source": [
    "# array of 15 ones\n",
    "array_of_ones = np.ones(15)\n",
    "array_of_ones"
   ]
  },
  {
   "cell_type": "code",
   "execution_count": null,
   "metadata": {},
   "outputs": [],
   "source": [
    "# array of 15 number 7's\n",
    "array_of_sevens = np.full(15, 7)\n",
    "array_of_sevens"
   ]
  },
  {
   "cell_type": "code",
   "execution_count": null,
   "metadata": {},
   "outputs": [],
   "source": [
    "# array of numbers from 100 to 150\n",
    "array_from_100_to_150 = np.arange(100, 151)\n",
    "array_from_100_to_150"
   ]
  },
  {
   "cell_type": "code",
   "execution_count": null,
   "metadata": {},
   "outputs": [],
   "source": [
    "# array of numbers from 1900 to 2021\n",
    "array_from_1900_to_2021 = np.arange(1900, 2022)\n",
    "array_from_1900_to_2021"
   ]
  },
  {
   "cell_type": "code",
   "execution_count": null,
   "metadata": {},
   "outputs": [],
   "source": [
    "# array of even numbers between 0 and 100\n",
    "array_of_even_numbers = np.arange(0, 101, 2)\n",
    "array_of_even_numbers"
   ]
  },
  {
   "cell_type": "code",
   "execution_count": null,
   "metadata": {},
   "outputs": [],
   "source": [
    "# array of years that are divisble by 4 between 1950 and 2020\n",
    "array_of_divisible_by_4 = np.arange(1950, 2021, 4)\n",
    "array_of_divisible_by_4"
   ]
  },
  {
   "attachments": {},
   "cell_type": "markdown",
   "metadata": {},
   "source": [
    "<h4><b style=\"color: red\">Note: compare the NumPy code to the plain Python code after doing the exercises. Easier or more difficult? :) \n",
    "(answer in code comments or as text in Jupyter Notebook)</b></h4>"
   ]
  },
  {
   "attachments": {},
   "cell_type": "markdown",
   "metadata": {},
   "source": [
    "I think it's propably easier and more simple with these kind of tasks than the plain Python code when you know how to use it. Or it seems like it."
   ]
  },
  {
   "attachments": {},
   "cell_type": "markdown",
   "metadata": {},
   "source": [
    "<h3><b>3. Let's try out NumPy vectors and matrices:</b></h3>\n",
    "\n",
    "- Create a NumPy vector (list) containing these values:<br>\n",
    "<b><i>5, 16, 9, 2, 19, 18, 11, 7</i></b><br>\n",
    "    - Use argmax() to find the position index of the largest value in the vector, and print it\n",
    "<br><br>\n",
    "- Create a 7x7 matrix, with values from 1 to 49\n",
    "\n",
    "    - Extra task: Create this matrix (list of lists) without NumPy in Python!\n",
    "\n",
    "<br>\n",
    "\n",
    "- Generate 8x8 random number matrix, values between 0 and 5\n",
    "\n",
    "- Generate 8x8 random number matrix, using standard normal distribution values (= values are between -3 and 3)\n"
   ]
  },
  {
   "cell_type": "code",
   "execution_count": null,
   "metadata": {},
   "outputs": [],
   "source": [
    "# exercise 1.3, NumPy vectors and matrices\n",
    "# use different variable names for each subtask\n",
    "# you can also make new code cells if you need\n",
    "\n",
    "# a NumPy vector\n",
    "vector = np.array([5, 16, 9, 2, 19, 18, 11, 7])\n",
    "\n",
    "# find the position index of the largest value in the vector\n",
    "index_of_max_value = np.argmax(vector)\n",
    "\n",
    "# a 7x7 matric with values from 1 to 49\n",
    "matrix = np.arange(1, 50).reshape(7, 7)\n",
    "\n",
    "# a 8x8 random number matrix, values between 0 and 5\n",
    "random_matrix = np.random.rand(8, 8) * 5\n",
    "\n",
    "print(\"\\nVector:\\n\\n\", vector)\n",
    "\n",
    "print(\"\\nIndex of the largest value in the vector:\\n\\n\", index_of_max_value)\n",
    "\n",
    "print(\"\\n7x7 Matrix:\\n\\n\", matrix)\n",
    "\n",
    "print(\"\\n8x8 Random Number Matrix (values between 0 and 5):\\n\\n\", random_matrix)"
   ]
  },
  {
   "cell_type": "code",
   "execution_count": null,
   "metadata": {},
   "outputs": [],
   "source": [
    "# extra task: a 7x7 matrix witout NumPy\n",
    "matrix_without_numpy = [[i + 7 * j for i in range(1,8)] for j in range(7)]\n",
    "\n",
    "print(\"\\n7x7 Matrix Without NumPy:\")\n",
    "for row in matrix_without_numpy:\n",
    "    print(row)"
   ]
  },
  {
   "attachments": {},
   "cell_type": "markdown",
   "metadata": {},
   "source": [
    "<h3><b>4. Create a linearly spaced… </b></h3>\n",
    "\n",
    "- array (list/vector) of 10 values between value 0 and 1\n",
    "\n",
    "- 10x10 matrix between values 0 and 5\n",
    "\n",
    "    - Extra task: create this matrix without NumPy as well!\n",
    "\n",
    "\n",
    "<img src=\"http://srv.plab.fi/~tuomasv/data_analytics_2023_images/exercise_set_1/cubes.png\"/>\n"
   ]
  },
  {
   "cell_type": "code",
   "execution_count": null,
   "metadata": {},
   "outputs": [],
   "source": [
    "# exercise 1.4, linspace\n",
    "# use different variable names for each subtask\n",
    "# you can also make new code cells if you need\n",
    "\n",
    "# a linearly spaced array of 10 values between 0 and 1\n",
    "linear_array = np.linspace(0, 1, 10)\n",
    "\n",
    "# a 10x10 matrix between values 0 and 5\n",
    "matrix_10x10 = np.linspace(0, 5, 100).reshape(10, 10)\n",
    "\n",
    "print(\"Linearly spaced array between 0 and 1:\\n\\n\", linear_array)\n",
    "\n",
    "print(\"\\n10x10 Matrix between 0 and 5:\\n\\n\", matrix_10x10)"
   ]
  },
  {
   "cell_type": "code",
   "execution_count": null,
   "metadata": {},
   "outputs": [],
   "source": [
    "# extra task: a 10x10 matrix without Numpy\n",
    "matrix_10x10_without_numpy = [[5 * (i + 10 * j) / 99 for i in range(10)] for j in range(10)]\n",
    "\n",
    "print(\"\\n10x10 Matrix Without NumPy:\")\n",
    "for row in matrix_10x10_without_numpy:\n",
    "    print(row)"
   ]
  },
  {
   "attachments": {},
   "cell_type": "markdown",
   "metadata": {},
   "source": [
    "<h3><b>5. Recreate the matrices in code based on the pictures.</b></h3>\n",
    "\n",
    "- Create this 3x5 matrix with NumPy:\n",
    "\n",
    "<img src=\"http://srv.plab.fi/~tuomasv/data_analytics_2023_images/exercise_set_1/matrix1.png\"/>\n",
    "\n",
    "\n",
    "Note: The values above have no logic, you'll have to feed basic Python lists to NumPy for this result\n"
   ]
  },
  {
   "cell_type": "code",
   "execution_count": null,
   "metadata": {},
   "outputs": [],
   "source": [
    "# exercise 1.5a, create matrix\n",
    "\n",
    "# 3x5 matrix with NumPy\n",
    "matrix_3x5 = np.arange(1, 16).reshape(3, 5)\n",
    "matrix_3x5"
   ]
  },
  {
   "attachments": {},
   "cell_type": "markdown",
   "metadata": {},
   "source": [
    "- Generate this NumPy array:\n",
    "\n",
    "<img src=\"http://srv.plab.fi/~tuomasv/data_analytics_2023_images/exercise_set_1/matrix2.png\" width=\"800\"/>"
   ]
  },
  {
   "cell_type": "code",
   "execution_count": null,
   "metadata": {},
   "outputs": [],
   "source": [
    "# exercise 1.5b, generate NumPy array / matrix\n",
    "\n",
    "# a NumPy array\n",
    "numpy_array = np.random.rand(8, 16)\n",
    "numpy_array"
   ]
  },
  {
   "attachments": {},
   "cell_type": "markdown",
   "metadata": {},
   "source": [
    "- Generate this NumPy array:\n",
    "\n",
    "<img src=\"http://srv.plab.fi/~tuomasv/data_analytics_2023_images/exercise_set_1/matrix3.png\" width=\"500\"/>\n",
    "\n",
    "<b>Tips:</b> arange-function (and step-parameter) + reshape is recommended. Alternatively you can use broadcasting and division if you like."
   ]
  },
  {
   "cell_type": "code",
   "execution_count": null,
   "metadata": {},
   "outputs": [],
   "source": [
    "# exercise 1.5c, generate NumPy array / matrix\n",
    "\n",
    "# a 10x10 NumPy array\n",
    "array_10x10 = np.arange(1, 101).reshape(10, 10)\n",
    "array_10x10"
   ]
  },
  {
   "attachments": {},
   "cell_type": "markdown",
   "metadata": {},
   "source": [
    "<h3><b>6. Use this matrix in your code:</b></h3>\n",
    "\n",
    "dataset = np.arange(1, 37).reshape(6, 6)\n",
    "\n",
    "<img src=\"http://srv.plab.fi/~tuomasv/data_analytics_2023_images/exercise_set_1/matrix4.png\"/>\n"
   ]
  },
  {
   "cell_type": "code",
   "execution_count": null,
   "metadata": {},
   "outputs": [],
   "source": [
    "# exercise 1.6a, matrix slicing\n",
    "dataset = np.arange(1, 37).reshape(6, 6)\n",
    "\n",
    "# matrix slicing\n",
    "sliced_submatrix = dataset[1:4, 2:5]\n",
    "first_two_rows = dataset[:2, :]\n",
    "last_three_columns = dataset[:, -3:]\n",
    "\n",
    "print(\"Original Dataset Matrix:\\n\\n\", dataset)\n",
    "\n",
    "print(\"\\nSliced Submatrix:\\n\\n\", sliced_submatrix)\n",
    "\n",
    "print(\"\\nFirst Two Rows:\\n\\n\", first_two_rows)\n",
    "\n",
    "print(\"\\nLast Three Columns:\\n\\n\", last_three_columns)"
   ]
  },
  {
   "attachments": {},
   "cell_type": "markdown",
   "metadata": {},
   "source": [
    "- Create a slice of the matrix that contains this part of the matrix:\n",
    "\n",
    "<img src=\"http://srv.plab.fi/~tuomasv/data_analytics_2023_images/exercise_set_1/matrix5.png\"/>"
   ]
  },
  {
   "cell_type": "code",
   "execution_count": null,
   "metadata": {},
   "outputs": [],
   "source": [
    "# exercise 1.6b, matrix slicing\n",
    "\n",
    "dataset = np.arange(1, 37).reshape(6, 6)\n",
    "\n",
    "# a slice for the right bottom corner (3x4)\n",
    "right_bottom_slice = dataset[-3:, 2:]\n",
    "\n",
    "print(\"\\nSlice of the right bottom corner (3x4):\")\n",
    "right_bottom_slice"
   ]
  },
  {
   "attachments": {},
   "cell_type": "markdown",
   "metadata": {},
   "source": [
    "- Pick out this column slice from data\n",
    "\n",
    "<img src=\"http://srv.plab.fi/~tuomasv/data_analytics_2023_images/exercise_set_1/series1.png\"/>"
   ]
  },
  {
   "cell_type": "code",
   "execution_count": null,
   "metadata": {},
   "outputs": [],
   "source": [
    "# exercise 1.6c, matrix slicing\n",
    "\n",
    "dataset = np.arange(1, 37).reshape(6, 6)\n",
    "\n",
    "column_slice = dataset[0:4:, 3:4]\n",
    "\n",
    "print(\"\\nPicked Column Slice (4x1):\")\n",
    "column_slice"
   ]
  },
  {
   "attachments": {},
   "cell_type": "markdown",
   "metadata": {},
   "source": [
    "- Pick out this row from the data\n",
    "\n",
    "<img src=\"http://srv.plab.fi/~tuomasv/data_analytics_2023_images/exercise_set_1/series2.png\"/>"
   ]
  },
  {
   "cell_type": "code",
   "execution_count": null,
   "metadata": {},
   "outputs": [],
   "source": [
    "# exercise 1.6d, matrix slicing\n",
    "\n",
    "dataset = np.arange(1, 37).reshape(6, 6)\n",
    "\n",
    "row_slice = dataset[2, :]\n",
    "\n",
    "print(\"\\nPicked Row Slice (1x6):\")\n",
    "row_slice"
   ]
  },
  {
   "attachments": {},
   "cell_type": "markdown",
   "metadata": {},
   "source": [
    "- Pick out these three rows from data:\n",
    "\n",
    "<img src=\"http://srv.plab.fi/~tuomasv/data_analytics_2023_images/exercise_set_1/matrix6.png\"/>"
   ]
  },
  {
   "cell_type": "code",
   "execution_count": null,
   "metadata": {},
   "outputs": [],
   "source": [
    "# exercise 1.6e, matrix slicing\n",
    "\n",
    "dataset = np.arange(1, 37).reshape(6, 6)\n",
    "\n",
    "three_rows_slice = dataset[3:, :]\n",
    "\n",
    "print(\"\\nPicked Three Rows Slice (3x6):\")\n",
    "three_rows_slice"
   ]
  },
  {
   "attachments": {},
   "cell_type": "markdown",
   "metadata": {},
   "source": [
    "<h3><b>7. Use this matrix:</b></h3>\n",
    "\n",
    "<b>dataset_2 = np.arange(1, 50).reshape(7, 7)</b>\n",
    "\n",
    "- Add 50 to all values in the array (use broadcasting)\n",
    "\n",
    "- Get the sum of all values in the dataset\n",
    "\n",
    "- Get sum of only odd numbers in the dataset\n",
    "\n",
    "- Get the standard deviation of the values in the dataset\n",
    "\n",
    "- Get the sum of all values by ROW in the dataset\n",
    "\n",
    "- Get the sum of all values by COLUMN in the dataset (tip, use the axis –parameter)\n",
    "\n",
    "<br>\n",
    "\n",
    "- <b>Extra task:</b> Do the total sum, row sum and column sum exercises <u><b>without</b></u> NumPy in Python!\n",
    "\n",
    "<br>\n",
    "<b>Note:</b> Don't create a new dataset when adding 50 to all values in the array, use the existing one.\n",
    "<br><br>\n",
    "<img src=\"http://srv.plab.fi/~tuomasv/data_analytics_2023_images/exercise_set_1/desktopcomputer.png\"/>\n"
   ]
  },
  {
   "cell_type": "code",
   "execution_count": null,
   "metadata": {},
   "outputs": [],
   "source": [
    "# exercise 1.7, NumPy -operations on a matrix\n",
    "dataset_2 = np.arange(1, 50).reshape(7, 7)\n",
    "\n",
    "# use different variable names for each subtask\n",
    "# you can also make new code cells if you need\n",
    "\n",
    "# add 50 to all values in array (broadcasting)\n",
    "dataset_2 += 50\n",
    "\n",
    "# the sum of all values in the dataset\n",
    "total_sum = np.sum(dataset_2)\n",
    "\n",
    "# the sum of only odd numbers in the dataset\n",
    "odd_sum = np.sum(dataset_2[dataset_2 % 2 != 0])\n",
    "\n",
    "# the standard deviation of the values in the dataset\n",
    "standard_deviation = np.std(dataset_2)\n",
    "\n",
    "# the sum of all values by row in the dataset\n",
    "row_sums = np.sum(dataset_2, axis=1)\n",
    "\n",
    "# the sum of all values by column in the dataset\n",
    "column_sums = np.sum(dataset_2, axis=0)\n",
    "\n",
    "print(\"Modified Dataset (added 50):\\n\\n\", dataset_2)\n",
    "\n",
    "print(\"\\nTotal Sum of All Values in the Dataset:\\n\\n\", total_sum)\n",
    "\n",
    "print(\"\\nTotal Sum of Only Odd Numbers in the Dataset:\\n\\n\", odd_sum)\n",
    "\n",
    "print(\"\\nStandard Deviation of the Values in the Dataset:\\n\\n\", standard_deviation)\n",
    "\n",
    "print(\"\\nSum of All Values by Row in the Dataset:\\n\\n\", row_sums)\n",
    "\n",
    "print(\"\\nTotal Sum of All Values by Column in the Dataset:\\n\\n\", column_sums)\n"
   ]
  },
  {
   "cell_type": "code",
   "execution_count": null,
   "metadata": {},
   "outputs": [],
   "source": [
    "# extra task: without NumPy\n",
    "\n",
    "dataset_2 = np.arange(1, 50).reshape(7, 7)\n",
    "\n",
    "# add 50 to all values\n",
    "for i in range(len(dataset_2)):\n",
    "    for j in range(len(dataset_2[i])):\n",
    "        dataset_2[i][j] += 50\n",
    "\n",
    "# total sum of all values\n",
    "total_sum_without_numpy = sum(sum(row) for row in dataset_2)\n",
    "\n",
    "# sum of only odd numbers\n",
    "odd_sum_without_numpy = sum(num for row in dataset_2 for num in row if num % 2 != 0)\n",
    "\n",
    "# sum of all values by row\n",
    "row_sums_without_numpy = [sum(row) for row in dataset_2]\n",
    "\n",
    "# sum of all values by column\n",
    "columns_sums_without_numpy = [sum(row[i] for row in dataset_2) for i in range(len(dataset_2[0]))]\n",
    "\n",
    "print(\"\\nModified Dataset (added 50) without NumPy:\\n\\n\", dataset_2)\n",
    "\n",
    "print(\"\\nTotal Sum of All Values in the Dataset without NumPy:\\n\\n\", total_sum_without_numpy)\n",
    "\n",
    "print(\"\\nSum of Only Odd Numbers in the Dataset without NumPy:\\n\\n\", odd_sum_without_numpy)\n",
    "\n",
    "print(\"\\nSum of All Values by Row in the Dataset without NumPy:\\n\\n\", row_sums_without_numpy)\n",
    "\n",
    "print(\"\\nSum of All Values by Column in the Dataset without NumPy:\\n\\n\", columns_sums_without_numpy)"
   ]
  },
  {
   "attachments": {},
   "cell_type": "markdown",
   "metadata": {},
   "source": [
    "<br><br>\n",
    "<h2><b>Advanced extra tasks for extra points (varying challenges, some require Googling):</b></h2>"
   ]
  },
  {
   "attachments": {},
   "cell_type": "markdown",
   "metadata": {},
   "source": [
    "<h3><b>1. Create two files for this exercise: save_matrix.py and read_matrix.py</b></h3>\n",
    "\n",
    "- in save_matrix.py: create a 15x15 matrix, and save it to a file (matrix.txt)\n",
    " - in read_matrix.py, read matrix.txt, and convert it back to a NumPy matrix\n",
    "\n",
    "NumPy has loadtxt() and savetxt()-functions for these purposes.\n"
   ]
  },
  {
   "cell_type": "code",
   "execution_count": null,
   "metadata": {},
   "outputs": [],
   "source": [
    "# advanced extra exercise 1\n"
   ]
  },
  {
   "attachments": {},
   "cell_type": "markdown",
   "metadata": {},
   "source": [
    "<h3><b>2. Masked arrays are a feature of NumPy that allow us to deal with pieces data that are incorrect or missing in a dataset (for example, faulty measurements from equipment etc.).</b></h3>\n",
    "\n",
    "Create a NumPy matrix, that contains numbers between 0 to 50, and put some faulty numbers in a 10 different spots \n",
    "(for example: -100)\n",
    "\n",
    "Use a masked array to handle the -100 values in your matrix. Replace every -100 with 0.\n"
   ]
  },
  {
   "cell_type": "code",
   "execution_count": null,
   "metadata": {},
   "outputs": [],
   "source": [
    "# advanced extra exercise 2\n",
    "import numpy.ma as ma\n",
    "\n",
    "# a NumPy matrix with numbers between 0 to 50\n",
    "matrix = np.random.randint(0, 51, size=(5, 10))\n",
    "\n",
    "# faulty numbers represented by -100 in 10 different spots\n",
    "faulty_spots = np.random.choice(np.arange(5*10), size=10,replace=False)\n",
    "matrix.ravel()[faulty_spots] = -100\n",
    "\n",
    "# a masked array to handle the -100 values\n",
    "masked_matrix = ma.masked_equal(matrix, -100)\n",
    "\n",
    "# replace every -100 with 0\n",
    "masked_matrix = ma.filled(masked_matrix, 0)\n",
    "\n",
    "print(\"Original Matrix:\\n\\n\", matrix)\n",
    "\n",
    "print(\"\\nMasked Array with -100 replaced by 0:\\n\\n\", masked_matrix)"
   ]
  },
  {
   "attachments": {},
   "cell_type": "markdown",
   "metadata": {},
   "source": [
    "<h3><b>3. argsort is a feature of NumPy  that allows you to sort a NumPy array based on another NumPy array. </b></h3>\n",
    "\n",
    "This is useful if you have two separate arrays, but their data  should be in sync even if order of data is changed. For example, one array contains the prices of cars, and another contains the manufacturing years. If we wish to sort the data by manufacturing years, and keep the prices in sync as well, argsort will be handy.\n",
    "\n",
    "Useful link:\n",
    "http://arogozhnikov.github.io/2015/09/29/NumpyTipsAndTricks1.html\n",
    "\n",
    "Create two random datasets:\n",
    "\n",
    "- Manufacturing years of 10 cars, values between 2010 and 2020\n",
    "\n",
    "- Selling price of 10 cars, prices between 2000€ and 60000€\n",
    "\n",
    "Use argsort to sort both datasets according to manufacturing years.\n"
   ]
  },
  {
   "cell_type": "code",
   "execution_count": 110,
   "metadata": {},
   "outputs": [
    {
     "name": "stdout",
     "output_type": "stream",
     "text": [
      "Original Manufacturing Years:\n",
      "\n",
      " [2016 2013 2020 2017 2014 2016 2019 2012 2016 2020]\n",
      "\n",
      "Original Selling Prices:\n",
      "\n",
      " [23962 49191 46131 18023 43090  3685  2769 58101  4433  7311]\n",
      "\n",
      "Sorted Manufacturing Years:\n",
      "\n",
      " [2012 2013 2014 2016 2016 2016 2017 2019 2020 2020]\n",
      "\n",
      "Sorted Selling Prices:\n",
      "\n",
      " [58101 49191 43090 23962  3685  4433 18023  2769 46131  7311]\n"
     ]
    }
   ],
   "source": [
    "# advanced extra exercise 3\n",
    "\n",
    "np.random.seed(42)\n",
    "\n",
    "# random manufacturing years of 10 cars (values between 2010 and 2020)\n",
    "manufacturing_years = np.random.randint(2010, 2021, 10)\n",
    "\n",
    "# random selling prices of 10 cars (prices between 2000€ and 60000€)\n",
    "selling_prices = np.random.randint(2000, 60001, 10)\n",
    "\n",
    "# sort both datasets according to manufacturing years (argsort)\n",
    "sorted_indices = np.argsort(manufacturing_years)\n",
    "\n",
    "sorted_manufacturing_years = manufacturing_years[sorted_indices]\n",
    "sorted_selling_prices = selling_prices[sorted_indices]\n",
    "\n",
    "print(\"Original Manufacturing Years:\\n\\n\", manufacturing_years)\n",
    "\n",
    "print(\"\\nOriginal Selling Prices:\\n\\n\", selling_prices)\n",
    "\n",
    "print(\"\\nSorted Manufacturing Years:\\n\\n\", sorted_manufacturing_years)\n",
    "\n",
    "print(\"\\nSorted Selling Prices:\\n\\n\", sorted_selling_prices)"
   ]
  },
  {
   "attachments": {},
   "cell_type": "markdown",
   "metadata": {},
   "source": [
    "<h3><b>4. Try out the following additional NumPy features, and discuss in your code comments or in Jupyter Notebook text where they could be useful. You can also Google and search for ideas where these could be used. </b></h3>\n",
    "\n",
    "You can write your thoughts as comments in the code or Jupyter text as you try out each feature.\n",
    "\n",
    "- np.repeat()\n",
    "\n",
    "- np.ravel()\n",
    "\n",
    "- np.hsplit(), np.vsplit(), np.hstack, np.vstack()\n",
    "\n",
    "- np.transpose()\n",
    "\n",
    "- np.round()\n",
    "\n",
    "- np.expand_dims(), np.squeeze()\n",
    "\n",
    "- np.digitize()\n",
    "\n",
    "\n"
   ]
  },
  {
   "cell_type": "code",
   "execution_count": 113,
   "metadata": {},
   "outputs": [
    {
     "name": "stdout",
     "output_type": "stream",
     "text": [
      "np.repeat() :\n"
     ]
    },
    {
     "data": {
      "text/html": [
       "<table style='border-style:solid;border-width:1px;'>\n",
       "<tr><td style=\"font-family:monospace;white-space: pre;\" title=\"0\"><center>1</center></td></tr>\n",
       "<tr><td style=\"font-family:monospace;white-space: pre;\" title=\"1\"><center>1</center></td></tr>\n",
       "<tr><td style=\"font-family:monospace;white-space: pre;\" title=\"2\"><center>1</center></td></tr>\n",
       "<tr><td style=\"font-family:monospace;white-space: pre;\" title=\"3\"><center>2</center></td></tr>\n",
       "<tr><td style=\"font-family:monospace;white-space: pre;\" title=\"4\"><center>2</center></td></tr>\n",
       "<tr><td style=\"font-family:monospace;white-space: pre;\" title=\"5\"><center>2</center></td></tr>\n",
       "<tr><td style=\"font-family:monospace;white-space: pre;\" title=\"6\"><center>3</center></td></tr>\n",
       "<tr><td style=\"font-family:monospace;white-space: pre;\" title=\"7\"><center>3</center></td></tr>\n",
       "<tr><td style=\"font-family:monospace;white-space: pre;\" title=\"8\"><center>3</center></td></tr>\n",
       "</table>"
      ],
      "text/plain": [
       "array([1, 1, 1, 2, 2, 2, 3, 3, 3])"
      ]
     },
     "execution_count": 113,
     "metadata": {},
     "output_type": "execute_result"
    }
   ],
   "source": [
    "# advanced extra exercise 4\n",
    "\n",
    "# np.repeat() is useful for replicating element in an array\n",
    "test_array = np.array([1, 2, 3])\n",
    "repeated_array = np.repeat(test_array, 3)\n",
    "\n",
    "print(\"np.repeat() :\")\n",
    "repeated_array"
   ]
  },
  {
   "cell_type": "code",
   "execution_count": null,
   "metadata": {},
   "outputs": [],
   "source": [
    "# np.ravel() converts a multi-dimensional array to a flattened 1D array\n",
    "multi_dimensional_array = np.array([[1, 2, 3], [4, 5, 6]])\n",
    "flattened_array = np.ravel(multi_dimensional_array)\n",
    "\n",
    "print(\"np.ravel() :\")\n",
    "flattened_array"
   ]
  },
  {
   "cell_type": "code",
   "execution_count": null,
   "metadata": {},
   "outputs": [],
   "source": [
    "# np.hsplit(), np.vsplit(), np.hstack(), np.vstack() are useful for splitting or stacking arrays vertically or horizontally\n",
    "array_to_split = np.arange(1, 13).reshape(3, 4)\n",
    "\n",
    "split_horizontal = np.hsplit(array_to_split, 2)\n",
    "split_vertical = np.vsplit(array_to_split, 3)\n",
    "\n",
    "stack_horizontal = np.hstack((split_horizontal[0], split_horizontal[1]))\n",
    "stack_vertical = np.vstack((split_vertical[0], split_vertical[1], split_vertical[2]))\n",
    "\n",
    "print(\"\\nOriginal Array:\\n\\n\", array_to_split)\n",
    "\n",
    "print(\"\\nnp.hsplit(), np.vsplit(), np.hstack(), np.vstack():\")\n",
    "\n",
    "print(\"\\nSplit Horizontal:\\n\\n\", split_horizontal)\n",
    "\n",
    "print(\"\\nSplit Vertical:\\n\\n\", split_vertical)\n",
    "\n",
    "print(\"\\nStack Horizontal:\\n\\n\", stack_horizontal)\n",
    "\n",
    "print(\"\\nStack Vertical:\\n\\n\", stack_vertical)"
   ]
  },
  {
   "cell_type": "code",
   "execution_count": null,
   "metadata": {},
   "outputs": [],
   "source": [
    "# np.transpose() is used as a multi-dimensional array\n",
    "array_to_transpose = np.array([[1, 2, 3], [4, 5, 6]])\n",
    "transposed_array = np.transpose(array_to_transpose)\n",
    "\n",
    "print(\"np.transpose():\\n\\n\", transposed_array)"
   ]
  },
  {
   "cell_type": "code",
   "execution_count": null,
   "metadata": {},
   "outputs": [],
   "source": [
    "# np.round() is used to round elements of an array to the nearest integer\n",
    "array_to_round = np.array([1.23, 2.58, 3.91])\n",
    "rounded_array = np.round(array_to_round)\n",
    "\n",
    "print(\"np.round():\\n\\n\", rounded_array)"
   ]
  },
  {
   "cell_type": "code",
   "execution_count": null,
   "metadata": {},
   "outputs": [],
   "source": [
    "# np.expand_dims() is used to expand dimensions of an array\n",
    "# np.squeeze() is used to squeeze dimensions of an array\n",
    "array_to_expand_dimensions = np.array([1, 2, 3])\n",
    "expanded_array = np.expand_dims(array_to_expand_dimensions, axis=1)\n",
    "\n",
    "array_to_squeeze_dimensions = np.array([[[1], [2], [3]]])\n",
    "squeezed_array = np.squeeze(array_to_squeeze_dimensions, axis=0)\n",
    "\n",
    "print(\"np.expand_dims() & np.squeeze():\")\n",
    "\n",
    "print(\"\\nOriginal Array:\\n\\n\", array_to_expand_dimensions)\n",
    "\n",
    "print(\"\\nExpanded Array:\\n\\n\", expanded_array)\n",
    "\n",
    "print(\"\\nSqueezed Array:\\n\\n\", squeezed_array)"
   ]
  },
  {
   "cell_type": "code",
   "execution_count": null,
   "metadata": {},
   "outputs": [],
   "source": [
    "# np.digitize() returns the indices of the bins to which each value in the input array belongs\n",
    "array_to_digitize = np.array([1.5, 2.5, 5.5, 8.5])\n",
    "bins = np.array([1, 3, 5, 7])\n",
    "digitized_array = np.digitize(array_to_digitize, bins)\n",
    "\n",
    "print(\"np.digitize():\\n\\n\", digitized_array)"
   ]
  }
 ],
 "metadata": {
  "kernelspec": {
   "display_name": ".venv",
   "language": "python",
   "name": "python3"
  },
  "language_info": {
   "codemirror_mode": {
    "name": "ipython",
    "version": 3
   },
   "file_extension": ".py",
   "mimetype": "text/x-python",
   "name": "python",
   "nbconvert_exporter": "python",
   "pygments_lexer": "ipython3",
   "version": "3.11.5"
  },
  "orig_nbformat": 4,
  "vscode": {
   "interpreter": {
    "hash": "7b393597a1a01400f99fd0b0bd7e53e32f7c09a6c4e3f1d7dcfe73f5e3a50c61"
   }
  }
 },
 "nbformat": 4,
 "nbformat_minor": 2
}
