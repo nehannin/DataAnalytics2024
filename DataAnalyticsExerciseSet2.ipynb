{
 "cells": [
  {
   "attachments": {},
   "cell_type": "markdown",
   "metadata": {},
   "source": [
    "<h3><b>Introduction to Data Analytics - Exercise set 2 - pandas-module</b></h3>"
   ]
  },
  {
   "attachments": {},
   "cell_type": "markdown",
   "metadata": {},
   "source": [
    "Put all your exercises (Jupyter Notebooks or Python-files) in your course Git-project.\n",
    "Use either code comments or Jupyter Notebook markdown (text) to document which exercise you are doing and what a certain code section does! \n",
    "You can return all of these exercises in a single Jupyter Notebook, if you wish."
   ]
  },
  {
   "attachments": {},
   "cell_type": "markdown",
   "metadata": {},
   "source": [
    "<b>The datasets for these exercises have been collected from kaggle.com<br />\n",
    "(a service providing different datasets for practice)</b>\n",
    "\n",
    "<img src=\"http://srv.plab.fi/~tuomasv/data_analytics_2023_images/exercise_set_2/es2_1.png\" />"
   ]
  },
  {
   "attachments": {},
   "cell_type": "markdown",
   "metadata": {},
   "source": [
    "<h4><b>1. import pandas and read the csv-file found in Moodle (loans.csv). Use Python coding with pandas to answer the questions.</b></h4>\n"
   ]
  },
  {
   "cell_type": "code",
   "execution_count": 257,
   "metadata": {},
   "outputs": [],
   "source": [
    "# you can import numpy and pandas here\n",
    "# and also load the needed csv-file\n",
    "\n",
    "import pandas as pd\n",
    "import numpy as np\n",
    "\n",
    "file_path = 'loans.csv'\n",
    "df = pd.read_csv(file_path)\n",
    "\n",
    "file_path_purchases = 'purchases.csv'\n",
    "df_purchases = pd.read_csv(file_path_purchases)\n",
    "\n",
    "file_path_india = 'data_salaries_india.csv'\n",
    "df_india = pd.read_csv(file_path_india)"
   ]
  },
  {
   "attachments": {},
   "cell_type": "markdown",
   "metadata": {},
   "source": [
    "<li>Remove the Customer ID –column from data</li>\n",
    "<li>Print the head of the data</li>"
   ]
  },
  {
   "cell_type": "code",
   "execution_count": 258,
   "metadata": {},
   "outputs": [
    {
     "name": "stdout",
     "output_type": "stream",
     "text": [
      "                                Loan ID Loan Status  Current Loan Amount  \\\n",
      "0  14dd8831-6af5-400b-83ec-68e61888a048  Fully Paid             445412.0   \n",
      "1  4771cc26-131a-45db-b5aa-537ea4ba5342  Fully Paid             262328.0   \n",
      "2  4eed4e6a-aa2f-4c91-8651-ce984ee8fb26  Fully Paid           99999999.0   \n",
      "3  77598f7b-32e7-4e3b-a6e5-06ba0d98fe8a  Fully Paid             347666.0   \n",
      "4  d4062e70-befa-4995-8643-a0de73938182  Fully Paid             176220.0   \n",
      "\n",
      "         Term  Credit Score  Annual Income Years in current job  \\\n",
      "0  Short Term         709.0      1167493.0              8 years   \n",
      "1  Short Term           NaN            NaN            10+ years   \n",
      "2  Short Term         741.0      2231892.0              8 years   \n",
      "3   Long Term         721.0       806949.0              3 years   \n",
      "4  Short Term           NaN            NaN              5 years   \n",
      "\n",
      "  Home Ownership             Purpose  Monthly Debt  Years of Credit History  \\\n",
      "0  Home Mortgage   Home Improvements       5214.74                     17.2   \n",
      "1  Home Mortgage  Debt Consolidation      33295.98                     21.1   \n",
      "2       Own Home  Debt Consolidation      29200.53                     14.9   \n",
      "3       Own Home  Debt Consolidation       8741.90                     12.0   \n",
      "4           Rent  Debt Consolidation      20639.70                      6.1   \n",
      "\n",
      "   Months since last delinquent  Number of Open Accounts  \\\n",
      "0                           NaN                      6.0   \n",
      "1                           8.0                     35.0   \n",
      "2                          29.0                     18.0   \n",
      "3                           NaN                      9.0   \n",
      "4                           NaN                     15.0   \n",
      "\n",
      "   Number of Credit Problems  Current Credit Balance  Maximum Open Credit  \\\n",
      "0                        1.0                228190.0             416746.0   \n",
      "1                        0.0                229976.0             850784.0   \n",
      "2                        1.0                297996.0             750090.0   \n",
      "3                        0.0                256329.0             386958.0   \n",
      "4                        0.0                253460.0             427174.0   \n",
      "\n",
      "   Bankruptcies  Tax Liens  \n",
      "0           1.0        0.0  \n",
      "1           0.0        0.0  \n",
      "2           0.0        0.0  \n",
      "3           0.0        0.0  \n",
      "4           0.0        0.0  \n"
     ]
    }
   ],
   "source": [
    "# remove the column and print out the head of the DataFrame\n",
    "\n",
    "# remove the Customer ID -column\n",
    "df = df.drop(columns=['Customer ID'])\n",
    "\n",
    "# print the head of the data\n",
    "print(df.head())"
   ]
  },
  {
   "attachments": {},
   "cell_type": "markdown",
   "metadata": {},
   "source": [
    "<ul>\n",
    "    <li>Remove rows from the data that have <b style=\"color: red;\">a too large of a loan</b> (Current Loan Amount should be less than 99999999)</li>\n",
    "    <ul>\n",
    "        <li><b>Tip:</b> use filtering!</li>\n",
    "    </ul>\n",
    "</ul>"
   ]
  },
  {
   "cell_type": "code",
   "execution_count": 259,
   "metadata": {},
   "outputs": [
    {
     "name": "stdout",
     "output_type": "stream",
     "text": [
      "Number of rows before filtering: 100514\n",
      "Number of rows after filtering: 88516\n"
     ]
    }
   ],
   "source": [
    "# remove loans that are too large\n",
    "\n",
    "print(f\"Number of rows before filtering: {len(df)}\")\n",
    "\n",
    "df = df[df['Current Loan Amount'] < 99999999]\n",
    "print(f\"Number of rows after filtering: {len(df)}\")"
   ]
  },
  {
   "attachments": {},
   "cell_type": "markdown",
   "metadata": {},
   "source": [
    "<ul>\n",
    "    <li>Remove rows that have the annual income as NaN (not a number)</li>\n",
    "    <ul>\n",
    "        <li><b>Extra task:</b> use imputation to use average income as the value instead of NaN</li>\n",
    "    </ul>\n",
    "</ul>"
   ]
  },
  {
   "cell_type": "code",
   "execution_count": 260,
   "metadata": {},
   "outputs": [
    {
     "name": "stdout",
     "output_type": "stream",
     "text": [
      "Number of rows before removing NaN values: 88516\n",
      "Number of rows after removing NaN values: 69362\n"
     ]
    }
   ],
   "source": [
    "# remove rows if annual income is NaN\n",
    "\n",
    "print(f\"Number of rows before removing NaN values: {len(df)}\")\n",
    "\n",
    "df = df.dropna(subset=['Annual Income'])\n",
    "print(f\"Number of rows after removing NaN values: {len(df)}\")"
   ]
  },
  {
   "cell_type": "code",
   "execution_count": 261,
   "metadata": {},
   "outputs": [
    {
     "name": "stdout",
     "output_type": "stream",
     "text": [
      "0        1167493.0\n",
      "3         806949.0\n",
      "5         896857.0\n",
      "6        1184194.0\n",
      "8        2559110.0\n",
      "           ...    \n",
      "99993    1152426.0\n",
      "99994     783389.0\n",
      "99995     475437.0\n",
      "99997    1150545.0\n",
      "99998    1717524.0\n",
      "Name: Annual Income, Length: 69362, dtype: float64\n"
     ]
    }
   ],
   "source": [
    "# extra task : use imputation to use average income as the value instead of NaN\n",
    "\n",
    "average_income = df['Annual Income'].mean()\n",
    "df['Annual Income'] = df['Annual Income'].fillna(average_income)\n",
    "print(df['Annual Income'])"
   ]
  },
  {
   "attachments": {},
   "cell_type": "markdown",
   "metadata": {},
   "source": [
    "<li>Get the average Current Loan Amount</li>"
   ]
  },
  {
   "cell_type": "code",
   "execution_count": 262,
   "metadata": {},
   "outputs": [
    {
     "name": "stdout",
     "output_type": "stream",
     "text": [
      "The average Current Loan Amount is: 314293.18\n"
     ]
    }
   ],
   "source": [
    "# get the average current loan\n",
    "\n",
    "average_loan_amount = df['Current Loan Amount'].mean()\n",
    "\n",
    "# round the average loan amount to two decimal places\n",
    "average_loan_amount_rounded = round(average_loan_amount, 2)\n",
    "\n",
    "print(f\"The average Current Loan Amount is: {average_loan_amount_rounded}\")"
   ]
  },
  {
   "attachments": {},
   "cell_type": "markdown",
   "metadata": {},
   "source": [
    "<li>Get the highest and lowest Annual Income in the dataset</li>"
   ]
  },
  {
   "cell_type": "code",
   "execution_count": 263,
   "metadata": {},
   "outputs": [
    {
     "name": "stdout",
     "output_type": "stream",
     "text": [
      "The highest Annual Income is: 165557393.0\n",
      "The lowest Annual Income is: 76627.0\n"
     ]
    }
   ],
   "source": [
    "# get highest and lowest annual income in dataset\n",
    "\n",
    "highest_income = df['Annual Income'].max()\n",
    "lowest_income = df['Annual Income'].min()\n",
    "\n",
    "print(f\"The highest Annual Income is: {highest_income}\")\n",
    "print(f\"The lowest Annual Income is: {lowest_income}\")"
   ]
  },
  {
   "attachments": {},
   "cell_type": "markdown",
   "metadata": {},
   "source": [
    "<li>Get the Home Ownership value of the <b>Loan ID = bbf87a87-22cd-4d10-bd9b-7a9cc1b6e59d</b></li>"
   ]
  },
  {
   "cell_type": "code",
   "execution_count": 264,
   "metadata": {},
   "outputs": [
    {
     "name": "stdout",
     "output_type": "stream",
     "text": [
      "The Home Ownership value for Loan ID bbf87a87-22cd-4d10-bd9b-7a9cc1b6e59d is: Own Home\n"
     ]
    }
   ],
   "source": [
    "# get the needed value with the Loan ID\n",
    "\n",
    "target_loan_id = 'bbf87a87-22cd-4d10-bd9b-7a9cc1b6e59d'\n",
    "loan_row = df[df['Loan ID'] == target_loan_id]\n",
    "home_ownership_value = loan_row['Home Ownership'].values[0]\n",
    "\n",
    "print(f\"The Home Ownership value for Loan ID {target_loan_id} is: {home_ownership_value}\")"
   ]
  },
  {
   "attachments": {},
   "cell_type": "markdown",
   "metadata": {},
   "source": [
    "<li>Create a new field into your dataset called <b>Actual Annual Income</b>.</li>\n",
    "<br><b>Note:</b> The Actual Annual Income follow this formula:<br>\n",
    "<b style=\"color: green\">Annual Income – 12 * Monthly Debt</b><br><br>\n"
   ]
  },
  {
   "cell_type": "code",
   "execution_count": 265,
   "metadata": {},
   "outputs": [
    {
     "name": "stdout",
     "output_type": "stream",
     "text": [
      "0        1104916.12\n",
      "3         702046.20\n",
      "5         700444.12\n",
      "6        1053933.04\n",
      "8        2335186.64\n",
      "            ...    \n",
      "99993    1077058.32\n",
      "99994     738657.68\n",
      "99995     449002.68\n",
      "99997    1062758.16\n",
      "99998    1598843.16\n",
      "Name: Actual Annual Income, Length: 69362, dtype: float64\n"
     ]
    }
   ],
   "source": [
    "# create a new field for Actual Annual income (annual income - 12 * monthly debt)\n",
    "\n",
    "df['Actual Annual Income'] = df['Annual Income'] - 12 * df['Monthly Debt']\n",
    "print(df['Actual Annual Income'])"
   ]
  },
  {
   "cell_type": "markdown",
   "metadata": {},
   "source": [
    "<li>Get the Actual Annual Income of the loan with the <b>ID = 76fa89b9-e6a8-49af-afa1-8151315aba8e</b></li>"
   ]
  },
  {
   "cell_type": "code",
   "execution_count": 266,
   "metadata": {},
   "outputs": [
    {
     "name": "stdout",
     "output_type": "stream",
     "text": [
      "The Actual Annual Income for Loan ID 76fa89b9-e6a8-49af-afa1-8151315aba8e is : 109     674234.76\n",
      "2216    674234.76\n",
      "Name: Monthly Debt, dtype: float64\n"
     ]
    }
   ],
   "source": [
    "# get the Actual Annual income for the needed ID\n",
    "\n",
    "actual_annual_income_target_id = '76fa89b9-e6a8-49af-afa1-8151315aba8e'\n",
    "target_loan_row = df[df['Loan ID'] == actual_annual_income_target_id]\n",
    "\n",
    "actual_annual_income = target_loan_row['Annual Income'].values[0] - 12 * target_loan_row['Monthly Debt']\n",
    "print(f\"The Actual Annual Income for Loan ID {actual_annual_income_target_id} is : {actual_annual_income}\")"
   ]
  },
  {
   "attachments": {},
   "cell_type": "markdown",
   "metadata": {},
   "source": [
    "<li>Get the Loan ID of the loan with the smallest Actual Annual Income </li>"
   ]
  },
  {
   "cell_type": "code",
   "execution_count": 267,
   "metadata": {},
   "outputs": [
    {
     "name": "stdout",
     "output_type": "stream",
     "text": [
      "The Loan ID with the lowest Actual Annual Income is: fdda52f3-bbfa-45da-80b5-2bd9b68638ed\n"
     ]
    }
   ],
   "source": [
    "# get loan ID of lowest actual annual income\n",
    "\n",
    "df['Actual Annual Income'] = df['Annual Income'] - 12 * df['Monthly Debt']\n",
    "\n",
    "min_actual_income_index = df['Actual Annual Income'].idxmin()\n",
    "loan_id_with_lowest_income = df.at[min_actual_income_index, 'Loan ID']\n",
    "\n",
    "print(f\"The Loan ID with the lowest Actual Annual Income is: {loan_id_with_lowest_income}\")"
   ]
  },
  {
   "attachments": {},
   "cell_type": "markdown",
   "metadata": {},
   "source": [
    "<li>How many loans are \"Long term\"?</li>"
   ]
  },
  {
   "cell_type": "code",
   "execution_count": 268,
   "metadata": {},
   "outputs": [
    {
     "name": "stdout",
     "output_type": "stream",
     "text": [
      "Number of loans classified as Long Term: 20789\n"
     ]
    }
   ],
   "source": [
    "# produce code that shows many loans are long term\n",
    "\n",
    "long_term_loans = df[df['Term'] == 'Long Term']\n",
    "num_long_term_loans = len(long_term_loans)\n",
    "\n",
    "print(f\"Number of loans classified as Long Term: {num_long_term_loans}\")"
   ]
  },
  {
   "attachments": {},
   "cell_type": "markdown",
   "metadata": {},
   "source": [
    "<li>How many loaners have more than 1 bankruptcy?</li>"
   ]
  },
  {
   "cell_type": "code",
   "execution_count": 269,
   "metadata": {},
   "outputs": [
    {
     "name": "stdout",
     "output_type": "stream",
     "text": [
      "Number of loaners with more than 1 bankruptcy: 372\n"
     ]
    }
   ],
   "source": [
    "# produce code that shows how many loaners have more than 1 bankruptcy\n",
    "\n",
    "multiple_bankruptcies = df[df['Bankruptcies'] > 1]\n",
    "num_loaners_with_multiple_bankruptcies = len(multiple_bankruptcies)\n",
    "\n",
    "print(f\"Number of loaners with more than 1 bankruptcy: {num_loaners_with_multiple_bankruptcies}\")"
   ]
  },
  {
   "attachments": {},
   "cell_type": "markdown",
   "metadata": {},
   "source": [
    "<li>How many Short Term loans are for Home Improvements?</li>"
   ]
  },
  {
   "cell_type": "code",
   "execution_count": 270,
   "metadata": {},
   "outputs": [
    {
     "name": "stdout",
     "output_type": "stream",
     "text": [
      "Number of Short Term loans for Home Improvements: 2657\n"
     ]
    }
   ],
   "source": [
    "# produce code that shows how many of the Short Term loans are for Home Improvements\n",
    "\n",
    "short_term_home_improvements = df[(df['Term'] == 'Short Term') & (df['Purpose'] == 'Home Improvements')]\n",
    "num_short_term_home_improvements = len(short_term_home_improvements)\n",
    "\n",
    "print(f\"Number of Short Term loans for Home Improvements: {num_short_term_home_improvements}\")"
   ]
  },
  {
   "attachments": {},
   "cell_type": "markdown",
   "metadata": {},
   "source": [
    "<li>How many unique loan purposes are there?</li>"
   ]
  },
  {
   "cell_type": "code",
   "execution_count": 271,
   "metadata": {},
   "outputs": [
    {
     "name": "stdout",
     "output_type": "stream",
     "text": [
      "Number of unique loan purposes: 16\n",
      "\n",
      "Unique loan purposes:\n",
      "['Home Improvements' 'Debt Consolidation' 'Buy House' 'other'\n",
      " 'major_purchase' 'Take a Trip' 'Other' 'Business Loan' 'Buy a Car'\n",
      " 'small_business' 'Medical Bills' 'vacation' 'Educational Expenses'\n",
      " 'wedding' 'moving' 'renewable_energy']\n"
     ]
    }
   ],
   "source": [
    "# produce code that shows how many unique loan purposes there are\n",
    "\n",
    "num_unique_purposes = df['Purpose'].nunique()\n",
    "\n",
    "print(f\"Number of unique loan purposes: {num_unique_purposes}\")\n",
    "\n",
    "unique_purposes = df['Purpose'].unique()\n",
    "print(\"\\nUnique loan purposes:\")\n",
    "print(unique_purposes)"
   ]
  },
  {
   "attachments": {},
   "cell_type": "markdown",
   "metadata": {},
   "source": [
    "<li>What are the 3 most common loan purposes?</li>"
   ]
  },
  {
   "cell_type": "code",
   "execution_count": 272,
   "metadata": {},
   "outputs": [
    {
     "name": "stdout",
     "output_type": "stream",
     "text": [
      "The 3 most common loan purposes:\n",
      "Purpose\n",
      "Debt Consolidation    54268\n",
      "other                  4389\n",
      "Home Improvements      4005\n",
      "Name: count, dtype: int64\n"
     ]
    }
   ],
   "source": [
    "# produce code that shows the 3 most common loan purposes\n",
    "\n",
    "top_three_purposes = df['Purpose'].value_counts().head(3)\n",
    "\n",
    "print(\"The 3 most common loan purposes:\")\n",
    "print(top_three_purposes)"
   ]
  },
  {
   "attachments": {},
   "cell_type": "markdown",
   "metadata": {},
   "source": [
    "<li>Is there a correlation between <b>Annual Income</b> and <b>Number of Open Accounts</b> or is there a correlation between <b>Number of Credit Problems</b> and <b>Bankruptcies</b>?</li>"
   ]
  },
  {
   "cell_type": "code",
   "execution_count": 273,
   "metadata": {},
   "outputs": [
    {
     "name": "stdout",
     "output_type": "stream",
     "text": [
      "Correlation between Annual Income and Number of Open Accounts: 0.1429291370755945\n",
      "Correlation between Number of Credit Problems and Bankruptcies: 0.747454923534903\n",
      "There is no strong correlation between Annual Income and Number of Open Accounts\n",
      "There is a moderate to strong correlation between Number of Credit Problems and Bankruptcies\n"
     ]
    }
   ],
   "source": [
    "# produce code that shows which correlation statement is true\n",
    "\n",
    "# calculate correlation between Annual Income and Number of Open Accounts\n",
    "correlation_income_open_accounts = df['Annual Income'].corr(df['Number of Open Accounts'])\n",
    "\n",
    "# calulate correlation between Number of Credit Problems and Bankruptcies\n",
    "correlation_credit_problems_bankruptcies = df['Number of Credit Problems'].corr(df['Bankruptcies'])\n",
    "\n",
    "print(f\"Correlation between Annual Income and Number of Open Accounts: {correlation_income_open_accounts}\")\n",
    "print(f\"Correlation between Number of Credit Problems and Bankruptcies: {correlation_credit_problems_bankruptcies}\")\n",
    "\n",
    "# check the correlation\n",
    "if abs(correlation_income_open_accounts) > 0.5:\n",
    "    print(\"There is a moderate to strong correlation between Annual Income and Number of Open Accoutns\")\n",
    "else:\n",
    "    print(\"There is no strong correlation between Annual Income and Number of Open Accounts\")\n",
    "\n",
    "if abs(correlation_credit_problems_bankruptcies) > 0.5:\n",
    "    print(\"There is a moderate to strong correlation between Number of Credit Problems and Bankruptcies\")\n",
    "else:\n",
    "    print(\"There is no strong correlation between Number of Credit Problems and Bankruptcies\")"
   ]
  },
  {
   "attachments": {},
   "cell_type": "markdown",
   "metadata": {},
   "source": [
    "<h4><b>2. Download the purchases.csv from Moodle, and do the following observations:</b></h4>\n"
   ]
  },
  {
   "attachments": {},
   "cell_type": "markdown",
   "metadata": {},
   "source": [
    "<li>What was the total price sum of the Purchase Order Number 018H2015? (14 rows in total)</li>"
   ]
  },
  {
   "cell_type": "code",
   "execution_count": 274,
   "metadata": {},
   "outputs": [
    {
     "name": "stdout",
     "output_type": "stream",
     "text": [
      "Total price sum of Purchase Order Number 018H2015: 1245.04\n"
     ]
    }
   ],
   "source": [
    "# produce the code that gets the needed total price sum\n",
    "\n",
    "purchase_018H2015 = df_purchases[df_purchases['Purchase Order Number'] == '018H2015']\n",
    "\n",
    "total_price_sum = purchase_018H2015['Total Price'].sum()\n",
    "\n",
    "# round to two decimal places\n",
    "total_price_sum_rounded = round(total_price_sum, 2)\n",
    "\n",
    "print(\"Total price sum of Purchase Order Number 018H2015:\", total_price_sum_rounded)"
   ]
  },
  {
   "attachments": {},
   "cell_type": "markdown",
   "metadata": {},
   "source": [
    "<li>What is the name and description of the purchased item with the Purchase Order Number 3176273?</li>"
   ]
  },
  {
   "cell_type": "code",
   "execution_count": 275,
   "metadata": {},
   "outputs": [
    {
     "name": "stdout",
     "output_type": "stream",
     "text": [
      "No items found with Purchase Order Number '3176273'\n"
     ]
    }
   ],
   "source": [
    "# produce the code that gets the needed name and description\n",
    "\n",
    "purchase_3176273 = df_purchases[df_purchases['Purchase Order Number'] == 3176273]\n",
    "\n",
    "if not purchase_3176273.empty:\n",
    "    # extract the name and description columns\n",
    "    name = purchase_3176273['Item Name'].iloc[0]\n",
    "    description = purchase_3176273['Item Description'].iloc[0]\n",
    "\n",
    "    print(\"Name of the purchased item:\", name)\n",
    "    print(\"Description of the purchased item:\", description)\n",
    "\n",
    "else:\n",
    "    print(\"No items found with Purchase Order Number '3176273'\")"
   ]
  },
  {
   "attachments": {},
   "cell_type": "markdown",
   "metadata": {},
   "source": [
    "<li>How many occasions (rows) of purchase data happened during the year 2013?</li>"
   ]
  },
  {
   "cell_type": "code",
   "execution_count": 276,
   "metadata": {},
   "outputs": [
    {
     "name": "stdout",
     "output_type": "stream",
     "text": [
      "Number of rows of purchase data in 2013: 34024\n"
     ]
    }
   ],
   "source": [
    "# produce the code that filters the needed data for year 2013\n",
    "\n",
    "df_purchases['Purchase Date'] = pd.to_datetime(df_purchases['Purchase Date'], errors='coerce')\n",
    "purchase_data_2013 = df_purchases[df_purchases['Purchase Date'].dt.year == 2013]\n",
    "num_purchases_2013 = purchase_data_2013.shape[0]\n",
    "\n",
    "print(\"Number of rows of purchase data in 2013:\", num_purchases_2013)"
   ]
  },
  {
   "attachments": {},
   "cell_type": "markdown",
   "metadata": {},
   "source": [
    "<ul><li>What are the 5 most common Departments in the data?</li>\n",
    "<ul><li><b>Extra task: </b>What are 3 Departments using most money in the data?</li></ul>\n",
    "</ul>"
   ]
  },
  {
   "cell_type": "code",
   "execution_count": 277,
   "metadata": {},
   "outputs": [
    {
     "name": "stdout",
     "output_type": "stream",
     "text": [
      "5 most common Departments:\n",
      "Department Name\n",
      "Corrections and Rehabilitation, Department of    10891\n",
      "Correctional Health Care Services                 6593\n",
      "Water Resources, Department of                    4582\n",
      "Forestry and Fire Protection, Department of       4526\n",
      "State Hospitals, Department of                    4281\n",
      "Name: count, dtype: int64\n"
     ]
    }
   ],
   "source": [
    "# produce the code that gtest the needed most common departments\n",
    "\n",
    "top_5_departments = df_purchases['Department Name'].value_counts().head(5)\n",
    "\n",
    "print(\"5 most common Departments:\")\n",
    "print(top_5_departments)"
   ]
  },
  {
   "attachments": {},
   "cell_type": "markdown",
   "metadata": {},
   "source": [
    "<li>Sort the data by Department Name</li>"
   ]
  },
  {
   "cell_type": "code",
   "execution_count": 278,
   "metadata": {},
   "outputs": [
    {
     "name": "stdout",
     "output_type": "stream",
     "text": [
      "Sorted data by department name:\n",
      "      Creation Date Purchase Date Fiscal Year LPA Number  \\\n",
      "6        11/30/2012    2012-06-15   2012-2013        NaN   \n",
      "519      11/30/2012    2012-06-15   2012-2013        NaN   \n",
      "20018    11/30/2012    2012-06-15   2012-2013        NaN   \n",
      "31381    02/21/2013    2013-03-20   2012-2013        NaN   \n",
      "27820    01/03/2013    2011-02-14   2012-2013        NaN   \n",
      "...             ...           ...         ...        ...   \n",
      "24826    12/17/2012    2012-12-15   2012-2013        NaN   \n",
      "49068    06/13/2013    2013-06-12   2012-2013        NaN   \n",
      "49069    03/26/2014    2014-03-25   2013-2014        NaN   \n",
      "49057    06/13/2013    2013-06-12   2012-2013        NaN   \n",
      "44469    05/07/2013    2013-05-01   2012-2013        NaN   \n",
      "\n",
      "      Purchase Order Number  Requisition Number Acquisition Type  \\\n",
      "6                   11OAL07                 NaN     NON-IT Goods   \n",
      "519                 11OAL09                 NaN     NON-IT Goods   \n",
      "20018               11OAL10                 NaN     NON-IT Goods   \n",
      "31381              11-12201                 NaN  NON-IT Services   \n",
      "27820              11-12175                 NaN  NON-IT Services   \n",
      "...                     ...                 ...              ...   \n",
      "24826            4500192615                 NaN     NON-IT Goods   \n",
      "49068            4500199013                 NaN         IT Goods   \n",
      "49069            4500208992                 NaN     NON-IT Goods   \n",
      "49057            4500199013                 NaN         IT Goods   \n",
      "44469            4500197248                 NaN     NON-IT Goods   \n",
      "\n",
      "         Acquisition Method                      Department Name  \\\n",
      "6                       NCB        Administrative Law, Office of   \n",
      "519                     NCB        Administrative Law, Office of   \n",
      "20018                   NCB        Administrative Law, Office of   \n",
      "31381  Informal Competitive  African American Museum, California   \n",
      "27820  Informal Competitive  African American Museum, California   \n",
      "...                     ...                                  ...   \n",
      "24826    Formal Competitive       Water Resources, Department of   \n",
      "49068  Informal Competitive       Water Resources, Department of   \n",
      "49069        State Programs       Water Resources, Department of   \n",
      "49057  Informal Competitive       Water Resources, Department of   \n",
      "44469        State Programs       Water Resources, Department of   \n",
      "\n",
      "       Supplier Code  ... Classification Codes Normalized UNSPSC  \\\n",
      "6          1001493.0  ...             55101524        55101524.0   \n",
      "519        1657720.0  ...             55101524        55101524.0   \n",
      "20018      1657720.0  ...             55101524        55101524.0   \n",
      "31381         7341.0  ...             82101801        82101801.0   \n",
      "27820      1749414.0  ...             78141501        78141501.0   \n",
      "...              ...  ...                  ...               ...   \n",
      "24826        16299.0  ...   27131603\\n40141605        27131603.0   \n",
      "49068      1016373.0  ...             43232605        43232605.0   \n",
      "49069      1743406.0  ...             15101506        15101506.0   \n",
      "49057      1016373.0  ...             81112217        81112217.0   \n",
      "44469      1743406.0  ...             78180301        78180301.0   \n",
      "\n",
      "                              Commodity Title       Class  \\\n",
      "6                             Reference books  55101500.0   \n",
      "519                           Reference books  55101500.0   \n",
      "20018                         Reference books  55101500.0   \n",
      "31381           Advertising campaign services  82101800.0   \n",
      "27820             Freight forwarders services  78141500.0   \n",
      "...                                       ...         ...   \n",
      "24826                          Air regulators  27131600.0   \n",
      "49068       Analytical or scientific software  43232600.0   \n",
      "49069                      Gasoline or Petrol  15101500.0   \n",
      "49057  Industry specific software maintenance  81112200.0   \n",
      "44469                    Fuelling of vehicles  78180300.0   \n",
      "\n",
      "                                             Class Title      Family  \\\n",
      "6                                   Printed publications  55100000.0   \n",
      "519                                 Printed publications  55100000.0   \n",
      "20018                               Printed publications  55100000.0   \n",
      "31381                        Advertising agency services  82100000.0   \n",
      "27820                       Transport arranging services  78140000.0   \n",
      "...                                                  ...         ...   \n",
      "24826                        Air fittings and connectors  27130000.0   \n",
      "49068                         Industry specific software  43230000.0   \n",
      "49069                          Petroleum and distillates  15100000.0   \n",
      "49057                   Software maintenance and support  81110000.0   \n",
      "44469  Transport fuelling and vehicle storage and sup...  78180000.0   \n",
      "\n",
      "                                        Family Title     Segment  \\\n",
      "6                                      Printed media  55000000.0   \n",
      "519                                    Printed media  55000000.0   \n",
      "20018                                  Printed media  55000000.0   \n",
      "31381                                    Advertising  82000000.0   \n",
      "27820                             Transport services  78000000.0   \n",
      "...                                              ...         ...   \n",
      "24826              Pneumatic machinery and equipment  27000000.0   \n",
      "49068                                       Software  43000000.0   \n",
      "49069                                          Fuels  15000000.0   \n",
      "49057                              Computer services  81000000.0   \n",
      "44469  Transportation repair or maintenance services  78000000.0   \n",
      "\n",
      "                                           Segment Title  \\\n",
      "6                                     Published Products   \n",
      "519                                   Published Products   \n",
      "20018                                 Published Products   \n",
      "31381  Editorial and Design and Graphic and Fine Art ...   \n",
      "27820       Transportation and Storage and Mail Services   \n",
      "...                                                  ...   \n",
      "24826                        Tools and General Machinery   \n",
      "49068  Information Technology Broadcasting and Teleco...   \n",
      "49069  Fuels and Fuel Additives and Lubricants and An...   \n",
      "49057  Engineering and Research and Technology Based ...   \n",
      "44469       Transportation and Storage and Mail Services   \n",
      "\n",
      "                              Location  \n",
      "6       95833\\n(38.615723, -121.50562)  \n",
      "519     55123\\n(44.807169, -93.136157)  \n",
      "20018   55123\\n(44.807169, -93.136157)  \n",
      "31381    90017\\n(34.052895, -118.2642)  \n",
      "27820                              NaN  \n",
      "...                                ...  \n",
      "24826  93390\\n(35.373405, -119.018911)  \n",
      "49068                           1760\\n  \n",
      "49069                              NaN  \n",
      "49057                           1760\\n  \n",
      "44469                              NaN  \n",
      "\n",
      "[62657 rows x 29 columns]\n"
     ]
    }
   ],
   "source": [
    "# sort the data by department name\n",
    "\n",
    "sorted_departments = df_purchases.sort_values(by='Department Name')\n",
    "\n",
    "print(\"Sorted data by department name:\")\n",
    "print(sorted_departments)"
   ]
  },
  {
   "attachments": {},
   "cell_type": "markdown",
   "metadata": {},
   "source": [
    "<ul>\n",
    "<li><b>Small extra tasks for extra points</b></li>\n",
    "<ul>\n",
    "<li>How many purchases in the data were IT Goods and had the total price more than 50000 dollars?</li>\n",
    "<li>How many of the purchases have anything to do with IT? (IT Goods, IT Services, IT Telecommunications)</li>\n",
    "\n",
    "</ul>\n",
    "</ul>"
   ]
  },
  {
   "cell_type": "code",
   "execution_count": 279,
   "metadata": {},
   "outputs": [],
   "source": [
    "# produce the code for the extra tasks if you wish complete them"
   ]
  },
  {
   "cell_type": "markdown",
   "metadata": {},
   "source": [
    "<ul>\n",
    "<li><b>Other extra tasks for extra points</b></li>\n",
    "<ul>\n",
    "<li>Create a new DataFrame, where you have filtered out purchases that have a Total Price of 0 or less</li>\n",
    "<li>For this DataFrame, use groupby() –function twice to group the purchases data by Acquisition Type, and then calculating the result first by sum() and then by mean()</li>\n",
    "<li>Which two acquisition types have the largest sums and means after grouping the data?</li>\n",
    "</ul>\n",
    "</ul>"
   ]
  },
  {
   "cell_type": "code",
   "execution_count": 280,
   "metadata": {},
   "outputs": [
    {
     "name": "stdout",
     "output_type": "stream",
     "text": [
      "Acquisiton types with largerst sums:\n",
      "                           sum          mean\n",
      "Acquisition Type                            \n",
      "NON-IT Services   3.056420e+10  2.481062e+06\n",
      "IT Services       1.156984e+09  6.829892e+05\n",
      "\n",
      "Acquisition types with largest means:\n",
      "                           sum          mean\n",
      "Acquisition Type                            \n",
      "NON-IT Services   3.056420e+10  2.481062e+06\n",
      "IT Services       1.156984e+09  6.829892e+05\n"
     ]
    }
   ],
   "source": [
    "# produce the code for the extra tasks if you wish complete them\n",
    "\n",
    "filtered_df = df_purchases[df_purchases['Total Price'] > 0]\n",
    "grouped_data = filtered_df.groupby('Acquisition Type')['Total Price'].agg(['sum', 'mean'])\n",
    "\n",
    "largest_sums = grouped_data.nlargest(2, 'sum')\n",
    "largest_means = grouped_data.nlargest(2, 'mean')\n",
    "\n",
    "print(\"Acquisiton types with largerst sums:\")\n",
    "print(largest_sums)\n",
    "print(\"\\nAcquisition types with largest means:\")\n",
    "print(largest_means)"
   ]
  },
  {
   "attachments": {},
   "cell_type": "markdown",
   "metadata": {},
   "source": [
    "<img src=\"http://srv.plab.fi/~tuomasv/data_analytics_2023_images/exercise_set_2/es2_2.png\" />"
   ]
  },
  {
   "attachments": {},
   "cell_type": "markdown",
   "metadata": {},
   "source": [
    "<h4><b>3. Download the data_salaries_india.csv from Moodle, and consider the following questions of the data. Use any means in pandas (or even NumPy) you wish to explain your answers.</b></h4>\n"
   ]
  },
  {
   "attachments": {},
   "cell_type": "markdown",
   "metadata": {},
   "source": [
    "<ul>\n",
    "<li>Before we can do anything with the salaries, we have to convert them into something more usable</li>\n",
    "<ul>\n",
    "<li>Note: the salaries can be yearly, monthly or hourly salaries</li>\n",
    "<ul>\n",
    "<li>We don't also need the Indian rupee –sign (₹)</li>\n",
    "</ul>\n",
    "<li>You can use the template in Moodle to help you out with this (Salary filtering, pandas exercise 3)</li>\n",
    "</ul>\n",
    "</ul>"
   ]
  },
  {
   "cell_type": "code",
   "execution_count": 281,
   "metadata": {},
   "outputs": [
    {
     "name": "stdout",
     "output_type": "stream",
     "text": [
      "Converted salaries:\n",
      "0       1171687\n",
      "1       3257305\n",
      "2       5811205\n",
      "3       1180965\n",
      "4        602930\n",
      "         ...   \n",
      "5122     513690\n",
      "5123    1309535\n",
      "5124    4499222\n",
      "5125    4612711\n",
      "5126    1705561\n",
      "Name: Yearly Salary, Length: 5127, dtype: int64\n"
     ]
    }
   ],
   "source": [
    "# convert the salaries as needed\n",
    "\n",
    "# helper function for pandas to convert all salaries into yearly integer salaries\n",
    "def yearly_wage(row):\n",
    "    # the last two characters determine if it's yearly, monthly, or hourly\n",
    "    period = row['Salary'][-2:]\n",
    "    \n",
    "    # remove all commas and combine all numbers\n",
    "    number = int(''.join(filter(str.isdigit, row['Salary'])))\n",
    "    \n",
    "    # if it's hourly, the average work hours per year in India is approximately 2117.01 (might change in the future)\n",
    "    if period == \"hr\":\n",
    "        number = int(number * 2117.01)\n",
    "    elif period == \"mo\":\n",
    "        # months to year\n",
    "        number = int(number * 12)\n",
    "    \n",
    "    # return the yearly salary in integer format\n",
    "    return number\n",
    "\n",
    "# convert the salaries as needed\n",
    "df_india['Salary'] = df_india['Salary'].astype(str)\n",
    "\n",
    "# remove the Indian rupee sign from the salaries\n",
    "df_india['Salary'] = df_india['Salary'].str.replace('₹', '')\n",
    "\n",
    "# remove '/yr' from the salary values\n",
    "df_india['Salary'] = df_india['Salary'].str.replace('/yr', '')\n",
    "\n",
    "# remove commas from the salary values\n",
    "df_india['Salary'] = df_india['Salary'].str.replace(',', '')\n",
    "\n",
    "# apply the yearly_wage function to convert all salaries\n",
    "df_india['Yearly Salary'] = df_india.apply(yearly_wage, axis=1)\n",
    "\n",
    "print(\"Converted salaries:\")\n",
    "print(df_india['Yearly Salary'])\n"
   ]
  },
  {
   "attachments": {},
   "cell_type": "markdown",
   "metadata": {},
   "source": [
    "<ul>\n",
    "<li>What are the most common values in different fields (Job Titles, Companies, Location)? <b>Based on the distribution, is the data balanced or not?</b></li>\n",
    "<ul>\n",
    "<li><b>Extra task:</b> there seem to be some Job Titles that are almost the same, like \"Machine Learning Data Associate\" and \"Machine Learning Associate\", combine these into something common</li>\n",
    "</ul>\n",
    "</ul>"
   ]
  },
  {
   "cell_type": "code",
   "execution_count": 282,
   "metadata": {},
   "outputs": [
    {
     "name": "stdout",
     "output_type": "stream",
     "text": [
      "Top 5 Most Common Job Titles:\n",
      "Job Title\n",
      "Data Scientist               2165\n",
      "Data Analyst                 1167\n",
      "Data Engineer                 948\n",
      "Machine Learning Engineer     683\n",
      "Data Science                   54\n",
      "Name: count, dtype: int64\n",
      "\n",
      "Top 5 Most Common Companies:\n",
      "Company Name\n",
      "Tata Consultancy Services    51\n",
      "Accenture                    39\n",
      "Amazon                       35\n",
      "Fresher                      31\n",
      "First Student                30\n",
      "Name: count, dtype: int64\n",
      "\n",
      "Top 5 Most Common Locations:\n",
      "Location\n",
      "Bangalore    1858\n",
      "Pune          966\n",
      "Hyderabad     786\n",
      "New Delhi     781\n",
      "Mumbai        736\n",
      "Name: count, dtype: int64\n"
     ]
    }
   ],
   "source": [
    "# produce the code that shows the most common values in different fields\n",
    "# and answer the question about the distribution\n",
    "\n",
    "most_common_job_titles = df_india['Job Title'].value_counts().head(5)\n",
    "most_common_companies = df_india['Company Name'].value_counts().head(5)\n",
    "most_common_locations = df_india['Location'].value_counts().head(5)\n",
    "\n",
    "print(\"Top 5 Most Common Job Titles:\")\n",
    "print(most_common_job_titles)\n",
    "print(\"\\nTop 5 Most Common Companies:\")\n",
    "print(most_common_companies)\n",
    "print(\"\\nTop 5 Most Common Locations:\")\n",
    "print(most_common_locations)"
   ]
  },
  {
   "attachments": {},
   "cell_type": "markdown",
   "metadata": {},
   "source": [
    "For the most common job titles I think the data is pretty balanced.\n",
    "For the most common companies the data is very balanced.\n",
    "For the most common locations Bangalore is clearly higher, other locations are more balanced."
   ]
  },
  {
   "attachments": {},
   "cell_type": "markdown",
   "metadata": {},
   "source": [
    "<li>Are there any outliers in the data that might affect the averages negatively (certain salaries)? Manage the outliers as you best see fit (either remove them or leave them, based on your analysis) </li>"
   ]
  },
  {
   "attachments": {},
   "cell_type": "markdown",
   "metadata": {},
   "source": [
    "To identify any potential outliers I could do visual inspection of the distribution of the salaries of each job titles, companys or locations. I could also calculate summary statistics suchs as mean, median and standard deviation for the salary data and then identify values that deviate significantly from the mean or median. But I'm not sure if those affect the averages negatively, so I would not remove them."
   ]
  },
  {
   "cell_type": "code",
   "execution_count": 283,
   "metadata": {},
   "outputs": [
    {
     "data": {
      "image/png": "[encoded data removed]",
      "text/plain": [
       "<Figure size 1000x1800 with 3 Axes>"
      ]
     },
     "metadata": {},
     "output_type": "display_data"
    }
   ],
   "source": [
    "# produce the code that shows the potential outliers and take care of them as you see fit\n",
    "\n",
    "import matplotlib.pyplot as plt\n",
    "import seaborn as sns\n",
    "\n",
    "# the top 5 most common job titles, companies, and locations\n",
    "top_job_titles = ['Data Scientist', 'Data Analyst', 'Data Engineer', 'Machine Learning Engineer', 'Data Science']\n",
    "top_companies = ['Tata Consultancy Services', 'Accenture', 'Amazon', 'Fresher', 'First Student']\n",
    "top_locations = ['Bangalore', 'Pune', 'Hyderabad', 'New Delhi', 'Mumbai']\n",
    "\n",
    "# subplots for each category\n",
    "fig, axes = plt.subplots(nrows=3, ncols=1, figsize=(10, 18))\n",
    "\n",
    "# visualize potential outliers for each category\n",
    "for idx, (category, top_values) in enumerate(zip(['Job Title', 'Company Name', 'Location'],\n",
    "                                                  [top_job_titles, top_companies, top_locations])):\n",
    "    sns.boxplot(x='Salary', data=df_india[df_india[category].isin(top_values)], ax=axes[idx])\n",
    "    axes[idx].set_title(f'Boxplot of Salary for Top 5 Most Common {category}s')\n",
    "    axes[idx].set_xlabel('Salary')\n",
    "    axes[idx].set_ylabel(category)\n",
    "\n",
    "plt.tight_layout()\n",
    "plt.show()\n"
   ]
  },
  {
   "attachments": {},
   "cell_type": "markdown",
   "metadata": {},
   "source": [
    "<ul>\n",
    "<li>If we want to correlate upon categories (ordinal or binary), we need to use factorize(). <b>Factorize the Role-column, and add the new column to the DataFrame.</b></li>\n",
    "<ul>\n",
    "<li><b>Note:</b> using <b>factorize()</b> for nominal categories (Job Title, Location, Company Name) doesn't work well, because the numbers do not have any numeric magnitude. In other words, these categories don't measure anything, they just group data, so numerical comparison / correlation doesn't mean anything statistically.</li>\n",
    "</ul>\n",
    "</ul>"
   ]
  },
  {
   "cell_type": "code",
   "execution_count": 284,
   "metadata": {},
   "outputs": [
    {
     "name": "stdout",
     "output_type": "stream",
     "text": [
      "Unique Roles: Index(['Specialist', 'Manager'], dtype='object')\n",
      "\n",
      "Factorized Roles:\n",
      "         Role  Role_Factorized\n",
      "0  Specialist                0\n",
      "1     Manager                1\n",
      "2     Manager                1\n",
      "3  Specialist                0\n",
      "4  Specialist                0\n"
     ]
    }
   ],
   "source": [
    "# example:\n",
    "# factorize Role level into numbers\n",
    "# label1, unique1 = pd.factorize(df['Role'], sort=False)\n",
    "# df['ManagerRole'] = label1\n",
    "\n",
    "# produce the needed factorization for Role-column\n",
    "\n",
    "labels, unique_roles = pd.factorize(df_india['Role'], sort=False)\n",
    "\n",
    "df_india['Role_Factorized'] = labels\n",
    "\n",
    "print(\"Unique Roles:\", unique_roles)\n",
    "print(\"\\nFactorized Roles:\")\n",
    "print(df_india[['Role', 'Role_Factorized']].head())"
   ]
  },
  {
   "attachments": {},
   "cell_type": "markdown",
   "metadata": {},
   "source": [
    "<ul>\n",
    "<li><b>Finally, check out the correlations. Does anything correlate with anything? Can we make any assumptions?</b></li>\n",
    "<ul>\n",
    "<li>Tip: When correlating against binary variables, sometimes the Spearman correlation might be more sensitive, in pandas:</li>\n",
    "</ul>\n",
    "</ul>"
   ]
  },
  {
   "cell_type": "code",
   "execution_count": 285,
   "metadata": {},
   "outputs": [
    {
     "name": "stdout",
     "output_type": "stream",
     "text": [
      "Spearman Correlation:\n",
      "                   Salaries Reported  Yearly Salary  Role_Factorized\n",
      "Salaries Reported           1.000000      -0.072676        -0.254414\n",
      "Yearly Salary              -0.072676       1.000000         0.430317\n",
      "Role_Factorized            -0.254414       0.430317         1.000000\n"
     ]
    }
   ],
   "source": [
    "# Remember: df.corr(method=\"spearman\")\n",
    "\n",
    "# select only numeric columns\n",
    "numeric_df = df_india.select_dtypes(include=['int64', 'float64'])\n",
    "\n",
    "correlation_spearman = numeric_df.corr(method=\"spearman\")\n",
    "\n",
    "print(\"Spearman Correlation:\")\n",
    "print(correlation_spearman)\n"
   ]
  },
  {
   "attachments": {},
   "cell_type": "markdown",
   "metadata": {},
   "source": [
    "<b>Extra tasks for this dataset</b><br><br>\n",
    "\n",
    "<ul>\n",
    "<li>After all salaries have been converted to correct format by using the helper function (check Moodle), use quantiles and split the data into four different parts:</li>\n",
    "<ul>\n",
    "<li><span style=\"color: red;\">Top 25%</span><br>=> quantile(0.75)</li>\n",
    "<li><span style=\"color: red;\">Above average, values between top 25-50%</span><br>\n",
    "=> quantile(0.5)  - quantile(0.75)</li>\n",
    "<li><span style=\"color: red;\">Below average, values between top 50-75% </span><br>\n",
    "=> quantile(0.25) – quantile(0.5)\n",
    "</li>\n",
    "<li><span style=\"color: red;\">Bottom 25%</span><br>=> quantile(0.25)</li>\n",
    "<br>\n",
    "<li>What are the salary ranges for each quantile?</li><li>\n",
    "See examples in pandas-materials on how to use quantiles\n",
    "</li>\n",
    "</ul>\n",
    "</ul>\n",
    "<hr>\n",
    "\n",
    "<ul>\n",
    "<li>Did you get any ideas how this data could be improved? Do we need some particular new data or some other operations on the data? Should we filter something out based on some other column?<br><br><b>Provide arguments for your answers in code comments.</b><br><br> </li>\n",
    "<ul>\n",
    "<li>Note: There are many good possible answers here!</li>\n",
    "<li>Tip: How about replacing the \"Salaries Reported\" column with actual rows based on that number? Try doing this with the data!</li>\n",
    "<li>Remember: This data only represents data engineering salaries based on selected Indian cities.\n",
    "The world is a vast place :)\n",
    "</li>\n",
    "</ul>\n",
    "</ul>"
   ]
  },
  {
   "cell_type": "code",
   "execution_count": 286,
   "metadata": {},
   "outputs": [],
   "source": [
    "# code for the extra tasks\n"
   ]
  },
  {
   "attachments": {},
   "cell_type": "markdown",
   "metadata": {},
   "source": [
    "\n",
    "<h2><b>Advanced extra tasks for extra points (varying challenges, some require Googling):</b></h2>"
   ]
  },
  {
   "attachments": {},
   "cell_type": "markdown",
   "metadata": {},
   "source": [
    "<ul>\n",
    "<li><b>1. Data merge is a useful tool when you have multiple files of data that have the exact same structure.</b><br><br>Download the two csv-files from Moodle (videogames1.csv, videogames2.csv), and combine them into one Data Frame. Lastly, save the Data Frame into a new csv-file => combined.csv.</li>\n",
    "</ul>"
   ]
  },
  {
   "cell_type": "code",
   "execution_count": 287,
   "metadata": {},
   "outputs": [],
   "source": [
    "# code for the advanced extra task"
   ]
  },
  {
   "attachments": {},
   "cell_type": "markdown",
   "metadata": {},
   "source": [
    "<ul>\n",
    "<li><b>2. Functions and lambdas allow us to extend the operations we wish to do to columns and rows in pandas. </b><br><br>For example, the built-in functions may not be enough in all cases. Use the data of exercise 1 (loans.csv), and create a new column called \"Income Group\" that holds a text value. <br><br>Create either a function or a lambda, that determines the True or False –value based on the Annual Income –column. Use the following table to create the values:</li>\n",
    "</ul>\n",
    "\n",
    "<img src=\"http://srv.plab.fi/~tuomasv/data_analytics_2023_images/exercise_set_2/es2_3.png\"/>"
   ]
  },
  {
   "attachments": {},
   "cell_type": "markdown",
   "metadata": {},
   "source": [
    "<li>After creating the function/lambda, you can use it by using pandas' .apply() –function.<br><br></li>\n",
    "\n",
    "<li>Finally, get the amount of rows grouped by each of the new Income Group –field values and print them out.</li> \n"
   ]
  },
  {
   "cell_type": "code",
   "execution_count": 288,
   "metadata": {},
   "outputs": [
    {
     "name": "stdout",
     "output_type": "stream",
     "text": [
      "Rows grouped by Income Group:\n",
      "Income Group\n",
      "$200k+           69273\n",
      "$100k - $200k       86\n",
      "$50k - $100k         3\n",
      "Name: count, dtype: int64\n"
     ]
    }
   ],
   "source": [
    "# code for the advanced extra task\n",
    "\n",
    "def determine_income_group(income):\n",
    "    if income < 25000:\n",
    "        return '$25k or less'\n",
    "    elif 25001 <= income < 50000:\n",
    "        return '$25k - $50k'\n",
    "    elif 50001 <= income < 100000:\n",
    "        return '$50k - $100k'\n",
    "    elif 100001 <= income < 200000:\n",
    "        return '$100k - $200k'\n",
    "    else:\n",
    "        return '$200k+'\n",
    "\n",
    "df['Income Group'] = df['Annual Income'].apply(determine_income_group)\n",
    "income_group_counts = df['Income Group'].value_counts()\n",
    "\n",
    "print(\"Rows grouped by Income Group:\")\n",
    "print(income_group_counts)"
   ]
  },
  {
   "attachments": {},
   "cell_type": "markdown",
   "metadata": {},
   "source": [
    "<ul>\n",
    "<li><b>3.\tNormalization allows us to convert the values of numeric columns to be between 0 and 1.</b> This is helpful when two different numbers seem to follow the same trend, but have completely different value ranges. For example, gold and silver prices tend to follow similar patterns, but their market worth is quite different. By using normalization, we can compare these trends more easily. <br>\n",
    "\n",
    "Get historical prices of both gold and silver, and compare them without and with normalization. You can plot the prices by using df.plot() –function. Check the dataset in list in Moodle for some alternatives for gold and silver prices.\n",
    "</li>\n",
    "</ul>\n",
    "<img src=\"http://srv.plab.fi/~tuomasv/data_analytics_2023_images/exercise_set_2/es2_4.png\" />"
   ]
  },
  {
   "attachments": {},
   "cell_type": "markdown",
   "metadata": {},
   "source": [
    "<ul>\n",
    "<li><b>4.\tCreate an account to kaggle.com, and find any dataset that interests you. </b><br>\n",
    "\n",
    "There's a list of possibly interesting datasets listed in Moodle as well.\n",
    "<br><br>\n",
    "<b>Try to find interesting features in data, in particular:</b>\n",
    "</li>\n",
    "<ul>\n",
    "<li>Clean up data first (rows with too many NaN –values), values that are way too big or small, insignificant columns etc.)</li>\n",
    "<li>You can create new columns as well if it seems suitable! (either by using functions or other means)</li>\n",
    "<li>Interesting correlations (.corr() –function) and other interesting features in the data. Is something surprising in the data?</li>\n",
    "<li><b>Note: </b>There are many ways on how to approach this exercise.</li>\n",
    "</ul>\n",
    "</ul>\n",
    "\n",
    "<img src=\"http://srv.plab.fi/~tuomasv/data_analytics_2023_images/exercise_set_2/es2_5.png\" />"
   ]
  },
  {
   "cell_type": "code",
   "execution_count": 289,
   "metadata": {},
   "outputs": [],
   "source": [
    "# do any Kaggle.com -related extra tasks in their own Jupyter notebooks for easier coding"
   ]
  },
  {
   "cell_type": "markdown",
   "metadata": {},
   "source": []
  }
 ],
 "metadata": {
  "kernelspec": {
   "display_name": ".venv",
   "language": "python",
   "name": "python3"
  },
  "language_info": {
   "codemirror_mode": {
    "name": "ipython",
    "version": 3
   },
   "file_extension": ".py",
   "mimetype": "text/x-python",
   "name": "python",
   "nbconvert_exporter": "python",
   "pygments_lexer": "ipython3",
   "version": "3.11.5"
  },
  "orig_nbformat": 4,
  "vscode": {
   "interpreter": {
    "hash": "7b393597a1a01400f99fd0b0bd7e53e32f7c09a6c4e3f1d7dcfe73f5e3a50c61"
   }
  }
 },
 "nbformat": 4,
 "nbformat_minor": 2
}
