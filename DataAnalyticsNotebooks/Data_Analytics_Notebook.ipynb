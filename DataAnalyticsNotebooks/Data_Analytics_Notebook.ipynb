{
 "cells": [
  {
   "attachments": {},
   "cell_type": "markdown",
   "metadata": {},
   "source": [
    "<h2><b>Data Analytics- notebook</b></h2>"
   ]
  },
  {
   "attachments": {},
   "cell_type": "markdown",
   "metadata": {},
   "source": [
    "<h4><b>Dataset name / short description:</b></h4>"
   ]
  },
  {
   "attachments": {},
   "cell_type": "markdown",
   "metadata": {},
   "source": [
    "Unemployment by age groups in California, US."
   ]
  },
  {
   "attachments": {},
   "cell_type": "markdown",
   "metadata": {},
   "source": [
    "<h4><b>Data source (url):</b></h4>"
   ]
  },
  {
   "attachments": {},
   "cell_type": "markdown",
   "metadata": {},
   "source": [
    "The dataset is located in kaggle.com. <br>\n",
    "https://www.kaggle.com/datasets/sahirmaharajj/unemployment-by-age-groups-dataset/data"
   ]
  },
  {
   "attachments": {},
   "cell_type": "markdown",
   "metadata": {},
   "source": [
    "<h4><b>Data format:</b></h4>"
   ]
  },
  {
   "attachments": {},
   "cell_type": "markdown",
   "metadata": {},
   "source": [
    "The data format is single csv-file."
   ]
  },
  {
   "cell_type": "markdown",
   "metadata": {},
   "source": [
    "<h4><b>Data description, features and limitations:</b></h4>"
   ]
  },
  {
   "attachments": {},
   "cell_type": "markdown",
   "metadata": {},
   "source": [
    "I sourced the unemployment data by age groups from Kaggle.com. This dataset comprises non-seasonally adjusted California unemployment rates categorized by age groups, derived from the Current Population Survey.\n",
    "\n",
    "The age groups span from 16-19, 20-24, 25-34, 35-44, 45-54, 55-64, to 65+.\n",
    "\n",
    "However, it's important to note a limitation: the dataset exclusively focuses on unemployment rates within California. While it provides valuable insights into age-related unemployment trends within the state, it lacks broader geographical coverage, limiting its applicability to other regions or comparative analyses."
   ]
  },
  {
   "attachments": {},
   "cell_type": "markdown",
   "metadata": {},
   "source": [
    "<h3><b>Code: importing modules, custom functions and loading the data</b></h3>"
   ]
  },
  {
   "cell_type": "code",
   "execution_count": 3,
   "metadata": {},
   "outputs": [
    {
     "ename": "ModuleNotFoundError",
     "evalue": "No module named 'numpy'",
     "output_type": "error",
     "traceback": [
      "\u001b[0;31m---------------------------------------------------------------------------\u001b[0m",
      "\u001b[0;31mModuleNotFoundError\u001b[0m                       Traceback (most recent call last)",
      "Cell \u001b[0;32mIn[3], line 2\u001b[0m\n\u001b[1;32m      1\u001b[0m \u001b[39m# Importing the usual data analytics modules\u001b[39;00m\n\u001b[0;32m----> 2\u001b[0m \u001b[39mimport\u001b[39;00m \u001b[39mnumpy\u001b[39;00m \u001b[39mas\u001b[39;00m \u001b[39mnp\u001b[39;00m\n\u001b[1;32m      3\u001b[0m \u001b[39mimport\u001b[39;00m \u001b[39mpandas\u001b[39;00m \u001b[39mas\u001b[39;00m \u001b[39mpd\u001b[39;00m\n\u001b[1;32m      4\u001b[0m \u001b[39mimport\u001b[39;00m \u001b[39mseaborn\u001b[39;00m \u001b[39mas\u001b[39;00m \u001b[39msns\u001b[39;00m\n",
      "\u001b[0;31mModuleNotFoundError\u001b[0m: No module named 'numpy'"
     ]
    }
   ],
   "source": [
    "# Importing the usual data analytics modules\n",
    "import numpy as np\n",
    "import pandas as pd\n",
    "import seaborn as sns\n",
    "import matplotlib.pyplot as plt\n",
    "from scipy import stats\n",
    "import matplotlib.ticker as ticker\n",
    "import matplotlib.dates as mdates\n",
    "import datetime as dt\n",
    "import os\n",
    "import plotly.express as px\n",
    "\n",
    "# Load the data\n",
    "unemployment_data = pd.read_csv(\"unemployment_rate_by_age_groups.csv\")"
   ]
  },
  {
   "attachments": {},
   "cell_type": "markdown",
   "metadata": {},
   "source": [
    "<h3><b>Code: Data clean-up procedure</b></h3>"
   ]
  },
  {
   "cell_type": "code",
   "execution_count": null,
   "metadata": {},
   "outputs": [
    {
     "data": {
      "text/html": [
       "<div>\n",
       "<style scoped>\n",
       "    .dataframe tbody tr th:only-of-type {\n",
       "        vertical-align: middle;\n",
       "    }\n",
       "\n",
       "    .dataframe tbody tr th {\n",
       "        vertical-align: top;\n",
       "    }\n",
       "\n",
       "    .dataframe thead th {\n",
       "        text-align: right;\n",
       "    }\n",
       "</style>\n",
       "<table border=\"1\" class=\"dataframe\">\n",
       "  <thead>\n",
       "    <tr style=\"text-align: right;\">\n",
       "      <th></th>\n",
       "      <th>Area Type</th>\n",
       "      <th>Area Name</th>\n",
       "      <th>Date</th>\n",
       "      <th>Year</th>\n",
       "      <th>Month</th>\n",
       "      <th>Age 16-19</th>\n",
       "      <th>Age 20-24</th>\n",
       "      <th>Age 25-34</th>\n",
       "      <th>Age 35-44</th>\n",
       "      <th>Age 45-54</th>\n",
       "      <th>Age 55-64</th>\n",
       "      <th>Age 65+</th>\n",
       "    </tr>\n",
       "  </thead>\n",
       "  <tbody>\n",
       "    <tr>\n",
       "      <th>0</th>\n",
       "      <td>State</td>\n",
       "      <td>California</td>\n",
       "      <td>2008-02-01</td>\n",
       "      <td>2008</td>\n",
       "      <td>February</td>\n",
       "      <td>0.184</td>\n",
       "      <td>0.093</td>\n",
       "      <td>0.053</td>\n",
       "      <td>0.040</td>\n",
       "      <td>0.041</td>\n",
       "      <td>0.039</td>\n",
       "      <td>0.048</td>\n",
       "    </tr>\n",
       "    <tr>\n",
       "      <th>1</th>\n",
       "      <td>State</td>\n",
       "      <td>California</td>\n",
       "      <td>2008-03-01</td>\n",
       "      <td>2008</td>\n",
       "      <td>March</td>\n",
       "      <td>0.187</td>\n",
       "      <td>0.096</td>\n",
       "      <td>0.054</td>\n",
       "      <td>0.041</td>\n",
       "      <td>0.042</td>\n",
       "      <td>0.038</td>\n",
       "      <td>0.050</td>\n",
       "    </tr>\n",
       "    <tr>\n",
       "      <th>2</th>\n",
       "      <td>State</td>\n",
       "      <td>California</td>\n",
       "      <td>2008-04-01</td>\n",
       "      <td>2008</td>\n",
       "      <td>April</td>\n",
       "      <td>0.187</td>\n",
       "      <td>0.097</td>\n",
       "      <td>0.055</td>\n",
       "      <td>0.043</td>\n",
       "      <td>0.043</td>\n",
       "      <td>0.037</td>\n",
       "      <td>0.050</td>\n",
       "    </tr>\n",
       "    <tr>\n",
       "      <th>3</th>\n",
       "      <td>State</td>\n",
       "      <td>California</td>\n",
       "      <td>2008-05-01</td>\n",
       "      <td>2008</td>\n",
       "      <td>May</td>\n",
       "      <td>0.187</td>\n",
       "      <td>0.101</td>\n",
       "      <td>0.057</td>\n",
       "      <td>0.044</td>\n",
       "      <td>0.045</td>\n",
       "      <td>0.036</td>\n",
       "      <td>0.050</td>\n",
       "    </tr>\n",
       "    <tr>\n",
       "      <th>4</th>\n",
       "      <td>State</td>\n",
       "      <td>California</td>\n",
       "      <td>2008-06-01</td>\n",
       "      <td>2008</td>\n",
       "      <td>June</td>\n",
       "      <td>0.191</td>\n",
       "      <td>0.105</td>\n",
       "      <td>0.059</td>\n",
       "      <td>0.044</td>\n",
       "      <td>0.046</td>\n",
       "      <td>0.038</td>\n",
       "      <td>0.048</td>\n",
       "    </tr>\n",
       "  </tbody>\n",
       "</table>\n",
       "</div>"
      ],
      "text/plain": [
       "  Area Type   Area Name       Date  Year     Month  Age 16-19  Age 20-24  \\\n",
       "0     State  California 2008-02-01  2008  February      0.184      0.093   \n",
       "1     State  California 2008-03-01  2008     March      0.187      0.096   \n",
       "2     State  California 2008-04-01  2008     April      0.187      0.097   \n",
       "3     State  California 2008-05-01  2008       May      0.187      0.101   \n",
       "4     State  California 2008-06-01  2008      June      0.191      0.105   \n",
       "\n",
       "   Age 25-34  Age 35-44  Age 45-54  Age 55-64  Age 65+  \n",
       "0      0.053      0.040      0.041      0.039    0.048  \n",
       "1      0.054      0.041      0.042      0.038    0.050  \n",
       "2      0.055      0.043      0.043      0.037    0.050  \n",
       "3      0.057      0.044      0.045      0.036    0.050  \n",
       "4      0.059      0.044      0.046      0.038    0.048  "
      ]
     },
     "execution_count": 15,
     "metadata": {},
     "output_type": "execute_result"
    }
   ],
   "source": [
    "# View the data\n",
    "unemployment_data['Date'] = pd.to_datetime(unemployment_data['Date'])\n",
    "unemployment_data.head()"
   ]
  },
  {
   "cell_type": "code",
   "execution_count": null,
   "metadata": {},
   "outputs": [
    {
     "data": {
      "text/plain": [
       "Area Type    0\n",
       "Area Name    0\n",
       "Date         0\n",
       "Year         0\n",
       "Month        0\n",
       "Age 16-19    0\n",
       "Age 20-24    0\n",
       "Age 25-34    0\n",
       "Age 35-44    0\n",
       "Age 45-54    0\n",
       "Age 55-64    0\n",
       "Age 65+      0\n",
       "dtype: int64"
      ]
     },
     "execution_count": 16,
     "metadata": {},
     "output_type": "execute_result"
    }
   ],
   "source": [
    "# Check for missing values\n",
    "unemployment_data.isnull().sum()"
   ]
  },
  {
   "attachments": {},
   "cell_type": "markdown",
   "metadata": {},
   "source": [
    "There are no missing values."
   ]
  },
  {
   "cell_type": "code",
   "execution_count": null,
   "metadata": {},
   "outputs": [
    {
     "data": {
      "text/plain": [
       "Area Type      1\n",
       "Area Name      1\n",
       "Date         194\n",
       "Year          17\n",
       "Month         12\n",
       "Age 16-19    135\n",
       "Age 20-24     89\n",
       "Age 25-34     70\n",
       "Age 35-44     74\n",
       "Age 45-54     71\n",
       "Age 55-64     60\n",
       "Age 65+       70\n",
       "dtype: int64"
      ]
     },
     "execution_count": 17,
     "metadata": {},
     "output_type": "execute_result"
    }
   ],
   "source": [
    "# Check for unique values\n",
    "unemployment_data.nunique()"
   ]
  },
  {
   "attachments": {},
   "cell_type": "markdown",
   "metadata": {},
   "source": [
    "I will drop the \"Area Type\" and \"Area Name\" columns because they don't provide any additional information for analysis and are only unique value. The dataset is specifically for California, so these columns are redundant."
   ]
  },
  {
   "cell_type": "code",
   "execution_count": null,
   "metadata": {},
   "outputs": [
    {
     "data": {
      "text/html": [
       "<div>\n",
       "<style scoped>\n",
       "    .dataframe tbody tr th:only-of-type {\n",
       "        vertical-align: middle;\n",
       "    }\n",
       "\n",
       "    .dataframe tbody tr th {\n",
       "        vertical-align: top;\n",
       "    }\n",
       "\n",
       "    .dataframe thead th {\n",
       "        text-align: right;\n",
       "    }\n",
       "</style>\n",
       "<table border=\"1\" class=\"dataframe\">\n",
       "  <thead>\n",
       "    <tr style=\"text-align: right;\">\n",
       "      <th></th>\n",
       "      <th>Date</th>\n",
       "      <th>Year</th>\n",
       "      <th>Month</th>\n",
       "      <th>Age 16-19</th>\n",
       "      <th>Age 20-24</th>\n",
       "      <th>Age 25-34</th>\n",
       "      <th>Age 35-44</th>\n",
       "      <th>Age 45-54</th>\n",
       "      <th>Age 55-64</th>\n",
       "      <th>Age 65+</th>\n",
       "    </tr>\n",
       "  </thead>\n",
       "  <tbody>\n",
       "    <tr>\n",
       "      <th>0</th>\n",
       "      <td>2008-02-01</td>\n",
       "      <td>2008</td>\n",
       "      <td>February</td>\n",
       "      <td>0.184</td>\n",
       "      <td>0.093</td>\n",
       "      <td>0.053</td>\n",
       "      <td>0.040</td>\n",
       "      <td>0.041</td>\n",
       "      <td>0.039</td>\n",
       "      <td>0.048</td>\n",
       "    </tr>\n",
       "    <tr>\n",
       "      <th>1</th>\n",
       "      <td>2008-03-01</td>\n",
       "      <td>2008</td>\n",
       "      <td>March</td>\n",
       "      <td>0.187</td>\n",
       "      <td>0.096</td>\n",
       "      <td>0.054</td>\n",
       "      <td>0.041</td>\n",
       "      <td>0.042</td>\n",
       "      <td>0.038</td>\n",
       "      <td>0.050</td>\n",
       "    </tr>\n",
       "    <tr>\n",
       "      <th>2</th>\n",
       "      <td>2008-04-01</td>\n",
       "      <td>2008</td>\n",
       "      <td>April</td>\n",
       "      <td>0.187</td>\n",
       "      <td>0.097</td>\n",
       "      <td>0.055</td>\n",
       "      <td>0.043</td>\n",
       "      <td>0.043</td>\n",
       "      <td>0.037</td>\n",
       "      <td>0.050</td>\n",
       "    </tr>\n",
       "    <tr>\n",
       "      <th>3</th>\n",
       "      <td>2008-05-01</td>\n",
       "      <td>2008</td>\n",
       "      <td>May</td>\n",
       "      <td>0.187</td>\n",
       "      <td>0.101</td>\n",
       "      <td>0.057</td>\n",
       "      <td>0.044</td>\n",
       "      <td>0.045</td>\n",
       "      <td>0.036</td>\n",
       "      <td>0.050</td>\n",
       "    </tr>\n",
       "    <tr>\n",
       "      <th>4</th>\n",
       "      <td>2008-06-01</td>\n",
       "      <td>2008</td>\n",
       "      <td>June</td>\n",
       "      <td>0.191</td>\n",
       "      <td>0.105</td>\n",
       "      <td>0.059</td>\n",
       "      <td>0.044</td>\n",
       "      <td>0.046</td>\n",
       "      <td>0.038</td>\n",
       "      <td>0.048</td>\n",
       "    </tr>\n",
       "  </tbody>\n",
       "</table>\n",
       "</div>"
      ],
      "text/plain": [
       "        Date  Year     Month  Age 16-19  Age 20-24  Age 25-34  Age 35-44  \\\n",
       "0 2008-02-01  2008  February      0.184      0.093      0.053      0.040   \n",
       "1 2008-03-01  2008     March      0.187      0.096      0.054      0.041   \n",
       "2 2008-04-01  2008     April      0.187      0.097      0.055      0.043   \n",
       "3 2008-05-01  2008       May      0.187      0.101      0.057      0.044   \n",
       "4 2008-06-01  2008      June      0.191      0.105      0.059      0.044   \n",
       "\n",
       "   Age 45-54  Age 55-64  Age 65+  \n",
       "0      0.041      0.039    0.048  \n",
       "1      0.042      0.038    0.050  \n",
       "2      0.043      0.037    0.050  \n",
       "3      0.045      0.036    0.050  \n",
       "4      0.046      0.038    0.048  "
      ]
     },
     "execution_count": 18,
     "metadata": {},
     "output_type": "execute_result"
    }
   ],
   "source": [
    "# Drop the unnecessary columns\n",
    "unemployment_data = unemployment_data.drop(columns = ['Area Type', 'Area Name'])\n",
    "unemployment_data.head()"
   ]
  },
  {
   "cell_type": "code",
   "execution_count": null,
   "metadata": {},
   "outputs": [
    {
     "data": {
      "text/html": [
       "<div>\n",
       "<style scoped>\n",
       "    .dataframe tbody tr th:only-of-type {\n",
       "        vertical-align: middle;\n",
       "    }\n",
       "\n",
       "    .dataframe tbody tr th {\n",
       "        vertical-align: top;\n",
       "    }\n",
       "\n",
       "    .dataframe thead th {\n",
       "        text-align: right;\n",
       "    }\n",
       "</style>\n",
       "<table border=\"1\" class=\"dataframe\">\n",
       "  <thead>\n",
       "    <tr style=\"text-align: right;\">\n",
       "      <th></th>\n",
       "      <th>Date</th>\n",
       "      <th>Year</th>\n",
       "      <th>Month</th>\n",
       "      <th>Age Group</th>\n",
       "      <th>Unemployment Rate</th>\n",
       "    </tr>\n",
       "  </thead>\n",
       "  <tbody>\n",
       "    <tr>\n",
       "      <th>0</th>\n",
       "      <td>2008-02-01</td>\n",
       "      <td>2008</td>\n",
       "      <td>February</td>\n",
       "      <td>Age 16-19</td>\n",
       "      <td>0.184</td>\n",
       "    </tr>\n",
       "    <tr>\n",
       "      <th>1</th>\n",
       "      <td>2008-03-01</td>\n",
       "      <td>2008</td>\n",
       "      <td>March</td>\n",
       "      <td>Age 16-19</td>\n",
       "      <td>0.187</td>\n",
       "    </tr>\n",
       "    <tr>\n",
       "      <th>2</th>\n",
       "      <td>2008-04-01</td>\n",
       "      <td>2008</td>\n",
       "      <td>April</td>\n",
       "      <td>Age 16-19</td>\n",
       "      <td>0.187</td>\n",
       "    </tr>\n",
       "    <tr>\n",
       "      <th>3</th>\n",
       "      <td>2008-05-01</td>\n",
       "      <td>2008</td>\n",
       "      <td>May</td>\n",
       "      <td>Age 16-19</td>\n",
       "      <td>0.187</td>\n",
       "    </tr>\n",
       "    <tr>\n",
       "      <th>4</th>\n",
       "      <td>2008-06-01</td>\n",
       "      <td>2008</td>\n",
       "      <td>June</td>\n",
       "      <td>Age 16-19</td>\n",
       "      <td>0.191</td>\n",
       "    </tr>\n",
       "  </tbody>\n",
       "</table>\n",
       "</div>"
      ],
      "text/plain": [
       "        Date  Year     Month  Age Group  Unemployment Rate\n",
       "0 2008-02-01  2008  February  Age 16-19              0.184\n",
       "1 2008-03-01  2008     March  Age 16-19              0.187\n",
       "2 2008-04-01  2008     April  Age 16-19              0.187\n",
       "3 2008-05-01  2008       May  Age 16-19              0.187\n",
       "4 2008-06-01  2008      June  Age 16-19              0.191"
      ]
     },
     "execution_count": 19,
     "metadata": {},
     "output_type": "execute_result"
    }
   ],
   "source": [
    "# Compact the data for better visualization\n",
    "unemployment_data2 = pd.melt(unemployment_data, id_vars = ['Date', 'Year', 'Month'])\n",
    "unemployment_data2.columns = ['Date', 'Year', 'Month', 'Age Group', 'Unemployment Rate']\n",
    "unemployment_data2.head()"
   ]
  },
  {
   "attachments": {},
   "cell_type": "markdown",
   "metadata": {},
   "source": [
    "<h3><b>Code: Data analysis</b></h3>"
   ]
  },
  {
   "attachments": {},
   "cell_type": "markdown",
   "metadata": {},
   "source": [
    "Firstly, let's visualize the unemployment rate over the years for different age groups. I want to display a simple bar plot to visualize the unemployment rate in percentages across all age groups in the dataset. I want to observe the significant differences between different age groups."
   ]
  },
  {
   "cell_type": "code",
   "execution_count": null,
   "metadata": {},
   "outputs": [
    {
     "name": "stderr",
     "output_type": "stream",
     "text": [
      "/var/folders/l9/x0255jx977jgl0hnb9tcnzr80000gp/T/ipykernel_13364/3561948383.py:6: FutureWarning:\n",
      "\n",
      "\n",
      "\n",
      "Passing `palette` without assigning `hue` is deprecated and will be removed in v0.14.0. Assign the `x` variable to `hue` and set `legend=False` for the same effect.\n",
      "\n",
      "\n"
     ]
    },
    {
     "data": {
      "image/png": "[encoded data removed]",
      "text/plain": [
       "<Figure size 1200x675 with 1 Axes>"
      ]
     },
     "metadata": {},
     "output_type": "display_data"
    }
   ],
   "source": [
    "# Set the figure size for the plot\n",
    "plt.figure(figsize = (12, 6.75))\n",
    "\n",
    "# Create a bar plot using seaborn, specifying data, x-axis as 'Age Group', y-axis as 'Unemployment Rate',\n",
    "# and custom color palette for each age group\n",
    "ax = sns.barplot(data = unemployment_data2, x = 'Age Group', y = 'Unemployment Rate', palette = ['#9B1E53', '#C2357E', '#D9619B', '#E885B8', '#F3ABD6', '#FAD1F3', '#FFE6FF'] )\n",
    "\n",
    "# Set the title of the plot\n",
    "plt.title('Unemployment Rate Over the Years for Different Age Groups', fontsize = 14)\n",
    "\n",
    "# Format the y-axis labels to display percentages\n",
    "ax.yaxis.set_major_formatter(ticker.PercentFormatter(xmax=1,decimals = 0))\n",
    "\n",
    "# Set the lower limit of the y-axis to 0\n",
    "plt.ylim(0)\n",
    "\n",
    "# Remove the spines (the borders) from the plot\n",
    "sns.despine()\n",
    "\n",
    "plt.show()"
   ]
  },
  {
   "attachments": {},
   "cell_type": "markdown",
   "metadata": {},
   "source": [
    "Next, I want to use a line plot to visualize how the unemployment rate changes throughout the years. I want to visualize each age group with its own line."
   ]
  },
  {
   "cell_type": "code",
   "execution_count": null,
   "metadata": {},
   "outputs": [
    {
     "data": {
      "image/png": "[encoded data removed]",
      "text/plain": [
       "<Figure size 1200x675 with 1 Axes>"
      ]
     },
     "metadata": {},
     "output_type": "display_data"
    }
   ],
   "source": [
    "# Set the figure size for the plot\n",
    "plt.figure(figsize = (12, 6.75))\n",
    "\n",
    "# Create a line plot using seaborn, specifying data, x-axis as 'Date', y-axis as 'Unemployment Rate',\n",
    "# hue as 'Age Group' to display different lines for each age group, and size as 'Age Group' to control the thickness of lines\n",
    "ax = sns.lineplot(data = unemployment_data2, x = 'Year', y = 'Unemployment Rate', hue = 'Age Group', size = 'Age Group', sizes = [3,3,1,1,1,1,1])\n",
    "\n",
    "# Set the title of the plot\n",
    "plt.title('Unemployment Rate Over the Years for Different Age Groups', fontsize = 14)\n",
    "\n",
    "# Set margins of x-axis to 0 to remove any extra space\n",
    "ax.margins(x=0)\n",
    "\n",
    "# Format the y-axis labels to display percentages\n",
    "ax.yaxis.set_major_formatter(ticker.PercentFormatter(xmax=1,decimals = 0))\n",
    "\n",
    "# Set the lower limit of the y-axis to 0\n",
    "plt.ylim(0)\n",
    "\n",
    "# Remove the spines (the borders) from the plot\n",
    "sns.despine()\n",
    "\n",
    "plt.show()"
   ]
  },
  {
   "attachments": {},
   "cell_type": "markdown",
   "metadata": {},
   "source": [
    "Next, I'd like to employ a different type of plot to illustrate the unemployment rate for each age group. I'll calculate the average unemployment rate for each group and represent it in a Pie Chart. My aim is to create a very easy to read plot."
   ]
  },
  {
   "cell_type": "code",
   "execution_count": null,
   "metadata": {},
   "outputs": [
    {
     "data": {
      "image/png": "[encoded data removed]",
      "text/plain": [
       "<Figure size 600x600 with 1 Axes>"
      ]
     },
     "metadata": {},
     "output_type": "display_data"
    }
   ],
   "source": [
    "# Calculate average unemployment rate by age group\n",
    "avg_unemployment = unemployment_data2.groupby('Age Group')['Unemployment Rate'].mean()\n",
    "\n",
    "# Plotting a pie chart with percentage labels, using a figure size of 8x8 inches\n",
    "avg_unemployment.plot(kind='pie', autopct='%1.1f%%', figsize=(6, 6))\n",
    "\n",
    "plt.title('Average Unemployment Rate by Age Group')\n",
    "plt.ylabel('') # Removing the label for the y-axis\n",
    "plt.show()"
   ]
  },
  {
   "attachments": {},
   "cell_type": "markdown",
   "metadata": {},
   "source": [
    "I came across this plot in the code section of Kaggle.com, and I found it relevant to use here as well. The plot effectively highlights two spikes in the unemployment rate over the years. Additionally, it provides insights into the reasons behind these spikes, offering valuable and interesting information overall."
   ]
  },
  {
   "cell_type": "code",
   "execution_count": null,
   "metadata": {},
   "outputs": [
    {
     "data": {
      "image/png": "[encoded data removed]",
      "text/plain": [
       "<Figure size 1200x675 with 1 Axes>"
      ]
     },
     "metadata": {},
     "output_type": "display_data"
    }
   ],
   "source": [
    "# Set the figure size\n",
    "plt.figure(figsize = (12, 6.75))\n",
    "\n",
    "# Create a line plot\n",
    "ax = sns.lineplot(data = unemployment_data2, x = 'Date', y = 'Unemployment Rate')\n",
    "\n",
    "# Set the title\n",
    "plt.title('Unemployment Rate Over the Years', fontsize = 14)\n",
    "\n",
    "# Set x-axis margins\n",
    "ax.margins(x=0)\n",
    "\n",
    "# Format y-axis as percentage\n",
    "ax.yaxis.set_major_formatter(ticker.PercentFormatter(xmax=1,decimals = 0)) \n",
    "\n",
    "# Set y-axis limit\n",
    "plt.ylim(0)\n",
    "\n",
    "# Highlight recession period\n",
    "plt.axvspan(dt.datetime(2008, 2, 1), \n",
    "            dt.datetime(2009, 12, 31), \n",
    "            color='red', \n",
    "            alpha=0.2)\n",
    "# Annotate recession period\n",
    "ax.annotate('Unemployment rate\\nincreased due to\\nRecession', \n",
    "            xy=(dt.datetime(2009, 12, 31), .15), \n",
    "            xytext=(dt.datetime(2012, 7, 31), .19),\n",
    "            arrowprops=dict(facecolor='black', \n",
    "                            shrink=0.1, \n",
    "                            width = 1,\n",
    "                            headwidth = 5),\n",
    "            ha = 'center'\n",
    "           )\n",
    "\n",
    "# Highlight COVID-19 period\n",
    "plt.axvspan(dt.datetime(2020, 1, 1), \n",
    "            dt.datetime(2021, 12, 31), \n",
    "            color='darkblue', \n",
    "            alpha=0.2)\n",
    "# Annotate COVID-19 period\n",
    "ax.annotate('COVID-19', \n",
    "            xy=(dt.datetime(2021, 5, 1), .13), \n",
    "            xytext=(dt.datetime(2018, 1, 1), .18),\n",
    "            arrowprops=dict(facecolor='black', \n",
    "                            shrink=0.1, \n",
    "                            width = 1,\n",
    "                            headwidth = 5),\n",
    "           )\n",
    "\n",
    "# Remove spines\n",
    "sns.despine()\n",
    "\n",
    "plt.show()"
   ]
  },
  {
   "attachments": {},
   "cell_type": "markdown",
   "metadata": {},
   "source": [
    "I also saw this animated bar plot in the Kaggle.com code section and definitely wanted to use it in my analysis of this dataset. This animated bar chart visualizes the unemployment rate for different age groups over time, specifically focusing on the period during and after the COVID-19 pandemic in California. Each frame of the animation represents a different date, showing how the unemployment rate changes over time for each age group."
   ]
  },
  {
   "cell_type": "code",
   "execution_count": null,
   "metadata": {},
   "outputs": [
    {
     "data": {
      "application/vnd.plotly.v1+json": {
       "config": {
        "plotlyServerURL": "https://plot.ly"
       },
       "data": [
        {
         "alignmentgroup": "True",
         "hovertemplate": "Age Group=%{x}<br>Date=2020-01-01 00:00:00<br>Unemployment Rate=%{y}<extra></extra>",
         "legendgroup": "Age 16-19",
         "marker": {
          "color": "#636efa",
          "pattern": {
           "shape": ""
          }
         },
         "name": "Age 16-19",
         "offsetgroup": "Age 16-19",
         "orientation": "v",
         "showlegend": true,
         "textposition": "auto",
         "type": "bar",
         "x": [
          "Age 16-19"
         ],
         "xaxis": "x",
         "y": [
          0.143
         ],
         "yaxis": "y"
        },
        {
         "alignmentgroup": "True",
         "hovertemplate": "Age Group=%{x}<br>Date=2020-01-01 00:00:00<br>Unemployment Rate=%{y}<extra></extra>",
         "legendgroup": "Age 20-24",
         "marker": {
          "color": "#EF553B",
          "pattern": {
           "shape": ""
          }
         },
         "name": "Age 20-24",
         "offsetgroup": "Age 20-24",
         "orientation": "v",
         "showlegend": true,
         "textposition": "auto",
         "type": "bar",
         "x": [
          "Age 20-24"
         ],
         "xaxis": "x",
         "y": [
          0.072
         ],
         "yaxis": "y"
        },
        {
         "alignmentgroup": "True",
         "hovertemplate": "Age Group=%{x}<br>Date=2020-01-01 00:00:00<br>Unemployment Rate=%{y}<extra></extra>",
         "legendgroup": "Age 25-34",
         "marker": {
          "color": "#00cc96",
          "pattern": {
           "shape": ""
          }
         },
         "name": "Age 25-34",
         "offsetgroup": "Age 25-34",
         "orientation": "v",
         "showlegend": true,
         "textposition": "auto",
         "type": "bar",
         "x": [
          "Age 25-34"
         ],
         "xaxis": "x",
         "y": [
          0.041
         ],
         "yaxis": "y"
        },
        {
         "alignmentgroup": "True",
         "hovertemplate": "Age Group=%{x}<br>Date=2020-01-01 00:00:00<br>Unemployment Rate=%{y}<extra></extra>",
         "legendgroup": "Age 35-44",
         "marker": {
          "color": "#ab63fa",
          "pattern": {
           "shape": ""
          }
         },
         "name": "Age 35-44",
         "offsetgroup": "Age 35-44",
         "orientation": "v",
         "showlegend": true,
         "textposition": "auto",
         "type": "bar",
         "x": [
          "Age 35-44"
         ],
         "xaxis": "x",
         "y": [
          0.028
         ],
         "yaxis": "y"
        },
        {
         "alignmentgroup": "True",
         "hovertemplate": "Age Group=%{x}<br>Date=2020-01-01 00:00:00<br>Unemployment Rate=%{y}<extra></extra>",
         "legendgroup": "Age 45-54",
         "marker": {
          "color": "#FFA15A",
          "pattern": {
           "shape": ""
          }
         },
         "name": "Age 45-54",
         "offsetgroup": "Age 45-54",
         "orientation": "v",
         "showlegend": true,
         "textposition": "auto",
         "type": "bar",
         "x": [
          "Age 45-54"
         ],
         "xaxis": "x",
         "y": [
          0.032
         ],
         "yaxis": "y"
        },
        {
         "alignmentgroup": "True",
         "hovertemplate": "Age Group=%{x}<br>Date=2020-01-01 00:00:00<br>Unemployment Rate=%{y}<extra></extra>",
         "legendgroup": "Age 55-64",
         "marker": {
          "color": "#19d3f3",
          "pattern": {
           "shape": ""
          }
         },
         "name": "Age 55-64",
         "offsetgroup": "Age 55-64",
         "orientation": "v",
         "showlegend": true,
         "textposition": "auto",
         "type": "bar",
         "x": [
          "Age 55-64"
         ],
         "xaxis": "x",
         "y": [
          0.032
         ],
         "yaxis": "y"
        },
        {
         "alignmentgroup": "True",
         "hovertemplate": "Age Group=%{x}<br>Date=2020-01-01 00:00:00<br>Unemployment Rate=%{y}<extra></extra>",
         "legendgroup": "Age 65+",
         "marker": {
          "color": "#FF6692",
          "pattern": {
           "shape": ""
          }
         },
         "name": "Age 65+",
         "offsetgroup": "Age 65+",
         "orientation": "v",
         "showlegend": true,
         "textposition": "auto",
         "type": "bar",
         "x": [
          "Age 65+"
         ],
         "xaxis": "x",
         "y": [
          0.038
         ],
         "yaxis": "y"
        }
       ],
       "frames": [
        {
         "data": [
          {
           "alignmentgroup": "True",
           "hovertemplate": "Age Group=%{x}<br>Date=2020-01-01 00:00:00<br>Unemployment Rate=%{y}<extra></extra>",
           "legendgroup": "Age 16-19",
           "marker": {
            "color": "#636efa",
            "pattern": {
             "shape": ""
            }
           },
           "name": "Age 16-19",
           "offsetgroup": "Age 16-19",
           "orientation": "v",
           "showlegend": true,
           "textposition": "auto",
           "type": "bar",
           "x": [
            "Age 16-19"
           ],
           "xaxis": "x",
           "y": [
            0.143
           ],
           "yaxis": "y"
          },
          {
           "alignmentgroup": "True",
           "hovertemplate": "Age Group=%{x}<br>Date=2020-01-01 00:00:00<br>Unemployment Rate=%{y}<extra></extra>",
           "legendgroup": "Age 20-24",
           "marker": {
            "color": "#EF553B",
            "pattern": {
             "shape": ""
            }
           },
           "name": "Age 20-24",
           "offsetgroup": "Age 20-24",
           "orientation": "v",
           "showlegend": true,
           "textposition": "auto",
           "type": "bar",
           "x": [
            "Age 20-24"
           ],
           "xaxis": "x",
           "y": [
            0.072
           ],
           "yaxis": "y"
          },
          {
           "alignmentgroup": "True",
           "hovertemplate": "Age Group=%{x}<br>Date=2020-01-01 00:00:00<br>Unemployment Rate=%{y}<extra></extra>",
           "legendgroup": "Age 25-34",
           "marker": {
            "color": "#00cc96",
            "pattern": {
             "shape": ""
            }
           },
           "name": "Age 25-34",
           "offsetgroup": "Age 25-34",
           "orientation": "v",
           "showlegend": true,
           "textposition": "auto",
           "type": "bar",
           "x": [
            "Age 25-34"
           ],
           "xaxis": "x",
           "y": [
            0.041
           ],
           "yaxis": "y"
          },
          {
           "alignmentgroup": "True",
           "hovertemplate": "Age Group=%{x}<br>Date=2020-01-01 00:00:00<br>Unemployment Rate=%{y}<extra></extra>",
           "legendgroup": "Age 35-44",
           "marker": {
            "color": "#ab63fa",
            "pattern": {
             "shape": ""
            }
           },
           "name": "Age 35-44",
           "offsetgroup": "Age 35-44",
           "orientation": "v",
           "showlegend": true,
           "textposition": "auto",
           "type": "bar",
           "x": [
            "Age 35-44"
           ],
           "xaxis": "x",
           "y": [
            0.028
           ],
           "yaxis": "y"
          },
          {
           "alignmentgroup": "True",
           "hovertemplate": "Age Group=%{x}<br>Date=2020-01-01 00:00:00<br>Unemployment Rate=%{y}<extra></extra>",
           "legendgroup": "Age 45-54",
           "marker": {
            "color": "#FFA15A",
            "pattern": {
             "shape": ""
            }
           },
           "name": "Age 45-54",
           "offsetgroup": "Age 45-54",
           "orientation": "v",
           "showlegend": true,
           "textposition": "auto",
           "type": "bar",
           "x": [
            "Age 45-54"
           ],
           "xaxis": "x",
           "y": [
            0.032
           ],
           "yaxis": "y"
          },
          {
           "alignmentgroup": "True",
           "hovertemplate": "Age Group=%{x}<br>Date=2020-01-01 00:00:00<br>Unemployment Rate=%{y}<extra></extra>",
           "legendgroup": "Age 55-64",
           "marker": {
            "color": "#19d3f3",
            "pattern": {
             "shape": ""
            }
           },
           "name": "Age 55-64",
           "offsetgroup": "Age 55-64",
           "orientation": "v",
           "showlegend": true,
           "textposition": "auto",
           "type": "bar",
           "x": [
            "Age 55-64"
           ],
           "xaxis": "x",
           "y": [
            0.032
           ],
           "yaxis": "y"
          },
          {
           "alignmentgroup": "True",
           "hovertemplate": "Age Group=%{x}<br>Date=2020-01-01 00:00:00<br>Unemployment Rate=%{y}<extra></extra>",
           "legendgroup": "Age 65+",
           "marker": {
            "color": "#FF6692",
            "pattern": {
             "shape": ""
            }
           },
           "name": "Age 65+",
           "offsetgroup": "Age 65+",
           "orientation": "v",
           "showlegend": true,
           "textposition": "auto",
           "type": "bar",
           "x": [
            "Age 65+"
           ],
           "xaxis": "x",
           "y": [
            0.038
           ],
           "yaxis": "y"
          }
         ],
         "name": "2020-01-01 00:00:00"
        },
        {
         "data": [
          {
           "alignmentgroup": "True",
           "hovertemplate": "Age Group=%{x}<br>Date=2020-02-01 00:00:00<br>Unemployment Rate=%{y}<extra></extra>",
           "legendgroup": "Age 16-19",
           "marker": {
            "color": "#636efa",
            "pattern": {
             "shape": ""
            }
           },
           "name": "Age 16-19",
           "offsetgroup": "Age 16-19",
           "orientation": "v",
           "showlegend": true,
           "textposition": "auto",
           "type": "bar",
           "x": [
            "Age 16-19"
           ],
           "xaxis": "x",
           "y": [
            0.148
           ],
           "yaxis": "y"
          },
          {
           "alignmentgroup": "True",
           "hovertemplate": "Age Group=%{x}<br>Date=2020-02-01 00:00:00<br>Unemployment Rate=%{y}<extra></extra>",
           "legendgroup": "Age 20-24",
           "marker": {
            "color": "#EF553B",
            "pattern": {
             "shape": ""
            }
           },
           "name": "Age 20-24",
           "offsetgroup": "Age 20-24",
           "orientation": "v",
           "showlegend": true,
           "textposition": "auto",
           "type": "bar",
           "x": [
            "Age 20-24"
           ],
           "xaxis": "x",
           "y": [
            0.073
           ],
           "yaxis": "y"
          },
          {
           "alignmentgroup": "True",
           "hovertemplate": "Age Group=%{x}<br>Date=2020-02-01 00:00:00<br>Unemployment Rate=%{y}<extra></extra>",
           "legendgroup": "Age 25-34",
           "marker": {
            "color": "#00cc96",
            "pattern": {
             "shape": ""
            }
           },
           "name": "Age 25-34",
           "offsetgroup": "Age 25-34",
           "orientation": "v",
           "showlegend": true,
           "textposition": "auto",
           "type": "bar",
           "x": [
            "Age 25-34"
           ],
           "xaxis": "x",
           "y": [
            0.041
           ],
           "yaxis": "y"
          },
          {
           "alignmentgroup": "True",
           "hovertemplate": "Age Group=%{x}<br>Date=2020-02-01 00:00:00<br>Unemployment Rate=%{y}<extra></extra>",
           "legendgroup": "Age 35-44",
           "marker": {
            "color": "#ab63fa",
            "pattern": {
             "shape": ""
            }
           },
           "name": "Age 35-44",
           "offsetgroup": "Age 35-44",
           "orientation": "v",
           "showlegend": true,
           "textposition": "auto",
           "type": "bar",
           "x": [
            "Age 35-44"
           ],
           "xaxis": "x",
           "y": [
            0.029
           ],
           "yaxis": "y"
          },
          {
           "alignmentgroup": "True",
           "hovertemplate": "Age Group=%{x}<br>Date=2020-02-01 00:00:00<br>Unemployment Rate=%{y}<extra></extra>",
           "legendgroup": "Age 45-54",
           "marker": {
            "color": "#FFA15A",
            "pattern": {
             "shape": ""
            }
           },
           "name": "Age 45-54",
           "offsetgroup": "Age 45-54",
           "orientation": "v",
           "showlegend": true,
           "textposition": "auto",
           "type": "bar",
           "x": [
            "Age 45-54"
           ],
           "xaxis": "x",
           "y": [
            0.031
           ],
           "yaxis": "y"
          },
          {
           "alignmentgroup": "True",
           "hovertemplate": "Age Group=%{x}<br>Date=2020-02-01 00:00:00<br>Unemployment Rate=%{y}<extra></extra>",
           "legendgroup": "Age 55-64",
           "marker": {
            "color": "#19d3f3",
            "pattern": {
             "shape": ""
            }
           },
           "name": "Age 55-64",
           "offsetgroup": "Age 55-64",
           "orientation": "v",
           "showlegend": true,
           "textposition": "auto",
           "type": "bar",
           "x": [
            "Age 55-64"
           ],
           "xaxis": "x",
           "y": [
            0.033
           ],
           "yaxis": "y"
          },
          {
           "alignmentgroup": "True",
           "hovertemplate": "Age Group=%{x}<br>Date=2020-02-01 00:00:00<br>Unemployment Rate=%{y}<extra></extra>",
           "legendgroup": "Age 65+",
           "marker": {
            "color": "#FF6692",
            "pattern": {
             "shape": ""
            }
           },
           "name": "Age 65+",
           "offsetgroup": "Age 65+",
           "orientation": "v",
           "showlegend": true,
           "textposition": "auto",
           "type": "bar",
           "x": [
            "Age 65+"
           ],
           "xaxis": "x",
           "y": [
            0.036
           ],
           "yaxis": "y"
          }
         ],
         "name": "2020-02-01 00:00:00"
        },
        {
         "data": [
          {
           "alignmentgroup": "True",
           "hovertemplate": "Age Group=%{x}<br>Date=2020-03-01 00:00:00<br>Unemployment Rate=%{y}<extra></extra>",
           "legendgroup": "Age 16-19",
           "marker": {
            "color": "#636efa",
            "pattern": {
             "shape": ""
            }
           },
           "name": "Age 16-19",
           "offsetgroup": "Age 16-19",
           "orientation": "v",
           "showlegend": true,
           "textposition": "auto",
           "type": "bar",
           "x": [
            "Age 16-19"
           ],
           "xaxis": "x",
           "y": [
            0.151
           ],
           "yaxis": "y"
          },
          {
           "alignmentgroup": "True",
           "hovertemplate": "Age Group=%{x}<br>Date=2020-03-01 00:00:00<br>Unemployment Rate=%{y}<extra></extra>",
           "legendgroup": "Age 20-24",
           "marker": {
            "color": "#EF553B",
            "pattern": {
             "shape": ""
            }
           },
           "name": "Age 20-24",
           "offsetgroup": "Age 20-24",
           "orientation": "v",
           "showlegend": true,
           "textposition": "auto",
           "type": "bar",
           "x": [
            "Age 20-24"
           ],
           "xaxis": "x",
           "y": [
            0.076
           ],
           "yaxis": "y"
          },
          {
           "alignmentgroup": "True",
           "hovertemplate": "Age Group=%{x}<br>Date=2020-03-01 00:00:00<br>Unemployment Rate=%{y}<extra></extra>",
           "legendgroup": "Age 25-34",
           "marker": {
            "color": "#00cc96",
            "pattern": {
             "shape": ""
            }
           },
           "name": "Age 25-34",
           "offsetgroup": "Age 25-34",
           "orientation": "v",
           "showlegend": true,
           "textposition": "auto",
           "type": "bar",
           "x": [
            "Age 25-34"
           ],
           "xaxis": "x",
           "y": [
            0.041
           ],
           "yaxis": "y"
          },
          {
           "alignmentgroup": "True",
           "hovertemplate": "Age Group=%{x}<br>Date=2020-03-01 00:00:00<br>Unemployment Rate=%{y}<extra></extra>",
           "legendgroup": "Age 35-44",
           "marker": {
            "color": "#ab63fa",
            "pattern": {
             "shape": ""
            }
           },
           "name": "Age 35-44",
           "offsetgroup": "Age 35-44",
           "orientation": "v",
           "showlegend": true,
           "textposition": "auto",
           "type": "bar",
           "x": [
            "Age 35-44"
           ],
           "xaxis": "x",
           "y": [
            0.029
           ],
           "yaxis": "y"
          },
          {
           "alignmentgroup": "True",
           "hovertemplate": "Age Group=%{x}<br>Date=2020-03-01 00:00:00<br>Unemployment Rate=%{y}<extra></extra>",
           "legendgroup": "Age 45-54",
           "marker": {
            "color": "#FFA15A",
            "pattern": {
             "shape": ""
            }
           },
           "name": "Age 45-54",
           "offsetgroup": "Age 45-54",
           "orientation": "v",
           "showlegend": true,
           "textposition": "auto",
           "type": "bar",
           "x": [
            "Age 45-54"
           ],
           "xaxis": "x",
           "y": [
            0.031
           ],
           "yaxis": "y"
          },
          {
           "alignmentgroup": "True",
           "hovertemplate": "Age Group=%{x}<br>Date=2020-03-01 00:00:00<br>Unemployment Rate=%{y}<extra></extra>",
           "legendgroup": "Age 55-64",
           "marker": {
            "color": "#19d3f3",
            "pattern": {
             "shape": ""
            }
           },
           "name": "Age 55-64",
           "offsetgroup": "Age 55-64",
           "orientation": "v",
           "showlegend": true,
           "textposition": "auto",
           "type": "bar",
           "x": [
            "Age 55-64"
           ],
           "xaxis": "x",
           "y": [
            0.034
           ],
           "yaxis": "y"
          },
          {
           "alignmentgroup": "True",
           "hovertemplate": "Age Group=%{x}<br>Date=2020-03-01 00:00:00<br>Unemployment Rate=%{y}<extra></extra>",
           "legendgroup": "Age 65+",
           "marker": {
            "color": "#FF6692",
            "pattern": {
             "shape": ""
            }
           },
           "name": "Age 65+",
           "offsetgroup": "Age 65+",
           "orientation": "v",
           "showlegend": true,
           "textposition": "auto",
           "type": "bar",
           "x": [
            "Age 65+"
           ],
           "xaxis": "x",
           "y": [
            0.036
           ],
           "yaxis": "y"
          }
         ],
         "name": "2020-03-01 00:00:00"
        },
        {
         "data": [
          {
           "alignmentgroup": "True",
           "hovertemplate": "Age Group=%{x}<br>Date=2020-04-01 00:00:00<br>Unemployment Rate=%{y}<extra></extra>",
           "legendgroup": "Age 16-19",
           "marker": {
            "color": "#636efa",
            "pattern": {
             "shape": ""
            }
           },
           "name": "Age 16-19",
           "offsetgroup": "Age 16-19",
           "orientation": "v",
           "showlegend": true,
           "textposition": "auto",
           "type": "bar",
           "x": [
            "Age 16-19"
           ],
           "xaxis": "x",
           "y": [
            0.167
           ],
           "yaxis": "y"
          },
          {
           "alignmentgroup": "True",
           "hovertemplate": "Age Group=%{x}<br>Date=2020-04-01 00:00:00<br>Unemployment Rate=%{y}<extra></extra>",
           "legendgroup": "Age 20-24",
           "marker": {
            "color": "#EF553B",
            "pattern": {
             "shape": ""
            }
           },
           "name": "Age 20-24",
           "offsetgroup": "Age 20-24",
           "orientation": "v",
           "showlegend": true,
           "textposition": "auto",
           "type": "bar",
           "x": [
            "Age 20-24"
           ],
           "xaxis": "x",
           "y": [
            0.091
           ],
           "yaxis": "y"
          },
          {
           "alignmentgroup": "True",
           "hovertemplate": "Age Group=%{x}<br>Date=2020-04-01 00:00:00<br>Unemployment Rate=%{y}<extra></extra>",
           "legendgroup": "Age 25-34",
           "marker": {
            "color": "#00cc96",
            "pattern": {
             "shape": ""
            }
           },
           "name": "Age 25-34",
           "offsetgroup": "Age 25-34",
           "orientation": "v",
           "showlegend": true,
           "textposition": "auto",
           "type": "bar",
           "x": [
            "Age 25-34"
           ],
           "xaxis": "x",
           "y": [
            0.051
           ],
           "yaxis": "y"
          },
          {
           "alignmentgroup": "True",
           "hovertemplate": "Age Group=%{x}<br>Date=2020-04-01 00:00:00<br>Unemployment Rate=%{y}<extra></extra>",
           "legendgroup": "Age 35-44",
           "marker": {
            "color": "#ab63fa",
            "pattern": {
             "shape": ""
            }
           },
           "name": "Age 35-44",
           "offsetgroup": "Age 35-44",
           "orientation": "v",
           "showlegend": true,
           "textposition": "auto",
           "type": "bar",
           "x": [
            "Age 35-44"
           ],
           "xaxis": "x",
           "y": [
            0.038
           ],
           "yaxis": "y"
          },
          {
           "alignmentgroup": "True",
           "hovertemplate": "Age Group=%{x}<br>Date=2020-04-01 00:00:00<br>Unemployment Rate=%{y}<extra></extra>",
           "legendgroup": "Age 45-54",
           "marker": {
            "color": "#FFA15A",
            "pattern": {
             "shape": ""
            }
           },
           "name": "Age 45-54",
           "offsetgroup": "Age 45-54",
           "orientation": "v",
           "showlegend": true,
           "textposition": "auto",
           "type": "bar",
           "x": [
            "Age 45-54"
           ],
           "xaxis": "x",
           "y": [
            0.041
           ],
           "yaxis": "y"
          },
          {
           "alignmentgroup": "True",
           "hovertemplate": "Age Group=%{x}<br>Date=2020-04-01 00:00:00<br>Unemployment Rate=%{y}<extra></extra>",
           "legendgroup": "Age 55-64",
           "marker": {
            "color": "#19d3f3",
            "pattern": {
             "shape": ""
            }
           },
           "name": "Age 55-64",
           "offsetgroup": "Age 55-64",
           "orientation": "v",
           "showlegend": true,
           "textposition": "auto",
           "type": "bar",
           "x": [
            "Age 55-64"
           ],
           "xaxis": "x",
           "y": [
            0.043
           ],
           "yaxis": "y"
          },
          {
           "alignmentgroup": "True",
           "hovertemplate": "Age Group=%{x}<br>Date=2020-04-01 00:00:00<br>Unemployment Rate=%{y}<extra></extra>",
           "legendgroup": "Age 65+",
           "marker": {
            "color": "#FF6692",
            "pattern": {
             "shape": ""
            }
           },
           "name": "Age 65+",
           "offsetgroup": "Age 65+",
           "orientation": "v",
           "showlegend": true,
           "textposition": "auto",
           "type": "bar",
           "x": [
            "Age 65+"
           ],
           "xaxis": "x",
           "y": [
            0.046
           ],
           "yaxis": "y"
          }
         ],
         "name": "2020-04-01 00:00:00"
        },
        {
         "data": [
          {
           "alignmentgroup": "True",
           "hovertemplate": "Age Group=%{x}<br>Date=2020-05-01 00:00:00<br>Unemployment Rate=%{y}<extra></extra>",
           "legendgroup": "Age 16-19",
           "marker": {
            "color": "#636efa",
            "pattern": {
             "shape": ""
            }
           },
           "name": "Age 16-19",
           "offsetgroup": "Age 16-19",
           "orientation": "v",
           "showlegend": true,
           "textposition": "auto",
           "type": "bar",
           "x": [
            "Age 16-19"
           ],
           "xaxis": "x",
           "y": [
            0.186
           ],
           "yaxis": "y"
          },
          {
           "alignmentgroup": "True",
           "hovertemplate": "Age Group=%{x}<br>Date=2020-05-01 00:00:00<br>Unemployment Rate=%{y}<extra></extra>",
           "legendgroup": "Age 20-24",
           "marker": {
            "color": "#EF553B",
            "pattern": {
             "shape": ""
            }
           },
           "name": "Age 20-24",
           "offsetgroup": "Age 20-24",
           "orientation": "v",
           "showlegend": true,
           "textposition": "auto",
           "type": "bar",
           "x": [
            "Age 20-24"
           ],
           "xaxis": "x",
           "y": [
            0.105
           ],
           "yaxis": "y"
          },
          {
           "alignmentgroup": "True",
           "hovertemplate": "Age Group=%{x}<br>Date=2020-05-01 00:00:00<br>Unemployment Rate=%{y}<extra></extra>",
           "legendgroup": "Age 25-34",
           "marker": {
            "color": "#00cc96",
            "pattern": {
             "shape": ""
            }
           },
           "name": "Age 25-34",
           "offsetgroup": "Age 25-34",
           "orientation": "v",
           "showlegend": true,
           "textposition": "auto",
           "type": "bar",
           "x": [
            "Age 25-34"
           ],
           "xaxis": "x",
           "y": [
            0.062
           ],
           "yaxis": "y"
          },
          {
           "alignmentgroup": "True",
           "hovertemplate": "Age Group=%{x}<br>Date=2020-05-01 00:00:00<br>Unemployment Rate=%{y}<extra></extra>",
           "legendgroup": "Age 35-44",
           "marker": {
            "color": "#ab63fa",
            "pattern": {
             "shape": ""
            }
           },
           "name": "Age 35-44",
           "offsetgroup": "Age 35-44",
           "orientation": "v",
           "showlegend": true,
           "textposition": "auto",
           "type": "bar",
           "x": [
            "Age 35-44"
           ],
           "xaxis": "x",
           "y": [
            0.045
           ],
           "yaxis": "y"
          },
          {
           "alignmentgroup": "True",
           "hovertemplate": "Age Group=%{x}<br>Date=2020-05-01 00:00:00<br>Unemployment Rate=%{y}<extra></extra>",
           "legendgroup": "Age 45-54",
           "marker": {
            "color": "#FFA15A",
            "pattern": {
             "shape": ""
            }
           },
           "name": "Age 45-54",
           "offsetgroup": "Age 45-54",
           "orientation": "v",
           "showlegend": true,
           "textposition": "auto",
           "type": "bar",
           "x": [
            "Age 45-54"
           ],
           "xaxis": "x",
           "y": [
            0.05
           ],
           "yaxis": "y"
          },
          {
           "alignmentgroup": "True",
           "hovertemplate": "Age Group=%{x}<br>Date=2020-05-01 00:00:00<br>Unemployment Rate=%{y}<extra></extra>",
           "legendgroup": "Age 55-64",
           "marker": {
            "color": "#19d3f3",
            "pattern": {
             "shape": ""
            }
           },
           "name": "Age 55-64",
           "offsetgroup": "Age 55-64",
           "orientation": "v",
           "showlegend": true,
           "textposition": "auto",
           "type": "bar",
           "x": [
            "Age 55-64"
           ],
           "xaxis": "x",
           "y": [
            0.05
           ],
           "yaxis": "y"
          },
          {
           "alignmentgroup": "True",
           "hovertemplate": "Age Group=%{x}<br>Date=2020-05-01 00:00:00<br>Unemployment Rate=%{y}<extra></extra>",
           "legendgroup": "Age 65+",
           "marker": {
            "color": "#FF6692",
            "pattern": {
             "shape": ""
            }
           },
           "name": "Age 65+",
           "offsetgroup": "Age 65+",
           "orientation": "v",
           "showlegend": true,
           "textposition": "auto",
           "type": "bar",
           "x": [
            "Age 65+"
           ],
           "xaxis": "x",
           "y": [
            0.058
           ],
           "yaxis": "y"
          }
         ],
         "name": "2020-05-01 00:00:00"
        },
        {
         "data": [
          {
           "alignmentgroup": "True",
           "hovertemplate": "Age Group=%{x}<br>Date=2020-06-01 00:00:00<br>Unemployment Rate=%{y}<extra></extra>",
           "legendgroup": "Age 16-19",
           "marker": {
            "color": "#636efa",
            "pattern": {
             "shape": ""
            }
           },
           "name": "Age 16-19",
           "offsetgroup": "Age 16-19",
           "orientation": "v",
           "showlegend": true,
           "textposition": "auto",
           "type": "bar",
           "x": [
            "Age 16-19"
           ],
           "xaxis": "x",
           "y": [
            0.2
           ],
           "yaxis": "y"
          },
          {
           "alignmentgroup": "True",
           "hovertemplate": "Age Group=%{x}<br>Date=2020-06-01 00:00:00<br>Unemployment Rate=%{y}<extra></extra>",
           "legendgroup": "Age 20-24",
           "marker": {
            "color": "#EF553B",
            "pattern": {
             "shape": ""
            }
           },
           "name": "Age 20-24",
           "offsetgroup": "Age 20-24",
           "orientation": "v",
           "showlegend": true,
           "textposition": "auto",
           "type": "bar",
           "x": [
            "Age 20-24"
           ],
           "xaxis": "x",
           "y": [
            0.118
           ],
           "yaxis": "y"
          },
          {
           "alignmentgroup": "True",
           "hovertemplate": "Age Group=%{x}<br>Date=2020-06-01 00:00:00<br>Unemployment Rate=%{y}<extra></extra>",
           "legendgroup": "Age 25-34",
           "marker": {
            "color": "#00cc96",
            "pattern": {
             "shape": ""
            }
           },
           "name": "Age 25-34",
           "offsetgroup": "Age 25-34",
           "orientation": "v",
           "showlegend": true,
           "textposition": "auto",
           "type": "bar",
           "x": [
            "Age 25-34"
           ],
           "xaxis": "x",
           "y": [
            0.071
           ],
           "yaxis": "y"
          },
          {
           "alignmentgroup": "True",
           "hovertemplate": "Age Group=%{x}<br>Date=2020-06-01 00:00:00<br>Unemployment Rate=%{y}<extra></extra>",
           "legendgroup": "Age 35-44",
           "marker": {
            "color": "#ab63fa",
            "pattern": {
             "shape": ""
            }
           },
           "name": "Age 35-44",
           "offsetgroup": "Age 35-44",
           "orientation": "v",
           "showlegend": true,
           "textposition": "auto",
           "type": "bar",
           "x": [
            "Age 35-44"
           ],
           "xaxis": "x",
           "y": [
            0.052
           ],
           "yaxis": "y"
          },
          {
           "alignmentgroup": "True",
           "hovertemplate": "Age Group=%{x}<br>Date=2020-06-01 00:00:00<br>Unemployment Rate=%{y}<extra></extra>",
           "legendgroup": "Age 45-54",
           "marker": {
            "color": "#FFA15A",
            "pattern": {
             "shape": ""
            }
           },
           "name": "Age 45-54",
           "offsetgroup": "Age 45-54",
           "orientation": "v",
           "showlegend": true,
           "textposition": "auto",
           "type": "bar",
           "x": [
            "Age 45-54"
           ],
           "xaxis": "x",
           "y": [
            0.057
           ],
           "yaxis": "y"
          },
          {
           "alignmentgroup": "True",
           "hovertemplate": "Age Group=%{x}<br>Date=2020-06-01 00:00:00<br>Unemployment Rate=%{y}<extra></extra>",
           "legendgroup": "Age 55-64",
           "marker": {
            "color": "#19d3f3",
            "pattern": {
             "shape": ""
            }
           },
           "name": "Age 55-64",
           "offsetgroup": "Age 55-64",
           "orientation": "v",
           "showlegend": true,
           "textposition": "auto",
           "type": "bar",
           "x": [
            "Age 55-64"
           ],
           "xaxis": "x",
           "y": [
            0.058
           ],
           "yaxis": "y"
          },
          {
           "alignmentgroup": "True",
           "hovertemplate": "Age Group=%{x}<br>Date=2020-06-01 00:00:00<br>Unemployment Rate=%{y}<extra></extra>",
           "legendgroup": "Age 65+",
           "marker": {
            "color": "#FF6692",
            "pattern": {
             "shape": ""
            }
           },
           "name": "Age 65+",
           "offsetgroup": "Age 65+",
           "orientation": "v",
           "showlegend": true,
           "textposition": "auto",
           "type": "bar",
           "x": [
            "Age 65+"
           ],
           "xaxis": "x",
           "y": [
            0.066
           ],
           "yaxis": "y"
          }
         ],
         "name": "2020-06-01 00:00:00"
        },
        {
         "data": [
          {
           "alignmentgroup": "True",
           "hovertemplate": "Age Group=%{x}<br>Date=2020-07-01 00:00:00<br>Unemployment Rate=%{y}<extra></extra>",
           "legendgroup": "Age 16-19",
           "marker": {
            "color": "#636efa",
            "pattern": {
             "shape": ""
            }
           },
           "name": "Age 16-19",
           "offsetgroup": "Age 16-19",
           "orientation": "v",
           "showlegend": true,
           "textposition": "auto",
           "type": "bar",
           "x": [
            "Age 16-19"
           ],
           "xaxis": "x",
           "y": [
            0.211
           ],
           "yaxis": "y"
          },
          {
           "alignmentgroup": "True",
           "hovertemplate": "Age Group=%{x}<br>Date=2020-07-01 00:00:00<br>Unemployment Rate=%{y}<extra></extra>",
           "legendgroup": "Age 20-24",
           "marker": {
            "color": "#EF553B",
            "pattern": {
             "shape": ""
            }
           },
           "name": "Age 20-24",
           "offsetgroup": "Age 20-24",
           "orientation": "v",
           "showlegend": true,
           "textposition": "auto",
           "type": "bar",
           "x": [
            "Age 20-24"
           ],
           "xaxis": "x",
           "y": [
            0.129
           ],
           "yaxis": "y"
          },
          {
           "alignmentgroup": "True",
           "hovertemplate": "Age Group=%{x}<br>Date=2020-07-01 00:00:00<br>Unemployment Rate=%{y}<extra></extra>",
           "legendgroup": "Age 25-34",
           "marker": {
            "color": "#00cc96",
            "pattern": {
             "shape": ""
            }
           },
           "name": "Age 25-34",
           "offsetgroup": "Age 25-34",
           "orientation": "v",
           "showlegend": true,
           "textposition": "auto",
           "type": "bar",
           "x": [
            "Age 25-34"
           ],
           "xaxis": "x",
           "y": [
            0.079
           ],
           "yaxis": "y"
          },
          {
           "alignmentgroup": "True",
           "hovertemplate": "Age Group=%{x}<br>Date=2020-07-01 00:00:00<br>Unemployment Rate=%{y}<extra></extra>",
           "legendgroup": "Age 35-44",
           "marker": {
            "color": "#ab63fa",
            "pattern": {
             "shape": ""
            }
           },
           "name": "Age 35-44",
           "offsetgroup": "Age 35-44",
           "orientation": "v",
           "showlegend": true,
           "textposition": "auto",
           "type": "bar",
           "x": [
            "Age 35-44"
           ],
           "xaxis": "x",
           "y": [
            0.059
           ],
           "yaxis": "y"
          },
          {
           "alignmentgroup": "True",
           "hovertemplate": "Age Group=%{x}<br>Date=2020-07-01 00:00:00<br>Unemployment Rate=%{y}<extra></extra>",
           "legendgroup": "Age 45-54",
           "marker": {
            "color": "#FFA15A",
            "pattern": {
             "shape": ""
            }
           },
           "name": "Age 45-54",
           "offsetgroup": "Age 45-54",
           "orientation": "v",
           "showlegend": true,
           "textposition": "auto",
           "type": "bar",
           "x": [
            "Age 45-54"
           ],
           "xaxis": "x",
           "y": [
            0.063
           ],
           "yaxis": "y"
          },
          {
           "alignmentgroup": "True",
           "hovertemplate": "Age Group=%{x}<br>Date=2020-07-01 00:00:00<br>Unemployment Rate=%{y}<extra></extra>",
           "legendgroup": "Age 55-64",
           "marker": {
            "color": "#19d3f3",
            "pattern": {
             "shape": ""
            }
           },
           "name": "Age 55-64",
           "offsetgroup": "Age 55-64",
           "orientation": "v",
           "showlegend": true,
           "textposition": "auto",
           "type": "bar",
           "x": [
            "Age 55-64"
           ],
           "xaxis": "x",
           "y": [
            0.063
           ],
           "yaxis": "y"
          },
          {
           "alignmentgroup": "True",
           "hovertemplate": "Age Group=%{x}<br>Date=2020-07-01 00:00:00<br>Unemployment Rate=%{y}<extra></extra>",
           "legendgroup": "Age 65+",
           "marker": {
            "color": "#FF6692",
            "pattern": {
             "shape": ""
            }
           },
           "name": "Age 65+",
           "offsetgroup": "Age 65+",
           "orientation": "v",
           "showlegend": true,
           "textposition": "auto",
           "type": "bar",
           "x": [
            "Age 65+"
           ],
           "xaxis": "x",
           "y": [
            0.073
           ],
           "yaxis": "y"
          }
         ],
         "name": "2020-07-01 00:00:00"
        },
        {
         "data": [
          {
           "alignmentgroup": "True",
           "hovertemplate": "Age Group=%{x}<br>Date=2020-08-01 00:00:00<br>Unemployment Rate=%{y}<extra></extra>",
           "legendgroup": "Age 16-19",
           "marker": {
            "color": "#636efa",
            "pattern": {
             "shape": ""
            }
           },
           "name": "Age 16-19",
           "offsetgroup": "Age 16-19",
           "orientation": "v",
           "showlegend": true,
           "textposition": "auto",
           "type": "bar",
           "x": [
            "Age 16-19"
           ],
           "xaxis": "x",
           "y": [
            0.215
           ],
           "yaxis": "y"
          },
          {
           "alignmentgroup": "True",
           "hovertemplate": "Age Group=%{x}<br>Date=2020-08-01 00:00:00<br>Unemployment Rate=%{y}<extra></extra>",
           "legendgroup": "Age 20-24",
           "marker": {
            "color": "#EF553B",
            "pattern": {
             "shape": ""
            }
           },
           "name": "Age 20-24",
           "offsetgroup": "Age 20-24",
           "orientation": "v",
           "showlegend": true,
           "textposition": "auto",
           "type": "bar",
           "x": [
            "Age 20-24"
           ],
           "xaxis": "x",
           "y": [
            0.138
           ],
           "yaxis": "y"
          },
          {
           "alignmentgroup": "True",
           "hovertemplate": "Age Group=%{x}<br>Date=2020-08-01 00:00:00<br>Unemployment Rate=%{y}<extra></extra>",
           "legendgroup": "Age 25-34",
           "marker": {
            "color": "#00cc96",
            "pattern": {
             "shape": ""
            }
           },
           "name": "Age 25-34",
           "offsetgroup": "Age 25-34",
           "orientation": "v",
           "showlegend": true,
           "textposition": "auto",
           "type": "bar",
           "x": [
            "Age 25-34"
           ],
           "xaxis": "x",
           "y": [
            0.087
           ],
           "yaxis": "y"
          },
          {
           "alignmentgroup": "True",
           "hovertemplate": "Age Group=%{x}<br>Date=2020-08-01 00:00:00<br>Unemployment Rate=%{y}<extra></extra>",
           "legendgroup": "Age 35-44",
           "marker": {
            "color": "#ab63fa",
            "pattern": {
             "shape": ""
            }
           },
           "name": "Age 35-44",
           "offsetgroup": "Age 35-44",
           "orientation": "v",
           "showlegend": true,
           "textposition": "auto",
           "type": "bar",
           "x": [
            "Age 35-44"
           ],
           "xaxis": "x",
           "y": [
            0.066
           ],
           "yaxis": "y"
          },
          {
           "alignmentgroup": "True",
           "hovertemplate": "Age Group=%{x}<br>Date=2020-08-01 00:00:00<br>Unemployment Rate=%{y}<extra></extra>",
           "legendgroup": "Age 45-54",
           "marker": {
            "color": "#FFA15A",
            "pattern": {
             "shape": ""
            }
           },
           "name": "Age 45-54",
           "offsetgroup": "Age 45-54",
           "orientation": "v",
           "showlegend": true,
           "textposition": "auto",
           "type": "bar",
           "x": [
            "Age 45-54"
           ],
           "xaxis": "x",
           "y": [
            0.068
           ],
           "yaxis": "y"
          },
          {
           "alignmentgroup": "True",
           "hovertemplate": "Age Group=%{x}<br>Date=2020-08-01 00:00:00<br>Unemployment Rate=%{y}<extra></extra>",
           "legendgroup": "Age 55-64",
           "marker": {
            "color": "#19d3f3",
            "pattern": {
             "shape": ""
            }
           },
           "name": "Age 55-64",
           "offsetgroup": "Age 55-64",
           "orientation": "v",
           "showlegend": true,
           "textposition": "auto",
           "type": "bar",
           "x": [
            "Age 55-64"
           ],
           "xaxis": "x",
           "y": [
            0.069
           ],
           "yaxis": "y"
          },
          {
           "alignmentgroup": "True",
           "hovertemplate": "Age Group=%{x}<br>Date=2020-08-01 00:00:00<br>Unemployment Rate=%{y}<extra></extra>",
           "legendgroup": "Age 65+",
           "marker": {
            "color": "#FF6692",
            "pattern": {
             "shape": ""
            }
           },
           "name": "Age 65+",
           "offsetgroup": "Age 65+",
           "orientation": "v",
           "showlegend": true,
           "textposition": "auto",
           "type": "bar",
           "x": [
            "Age 65+"
           ],
           "xaxis": "x",
           "y": [
            0.081
           ],
           "yaxis": "y"
          }
         ],
         "name": "2020-08-01 00:00:00"
        },
        {
         "data": [
          {
           "alignmentgroup": "True",
           "hovertemplate": "Age Group=%{x}<br>Date=2020-09-01 00:00:00<br>Unemployment Rate=%{y}<extra></extra>",
           "legendgroup": "Age 16-19",
           "marker": {
            "color": "#636efa",
            "pattern": {
             "shape": ""
            }
           },
           "name": "Age 16-19",
           "offsetgroup": "Age 16-19",
           "orientation": "v",
           "showlegend": true,
           "textposition": "auto",
           "type": "bar",
           "x": [
            "Age 16-19"
           ],
           "xaxis": "x",
           "y": [
            0.221
           ],
           "yaxis": "y"
          },
          {
           "alignmentgroup": "True",
           "hovertemplate": "Age Group=%{x}<br>Date=2020-09-01 00:00:00<br>Unemployment Rate=%{y}<extra></extra>",
           "legendgroup": "Age 20-24",
           "marker": {
            "color": "#EF553B",
            "pattern": {
             "shape": ""
            }
           },
           "name": "Age 20-24",
           "offsetgroup": "Age 20-24",
           "orientation": "v",
           "showlegend": true,
           "textposition": "auto",
           "type": "bar",
           "x": [
            "Age 20-24"
           ],
           "xaxis": "x",
           "y": [
            0.146
           ],
           "yaxis": "y"
          },
          {
           "alignmentgroup": "True",
           "hovertemplate": "Age Group=%{x}<br>Date=2020-09-01 00:00:00<br>Unemployment Rate=%{y}<extra></extra>",
           "legendgroup": "Age 25-34",
           "marker": {
            "color": "#00cc96",
            "pattern": {
             "shape": ""
            }
           },
           "name": "Age 25-34",
           "offsetgroup": "Age 25-34",
           "orientation": "v",
           "showlegend": true,
           "textposition": "auto",
           "type": "bar",
           "x": [
            "Age 25-34"
           ],
           "xaxis": "x",
           "y": [
            0.095
           ],
           "yaxis": "y"
          },
          {
           "alignmentgroup": "True",
           "hovertemplate": "Age Group=%{x}<br>Date=2020-09-01 00:00:00<br>Unemployment Rate=%{y}<extra></extra>",
           "legendgroup": "Age 35-44",
           "marker": {
            "color": "#ab63fa",
            "pattern": {
             "shape": ""
            }
           },
           "name": "Age 35-44",
           "offsetgroup": "Age 35-44",
           "orientation": "v",
           "showlegend": true,
           "textposition": "auto",
           "type": "bar",
           "x": [
            "Age 35-44"
           ],
           "xaxis": "x",
           "y": [
            0.071
           ],
           "yaxis": "y"
          },
          {
           "alignmentgroup": "True",
           "hovertemplate": "Age Group=%{x}<br>Date=2020-09-01 00:00:00<br>Unemployment Rate=%{y}<extra></extra>",
           "legendgroup": "Age 45-54",
           "marker": {
            "color": "#FFA15A",
            "pattern": {
             "shape": ""
            }
           },
           "name": "Age 45-54",
           "offsetgroup": "Age 45-54",
           "orientation": "v",
           "showlegend": true,
           "textposition": "auto",
           "type": "bar",
           "x": [
            "Age 45-54"
           ],
           "xaxis": "x",
           "y": [
            0.072
           ],
           "yaxis": "y"
          },
          {
           "alignmentgroup": "True",
           "hovertemplate": "Age Group=%{x}<br>Date=2020-09-01 00:00:00<br>Unemployment Rate=%{y}<extra></extra>",
           "legendgroup": "Age 55-64",
           "marker": {
            "color": "#19d3f3",
            "pattern": {
             "shape": ""
            }
           },
           "name": "Age 55-64",
           "offsetgroup": "Age 55-64",
           "orientation": "v",
           "showlegend": true,
           "textposition": "auto",
           "type": "bar",
           "x": [
            "Age 55-64"
           ],
           "xaxis": "x",
           "y": [
            0.075
           ],
           "yaxis": "y"
          },
          {
           "alignmentgroup": "True",
           "hovertemplate": "Age Group=%{x}<br>Date=2020-09-01 00:00:00<br>Unemployment Rate=%{y}<extra></extra>",
           "legendgroup": "Age 65+",
           "marker": {
            "color": "#FF6692",
            "pattern": {
             "shape": ""
            }
           },
           "name": "Age 65+",
           "offsetgroup": "Age 65+",
           "orientation": "v",
           "showlegend": true,
           "textposition": "auto",
           "type": "bar",
           "x": [
            "Age 65+"
           ],
           "xaxis": "x",
           "y": [
            0.088
           ],
           "yaxis": "y"
          }
         ],
         "name": "2020-09-01 00:00:00"
        },
        {
         "data": [
          {
           "alignmentgroup": "True",
           "hovertemplate": "Age Group=%{x}<br>Date=2020-10-01 00:00:00<br>Unemployment Rate=%{y}<extra></extra>",
           "legendgroup": "Age 16-19",
           "marker": {
            "color": "#636efa",
            "pattern": {
             "shape": ""
            }
           },
           "name": "Age 16-19",
           "offsetgroup": "Age 16-19",
           "orientation": "v",
           "showlegend": true,
           "textposition": "auto",
           "type": "bar",
           "x": [
            "Age 16-19"
           ],
           "xaxis": "x",
           "y": [
            0.225
           ],
           "yaxis": "y"
          },
          {
           "alignmentgroup": "True",
           "hovertemplate": "Age Group=%{x}<br>Date=2020-10-01 00:00:00<br>Unemployment Rate=%{y}<extra></extra>",
           "legendgroup": "Age 20-24",
           "marker": {
            "color": "#EF553B",
            "pattern": {
             "shape": ""
            }
           },
           "name": "Age 20-24",
           "offsetgroup": "Age 20-24",
           "orientation": "v",
           "showlegend": true,
           "textposition": "auto",
           "type": "bar",
           "x": [
            "Age 20-24"
           ],
           "xaxis": "x",
           "y": [
            0.152
           ],
           "yaxis": "y"
          },
          {
           "alignmentgroup": "True",
           "hovertemplate": "Age Group=%{x}<br>Date=2020-10-01 00:00:00<br>Unemployment Rate=%{y}<extra></extra>",
           "legendgroup": "Age 25-34",
           "marker": {
            "color": "#00cc96",
            "pattern": {
             "shape": ""
            }
           },
           "name": "Age 25-34",
           "offsetgroup": "Age 25-34",
           "orientation": "v",
           "showlegend": true,
           "textposition": "auto",
           "type": "bar",
           "x": [
            "Age 25-34"
           ],
           "xaxis": "x",
           "y": [
            0.099
           ],
           "yaxis": "y"
          },
          {
           "alignmentgroup": "True",
           "hovertemplate": "Age Group=%{x}<br>Date=2020-10-01 00:00:00<br>Unemployment Rate=%{y}<extra></extra>",
           "legendgroup": "Age 35-44",
           "marker": {
            "color": "#ab63fa",
            "pattern": {
             "shape": ""
            }
           },
           "name": "Age 35-44",
           "offsetgroup": "Age 35-44",
           "orientation": "v",
           "showlegend": true,
           "textposition": "auto",
           "type": "bar",
           "x": [
            "Age 35-44"
           ],
           "xaxis": "x",
           "y": [
            0.076
           ],
           "yaxis": "y"
          },
          {
           "alignmentgroup": "True",
           "hovertemplate": "Age Group=%{x}<br>Date=2020-10-01 00:00:00<br>Unemployment Rate=%{y}<extra></extra>",
           "legendgroup": "Age 45-54",
           "marker": {
            "color": "#FFA15A",
            "pattern": {
             "shape": ""
            }
           },
           "name": "Age 45-54",
           "offsetgroup": "Age 45-54",
           "orientation": "v",
           "showlegend": true,
           "textposition": "auto",
           "type": "bar",
           "x": [
            "Age 45-54"
           ],
           "xaxis": "x",
           "y": [
            0.076
           ],
           "yaxis": "y"
          },
          {
           "alignmentgroup": "True",
           "hovertemplate": "Age Group=%{x}<br>Date=2020-10-01 00:00:00<br>Unemployment Rate=%{y}<extra></extra>",
           "legendgroup": "Age 55-64",
           "marker": {
            "color": "#19d3f3",
            "pattern": {
             "shape": ""
            }
           },
           "name": "Age 55-64",
           "offsetgroup": "Age 55-64",
           "orientation": "v",
           "showlegend": true,
           "textposition": "auto",
           "type": "bar",
           "x": [
            "Age 55-64"
           ],
           "xaxis": "x",
           "y": [
            0.08
           ],
           "yaxis": "y"
          },
          {
           "alignmentgroup": "True",
           "hovertemplate": "Age Group=%{x}<br>Date=2020-10-01 00:00:00<br>Unemployment Rate=%{y}<extra></extra>",
           "legendgroup": "Age 65+",
           "marker": {
            "color": "#FF6692",
            "pattern": {
             "shape": ""
            }
           },
           "name": "Age 65+",
           "offsetgroup": "Age 65+",
           "orientation": "v",
           "showlegend": true,
           "textposition": "auto",
           "type": "bar",
           "x": [
            "Age 65+"
           ],
           "xaxis": "x",
           "y": [
            0.091
           ],
           "yaxis": "y"
          }
         ],
         "name": "2020-10-01 00:00:00"
        },
        {
         "data": [
          {
           "alignmentgroup": "True",
           "hovertemplate": "Age Group=%{x}<br>Date=2020-11-01 00:00:00<br>Unemployment Rate=%{y}<extra></extra>",
           "legendgroup": "Age 16-19",
           "marker": {
            "color": "#636efa",
            "pattern": {
             "shape": ""
            }
           },
           "name": "Age 16-19",
           "offsetgroup": "Age 16-19",
           "orientation": "v",
           "showlegend": true,
           "textposition": "auto",
           "type": "bar",
           "x": [
            "Age 16-19"
           ],
           "xaxis": "x",
           "y": [
            0.228
           ],
           "yaxis": "y"
          },
          {
           "alignmentgroup": "True",
           "hovertemplate": "Age Group=%{x}<br>Date=2020-11-01 00:00:00<br>Unemployment Rate=%{y}<extra></extra>",
           "legendgroup": "Age 20-24",
           "marker": {
            "color": "#EF553B",
            "pattern": {
             "shape": ""
            }
           },
           "name": "Age 20-24",
           "offsetgroup": "Age 20-24",
           "orientation": "v",
           "showlegend": true,
           "textposition": "auto",
           "type": "bar",
           "x": [
            "Age 20-24"
           ],
           "xaxis": "x",
           "y": [
            0.158
           ],
           "yaxis": "y"
          },
          {
           "alignmentgroup": "True",
           "hovertemplate": "Age Group=%{x}<br>Date=2020-11-01 00:00:00<br>Unemployment Rate=%{y}<extra></extra>",
           "legendgroup": "Age 25-34",
           "marker": {
            "color": "#00cc96",
            "pattern": {
             "shape": ""
            }
           },
           "name": "Age 25-34",
           "offsetgroup": "Age 25-34",
           "orientation": "v",
           "showlegend": true,
           "textposition": "auto",
           "type": "bar",
           "x": [
            "Age 25-34"
           ],
           "xaxis": "x",
           "y": [
            0.102
           ],
           "yaxis": "y"
          },
          {
           "alignmentgroup": "True",
           "hovertemplate": "Age Group=%{x}<br>Date=2020-11-01 00:00:00<br>Unemployment Rate=%{y}<extra></extra>",
           "legendgroup": "Age 35-44",
           "marker": {
            "color": "#ab63fa",
            "pattern": {
             "shape": ""
            }
           },
           "name": "Age 35-44",
           "offsetgroup": "Age 35-44",
           "orientation": "v",
           "showlegend": true,
           "textposition": "auto",
           "type": "bar",
           "x": [
            "Age 35-44"
           ],
           "xaxis": "x",
           "y": [
            0.078
           ],
           "yaxis": "y"
          },
          {
           "alignmentgroup": "True",
           "hovertemplate": "Age Group=%{x}<br>Date=2020-11-01 00:00:00<br>Unemployment Rate=%{y}<extra></extra>",
           "legendgroup": "Age 45-54",
           "marker": {
            "color": "#FFA15A",
            "pattern": {
             "shape": ""
            }
           },
           "name": "Age 45-54",
           "offsetgroup": "Age 45-54",
           "orientation": "v",
           "showlegend": true,
           "textposition": "auto",
           "type": "bar",
           "x": [
            "Age 45-54"
           ],
           "xaxis": "x",
           "y": [
            0.08
           ],
           "yaxis": "y"
          },
          {
           "alignmentgroup": "True",
           "hovertemplate": "Age Group=%{x}<br>Date=2020-11-01 00:00:00<br>Unemployment Rate=%{y}<extra></extra>",
           "legendgroup": "Age 55-64",
           "marker": {
            "color": "#19d3f3",
            "pattern": {
             "shape": ""
            }
           },
           "name": "Age 55-64",
           "offsetgroup": "Age 55-64",
           "orientation": "v",
           "showlegend": true,
           "textposition": "auto",
           "type": "bar",
           "x": [
            "Age 55-64"
           ],
           "xaxis": "x",
           "y": [
            0.084
           ],
           "yaxis": "y"
          },
          {
           "alignmentgroup": "True",
           "hovertemplate": "Age Group=%{x}<br>Date=2020-11-01 00:00:00<br>Unemployment Rate=%{y}<extra></extra>",
           "legendgroup": "Age 65+",
           "marker": {
            "color": "#FF6692",
            "pattern": {
             "shape": ""
            }
           },
           "name": "Age 65+",
           "offsetgroup": "Age 65+",
           "orientation": "v",
           "showlegend": true,
           "textposition": "auto",
           "type": "bar",
           "x": [
            "Age 65+"
           ],
           "xaxis": "x",
           "y": [
            0.096
           ],
           "yaxis": "y"
          }
         ],
         "name": "2020-11-01 00:00:00"
        },
        {
         "data": [
          {
           "alignmentgroup": "True",
           "hovertemplate": "Age Group=%{x}<br>Date=2020-12-01 00:00:00<br>Unemployment Rate=%{y}<extra></extra>",
           "legendgroup": "Age 16-19",
           "marker": {
            "color": "#636efa",
            "pattern": {
             "shape": ""
            }
           },
           "name": "Age 16-19",
           "offsetgroup": "Age 16-19",
           "orientation": "v",
           "showlegend": true,
           "textposition": "auto",
           "type": "bar",
           "x": [
            "Age 16-19"
           ],
           "xaxis": "x",
           "y": [
            0.236
           ],
           "yaxis": "y"
          },
          {
           "alignmentgroup": "True",
           "hovertemplate": "Age Group=%{x}<br>Date=2020-12-01 00:00:00<br>Unemployment Rate=%{y}<extra></extra>",
           "legendgroup": "Age 20-24",
           "marker": {
            "color": "#EF553B",
            "pattern": {
             "shape": ""
            }
           },
           "name": "Age 20-24",
           "offsetgroup": "Age 20-24",
           "orientation": "v",
           "showlegend": true,
           "textposition": "auto",
           "type": "bar",
           "x": [
            "Age 20-24"
           ],
           "xaxis": "x",
           "y": [
            0.164
           ],
           "yaxis": "y"
          },
          {
           "alignmentgroup": "True",
           "hovertemplate": "Age Group=%{x}<br>Date=2020-12-01 00:00:00<br>Unemployment Rate=%{y}<extra></extra>",
           "legendgroup": "Age 25-34",
           "marker": {
            "color": "#00cc96",
            "pattern": {
             "shape": ""
            }
           },
           "name": "Age 25-34",
           "offsetgroup": "Age 25-34",
           "orientation": "v",
           "showlegend": true,
           "textposition": "auto",
           "type": "bar",
           "x": [
            "Age 25-34"
           ],
           "xaxis": "x",
           "y": [
            0.107
           ],
           "yaxis": "y"
          },
          {
           "alignmentgroup": "True",
           "hovertemplate": "Age Group=%{x}<br>Date=2020-12-01 00:00:00<br>Unemployment Rate=%{y}<extra></extra>",
           "legendgroup": "Age 35-44",
           "marker": {
            "color": "#ab63fa",
            "pattern": {
             "shape": ""
            }
           },
           "name": "Age 35-44",
           "offsetgroup": "Age 35-44",
           "orientation": "v",
           "showlegend": true,
           "textposition": "auto",
           "type": "bar",
           "x": [
            "Age 35-44"
           ],
           "xaxis": "x",
           "y": [
            0.082
           ],
           "yaxis": "y"
          },
          {
           "alignmentgroup": "True",
           "hovertemplate": "Age Group=%{x}<br>Date=2020-12-01 00:00:00<br>Unemployment Rate=%{y}<extra></extra>",
           "legendgroup": "Age 45-54",
           "marker": {
            "color": "#FFA15A",
            "pattern": {
             "shape": ""
            }
           },
           "name": "Age 45-54",
           "offsetgroup": "Age 45-54",
           "orientation": "v",
           "showlegend": true,
           "textposition": "auto",
           "type": "bar",
           "x": [
            "Age 45-54"
           ],
           "xaxis": "x",
           "y": [
            0.083
           ],
           "yaxis": "y"
          },
          {
           "alignmentgroup": "True",
           "hovertemplate": "Age Group=%{x}<br>Date=2020-12-01 00:00:00<br>Unemployment Rate=%{y}<extra></extra>",
           "legendgroup": "Age 55-64",
           "marker": {
            "color": "#19d3f3",
            "pattern": {
             "shape": ""
            }
           },
           "name": "Age 55-64",
           "offsetgroup": "Age 55-64",
           "orientation": "v",
           "showlegend": true,
           "textposition": "auto",
           "type": "bar",
           "x": [
            "Age 55-64"
           ],
           "xaxis": "x",
           "y": [
            0.088
           ],
           "yaxis": "y"
          },
          {
           "alignmentgroup": "True",
           "hovertemplate": "Age Group=%{x}<br>Date=2020-12-01 00:00:00<br>Unemployment Rate=%{y}<extra></extra>",
           "legendgroup": "Age 65+",
           "marker": {
            "color": "#FF6692",
            "pattern": {
             "shape": ""
            }
           },
           "name": "Age 65+",
           "offsetgroup": "Age 65+",
           "orientation": "v",
           "showlegend": true,
           "textposition": "auto",
           "type": "bar",
           "x": [
            "Age 65+"
           ],
           "xaxis": "x",
           "y": [
            0.101
           ],
           "yaxis": "y"
          }
         ],
         "name": "2020-12-01 00:00:00"
        },
        {
         "data": [
          {
           "alignmentgroup": "True",
           "hovertemplate": "Age Group=%{x}<br>Date=2021-01-01 00:00:00<br>Unemployment Rate=%{y}<extra></extra>",
           "legendgroup": "Age 16-19",
           "marker": {
            "color": "#636efa",
            "pattern": {
             "shape": ""
            }
           },
           "name": "Age 16-19",
           "offsetgroup": "Age 16-19",
           "orientation": "v",
           "showlegend": true,
           "textposition": "auto",
           "type": "bar",
           "x": [
            "Age 16-19"
           ],
           "xaxis": "x",
           "y": [
            0.243
           ],
           "yaxis": "y"
          },
          {
           "alignmentgroup": "True",
           "hovertemplate": "Age Group=%{x}<br>Date=2021-01-01 00:00:00<br>Unemployment Rate=%{y}<extra></extra>",
           "legendgroup": "Age 20-24",
           "marker": {
            "color": "#EF553B",
            "pattern": {
             "shape": ""
            }
           },
           "name": "Age 20-24",
           "offsetgroup": "Age 20-24",
           "orientation": "v",
           "showlegend": true,
           "textposition": "auto",
           "type": "bar",
           "x": [
            "Age 20-24"
           ],
           "xaxis": "x",
           "y": [
            0.169
           ],
           "yaxis": "y"
          },
          {
           "alignmentgroup": "True",
           "hovertemplate": "Age Group=%{x}<br>Date=2021-01-01 00:00:00<br>Unemployment Rate=%{y}<extra></extra>",
           "legendgroup": "Age 25-34",
           "marker": {
            "color": "#00cc96",
            "pattern": {
             "shape": ""
            }
           },
           "name": "Age 25-34",
           "offsetgroup": "Age 25-34",
           "orientation": "v",
           "showlegend": true,
           "textposition": "auto",
           "type": "bar",
           "x": [
            "Age 25-34"
           ],
           "xaxis": "x",
           "y": [
            0.111
           ],
           "yaxis": "y"
          },
          {
           "alignmentgroup": "True",
           "hovertemplate": "Age Group=%{x}<br>Date=2021-01-01 00:00:00<br>Unemployment Rate=%{y}<extra></extra>",
           "legendgroup": "Age 35-44",
           "marker": {
            "color": "#ab63fa",
            "pattern": {
             "shape": ""
            }
           },
           "name": "Age 35-44",
           "offsetgroup": "Age 35-44",
           "orientation": "v",
           "showlegend": true,
           "textposition": "auto",
           "type": "bar",
           "x": [
            "Age 35-44"
           ],
           "xaxis": "x",
           "y": [
            0.086
           ],
           "yaxis": "y"
          },
          {
           "alignmentgroup": "True",
           "hovertemplate": "Age Group=%{x}<br>Date=2021-01-01 00:00:00<br>Unemployment Rate=%{y}<extra></extra>",
           "legendgroup": "Age 45-54",
           "marker": {
            "color": "#FFA15A",
            "pattern": {
             "shape": ""
            }
           },
           "name": "Age 45-54",
           "offsetgroup": "Age 45-54",
           "orientation": "v",
           "showlegend": true,
           "textposition": "auto",
           "type": "bar",
           "x": [
            "Age 45-54"
           ],
           "xaxis": "x",
           "y": [
            0.087
           ],
           "yaxis": "y"
          },
          {
           "alignmentgroup": "True",
           "hovertemplate": "Age Group=%{x}<br>Date=2021-01-01 00:00:00<br>Unemployment Rate=%{y}<extra></extra>",
           "legendgroup": "Age 55-64",
           "marker": {
            "color": "#19d3f3",
            "pattern": {
             "shape": ""
            }
           },
           "name": "Age 55-64",
           "offsetgroup": "Age 55-64",
           "orientation": "v",
           "showlegend": true,
           "textposition": "auto",
           "type": "bar",
           "x": [
            "Age 55-64"
           ],
           "xaxis": "x",
           "y": [
            0.092
           ],
           "yaxis": "y"
          },
          {
           "alignmentgroup": "True",
           "hovertemplate": "Age Group=%{x}<br>Date=2021-01-01 00:00:00<br>Unemployment Rate=%{y}<extra></extra>",
           "legendgroup": "Age 65+",
           "marker": {
            "color": "#FF6692",
            "pattern": {
             "shape": ""
            }
           },
           "name": "Age 65+",
           "offsetgroup": "Age 65+",
           "orientation": "v",
           "showlegend": true,
           "textposition": "auto",
           "type": "bar",
           "x": [
            "Age 65+"
           ],
           "xaxis": "x",
           "y": [
            0.106
           ],
           "yaxis": "y"
          }
         ],
         "name": "2021-01-01 00:00:00"
        },
        {
         "data": [
          {
           "alignmentgroup": "True",
           "hovertemplate": "Age Group=%{x}<br>Date=2021-02-01 00:00:00<br>Unemployment Rate=%{y}<extra></extra>",
           "legendgroup": "Age 16-19",
           "marker": {
            "color": "#636efa",
            "pattern": {
             "shape": ""
            }
           },
           "name": "Age 16-19",
           "offsetgroup": "Age 16-19",
           "orientation": "v",
           "showlegend": true,
           "textposition": "auto",
           "type": "bar",
           "x": [
            "Age 16-19"
           ],
           "xaxis": "x",
           "y": [
            0.242
           ],
           "yaxis": "y"
          },
          {
           "alignmentgroup": "True",
           "hovertemplate": "Age Group=%{x}<br>Date=2021-02-01 00:00:00<br>Unemployment Rate=%{y}<extra></extra>",
           "legendgroup": "Age 20-24",
           "marker": {
            "color": "#EF553B",
            "pattern": {
             "shape": ""
            }
           },
           "name": "Age 20-24",
           "offsetgroup": "Age 20-24",
           "orientation": "v",
           "showlegend": true,
           "textposition": "auto",
           "type": "bar",
           "x": [
            "Age 20-24"
           ],
           "xaxis": "x",
           "y": [
            0.172
           ],
           "yaxis": "y"
          },
          {
           "alignmentgroup": "True",
           "hovertemplate": "Age Group=%{x}<br>Date=2021-02-01 00:00:00<br>Unemployment Rate=%{y}<extra></extra>",
           "legendgroup": "Age 25-34",
           "marker": {
            "color": "#00cc96",
            "pattern": {
             "shape": ""
            }
           },
           "name": "Age 25-34",
           "offsetgroup": "Age 25-34",
           "orientation": "v",
           "showlegend": true,
           "textposition": "auto",
           "type": "bar",
           "x": [
            "Age 25-34"
           ],
           "xaxis": "x",
           "y": [
            0.115
           ],
           "yaxis": "y"
          },
          {
           "alignmentgroup": "True",
           "hovertemplate": "Age Group=%{x}<br>Date=2021-02-01 00:00:00<br>Unemployment Rate=%{y}<extra></extra>",
           "legendgroup": "Age 35-44",
           "marker": {
            "color": "#ab63fa",
            "pattern": {
             "shape": ""
            }
           },
           "name": "Age 35-44",
           "offsetgroup": "Age 35-44",
           "orientation": "v",
           "showlegend": true,
           "textposition": "auto",
           "type": "bar",
           "x": [
            "Age 35-44"
           ],
           "xaxis": "x",
           "y": [
            0.088
           ],
           "yaxis": "y"
          },
          {
           "alignmentgroup": "True",
           "hovertemplate": "Age Group=%{x}<br>Date=2021-02-01 00:00:00<br>Unemployment Rate=%{y}<extra></extra>",
           "legendgroup": "Age 45-54",
           "marker": {
            "color": "#FFA15A",
            "pattern": {
             "shape": ""
            }
           },
           "name": "Age 45-54",
           "offsetgroup": "Age 45-54",
           "orientation": "v",
           "showlegend": true,
           "textposition": "auto",
           "type": "bar",
           "x": [
            "Age 45-54"
           ],
           "xaxis": "x",
           "y": [
            0.09
           ],
           "yaxis": "y"
          },
          {
           "alignmentgroup": "True",
           "hovertemplate": "Age Group=%{x}<br>Date=2021-02-01 00:00:00<br>Unemployment Rate=%{y}<extra></extra>",
           "legendgroup": "Age 55-64",
           "marker": {
            "color": "#19d3f3",
            "pattern": {
             "shape": ""
            }
           },
           "name": "Age 55-64",
           "offsetgroup": "Age 55-64",
           "orientation": "v",
           "showlegend": true,
           "textposition": "auto",
           "type": "bar",
           "x": [
            "Age 55-64"
           ],
           "xaxis": "x",
           "y": [
            0.096
           ],
           "yaxis": "y"
          },
          {
           "alignmentgroup": "True",
           "hovertemplate": "Age Group=%{x}<br>Date=2021-02-01 00:00:00<br>Unemployment Rate=%{y}<extra></extra>",
           "legendgroup": "Age 65+",
           "marker": {
            "color": "#FF6692",
            "pattern": {
             "shape": ""
            }
           },
           "name": "Age 65+",
           "offsetgroup": "Age 65+",
           "orientation": "v",
           "showlegend": true,
           "textposition": "auto",
           "type": "bar",
           "x": [
            "Age 65+"
           ],
           "xaxis": "x",
           "y": [
            0.109
           ],
           "yaxis": "y"
          }
         ],
         "name": "2021-02-01 00:00:00"
        },
        {
         "data": [
          {
           "alignmentgroup": "True",
           "hovertemplate": "Age Group=%{x}<br>Date=2021-03-01 00:00:00<br>Unemployment Rate=%{y}<extra></extra>",
           "legendgroup": "Age 16-19",
           "marker": {
            "color": "#636efa",
            "pattern": {
             "shape": ""
            }
           },
           "name": "Age 16-19",
           "offsetgroup": "Age 16-19",
           "orientation": "v",
           "showlegend": true,
           "textposition": "auto",
           "type": "bar",
           "x": [
            "Age 16-19"
           ],
           "xaxis": "x",
           "y": [
            0.245
           ],
           "yaxis": "y"
          },
          {
           "alignmentgroup": "True",
           "hovertemplate": "Age Group=%{x}<br>Date=2021-03-01 00:00:00<br>Unemployment Rate=%{y}<extra></extra>",
           "legendgroup": "Age 20-24",
           "marker": {
            "color": "#EF553B",
            "pattern": {
             "shape": ""
            }
           },
           "name": "Age 20-24",
           "offsetgroup": "Age 20-24",
           "orientation": "v",
           "showlegend": true,
           "textposition": "auto",
           "type": "bar",
           "x": [
            "Age 20-24"
           ],
           "xaxis": "x",
           "y": [
            0.175
           ],
           "yaxis": "y"
          },
          {
           "alignmentgroup": "True",
           "hovertemplate": "Age Group=%{x}<br>Date=2021-03-01 00:00:00<br>Unemployment Rate=%{y}<extra></extra>",
           "legendgroup": "Age 25-34",
           "marker": {
            "color": "#00cc96",
            "pattern": {
             "shape": ""
            }
           },
           "name": "Age 25-34",
           "offsetgroup": "Age 25-34",
           "orientation": "v",
           "showlegend": true,
           "textposition": "auto",
           "type": "bar",
           "x": [
            "Age 25-34"
           ],
           "xaxis": "x",
           "y": [
            0.117
           ],
           "yaxis": "y"
          },
          {
           "alignmentgroup": "True",
           "hovertemplate": "Age Group=%{x}<br>Date=2021-03-01 00:00:00<br>Unemployment Rate=%{y}<extra></extra>",
           "legendgroup": "Age 35-44",
           "marker": {
            "color": "#ab63fa",
            "pattern": {
             "shape": ""
            }
           },
           "name": "Age 35-44",
           "offsetgroup": "Age 35-44",
           "orientation": "v",
           "showlegend": true,
           "textposition": "auto",
           "type": "bar",
           "x": [
            "Age 35-44"
           ],
           "xaxis": "x",
           "y": [
            0.091
           ],
           "yaxis": "y"
          },
          {
           "alignmentgroup": "True",
           "hovertemplate": "Age Group=%{x}<br>Date=2021-03-01 00:00:00<br>Unemployment Rate=%{y}<extra></extra>",
           "legendgroup": "Age 45-54",
           "marker": {
            "color": "#FFA15A",
            "pattern": {
             "shape": ""
            }
           },
           "name": "Age 45-54",
           "offsetgroup": "Age 45-54",
           "orientation": "v",
           "showlegend": true,
           "textposition": "auto",
           "type": "bar",
           "x": [
            "Age 45-54"
           ],
           "xaxis": "x",
           "y": [
            0.092
           ],
           "yaxis": "y"
          },
          {
           "alignmentgroup": "True",
           "hovertemplate": "Age Group=%{x}<br>Date=2021-03-01 00:00:00<br>Unemployment Rate=%{y}<extra></extra>",
           "legendgroup": "Age 55-64",
           "marker": {
            "color": "#19d3f3",
            "pattern": {
             "shape": ""
            }
           },
           "name": "Age 55-64",
           "offsetgroup": "Age 55-64",
           "orientation": "v",
           "showlegend": true,
           "textposition": "auto",
           "type": "bar",
           "x": [
            "Age 55-64"
           ],
           "xaxis": "x",
           "y": [
            0.098
           ],
           "yaxis": "y"
          },
          {
           "alignmentgroup": "True",
           "hovertemplate": "Age Group=%{x}<br>Date=2021-03-01 00:00:00<br>Unemployment Rate=%{y}<extra></extra>",
           "legendgroup": "Age 65+",
           "marker": {
            "color": "#FF6692",
            "pattern": {
             "shape": ""
            }
           },
           "name": "Age 65+",
           "offsetgroup": "Age 65+",
           "orientation": "v",
           "showlegend": true,
           "textposition": "auto",
           "type": "bar",
           "x": [
            "Age 65+"
           ],
           "xaxis": "x",
           "y": [
            0.111
           ],
           "yaxis": "y"
          }
         ],
         "name": "2021-03-01 00:00:00"
        },
        {
         "data": [
          {
           "alignmentgroup": "True",
           "hovertemplate": "Age Group=%{x}<br>Date=2021-04-01 00:00:00<br>Unemployment Rate=%{y}<extra></extra>",
           "legendgroup": "Age 16-19",
           "marker": {
            "color": "#636efa",
            "pattern": {
             "shape": ""
            }
           },
           "name": "Age 16-19",
           "offsetgroup": "Age 16-19",
           "orientation": "v",
           "showlegend": true,
           "textposition": "auto",
           "type": "bar",
           "x": [
            "Age 16-19"
           ],
           "xaxis": "x",
           "y": [
            0.231
           ],
           "yaxis": "y"
          },
          {
           "alignmentgroup": "True",
           "hovertemplate": "Age Group=%{x}<br>Date=2021-04-01 00:00:00<br>Unemployment Rate=%{y}<extra></extra>",
           "legendgroup": "Age 20-24",
           "marker": {
            "color": "#EF553B",
            "pattern": {
             "shape": ""
            }
           },
           "name": "Age 20-24",
           "offsetgroup": "Age 20-24",
           "orientation": "v",
           "showlegend": true,
           "textposition": "auto",
           "type": "bar",
           "x": [
            "Age 20-24"
           ],
           "xaxis": "x",
           "y": [
            0.166
           ],
           "yaxis": "y"
          },
          {
           "alignmentgroup": "True",
           "hovertemplate": "Age Group=%{x}<br>Date=2021-04-01 00:00:00<br>Unemployment Rate=%{y}<extra></extra>",
           "legendgroup": "Age 25-34",
           "marker": {
            "color": "#00cc96",
            "pattern": {
             "shape": ""
            }
           },
           "name": "Age 25-34",
           "offsetgroup": "Age 25-34",
           "orientation": "v",
           "showlegend": true,
           "textposition": "auto",
           "type": "bar",
           "x": [
            "Age 25-34"
           ],
           "xaxis": "x",
           "y": [
            0.11
           ],
           "yaxis": "y"
          },
          {
           "alignmentgroup": "True",
           "hovertemplate": "Age Group=%{x}<br>Date=2021-04-01 00:00:00<br>Unemployment Rate=%{y}<extra></extra>",
           "legendgroup": "Age 35-44",
           "marker": {
            "color": "#ab63fa",
            "pattern": {
             "shape": ""
            }
           },
           "name": "Age 35-44",
           "offsetgroup": "Age 35-44",
           "orientation": "v",
           "showlegend": true,
           "textposition": "auto",
           "type": "bar",
           "x": [
            "Age 35-44"
           ],
           "xaxis": "x",
           "y": [
            0.086
           ],
           "yaxis": "y"
          },
          {
           "alignmentgroup": "True",
           "hovertemplate": "Age Group=%{x}<br>Date=2021-04-01 00:00:00<br>Unemployment Rate=%{y}<extra></extra>",
           "legendgroup": "Age 45-54",
           "marker": {
            "color": "#FFA15A",
            "pattern": {
             "shape": ""
            }
           },
           "name": "Age 45-54",
           "offsetgroup": "Age 45-54",
           "orientation": "v",
           "showlegend": true,
           "textposition": "auto",
           "type": "bar",
           "x": [
            "Age 45-54"
           ],
           "xaxis": "x",
           "y": [
            0.085
           ],
           "yaxis": "y"
          },
          {
           "alignmentgroup": "True",
           "hovertemplate": "Age Group=%{x}<br>Date=2021-04-01 00:00:00<br>Unemployment Rate=%{y}<extra></extra>",
           "legendgroup": "Age 55-64",
           "marker": {
            "color": "#19d3f3",
            "pattern": {
             "shape": ""
            }
           },
           "name": "Age 55-64",
           "offsetgroup": "Age 55-64",
           "orientation": "v",
           "showlegend": true,
           "textposition": "auto",
           "type": "bar",
           "x": [
            "Age 55-64"
           ],
           "xaxis": "x",
           "y": [
            0.093
           ],
           "yaxis": "y"
          },
          {
           "alignmentgroup": "True",
           "hovertemplate": "Age Group=%{x}<br>Date=2021-04-01 00:00:00<br>Unemployment Rate=%{y}<extra></extra>",
           "legendgroup": "Age 65+",
           "marker": {
            "color": "#FF6692",
            "pattern": {
             "shape": ""
            }
           },
           "name": "Age 65+",
           "offsetgroup": "Age 65+",
           "orientation": "v",
           "showlegend": true,
           "textposition": "auto",
           "type": "bar",
           "x": [
            "Age 65+"
           ],
           "xaxis": "x",
           "y": [
            0.104
           ],
           "yaxis": "y"
          }
         ],
         "name": "2021-04-01 00:00:00"
        },
        {
         "data": [
          {
           "alignmentgroup": "True",
           "hovertemplate": "Age Group=%{x}<br>Date=2021-05-01 00:00:00<br>Unemployment Rate=%{y}<extra></extra>",
           "legendgroup": "Age 16-19",
           "marker": {
            "color": "#636efa",
            "pattern": {
             "shape": ""
            }
           },
           "name": "Age 16-19",
           "offsetgroup": "Age 16-19",
           "orientation": "v",
           "showlegend": true,
           "textposition": "auto",
           "type": "bar",
           "x": [
            "Age 16-19"
           ],
           "xaxis": "x",
           "y": [
            0.213
           ],
           "yaxis": "y"
          },
          {
           "alignmentgroup": "True",
           "hovertemplate": "Age Group=%{x}<br>Date=2021-05-01 00:00:00<br>Unemployment Rate=%{y}<extra></extra>",
           "legendgroup": "Age 20-24",
           "marker": {
            "color": "#EF553B",
            "pattern": {
             "shape": ""
            }
           },
           "name": "Age 20-24",
           "offsetgroup": "Age 20-24",
           "orientation": "v",
           "showlegend": true,
           "textposition": "auto",
           "type": "bar",
           "x": [
            "Age 20-24"
           ],
           "xaxis": "x",
           "y": [
            0.156
           ],
           "yaxis": "y"
          },
          {
           "alignmentgroup": "True",
           "hovertemplate": "Age Group=%{x}<br>Date=2021-05-01 00:00:00<br>Unemployment Rate=%{y}<extra></extra>",
           "legendgroup": "Age 25-34",
           "marker": {
            "color": "#00cc96",
            "pattern": {
             "shape": ""
            }
           },
           "name": "Age 25-34",
           "offsetgroup": "Age 25-34",
           "orientation": "v",
           "showlegend": true,
           "textposition": "auto",
           "type": "bar",
           "x": [
            "Age 25-34"
           ],
           "xaxis": "x",
           "y": [
            0.102
           ],
           "yaxis": "y"
          },
          {
           "alignmentgroup": "True",
           "hovertemplate": "Age Group=%{x}<br>Date=2021-05-01 00:00:00<br>Unemployment Rate=%{y}<extra></extra>",
           "legendgroup": "Age 35-44",
           "marker": {
            "color": "#ab63fa",
            "pattern": {
             "shape": ""
            }
           },
           "name": "Age 35-44",
           "offsetgroup": "Age 35-44",
           "orientation": "v",
           "showlegend": true,
           "textposition": "auto",
           "type": "bar",
           "x": [
            "Age 35-44"
           ],
           "xaxis": "x",
           "y": [
            0.081
           ],
           "yaxis": "y"
          },
          {
           "alignmentgroup": "True",
           "hovertemplate": "Age Group=%{x}<br>Date=2021-05-01 00:00:00<br>Unemployment Rate=%{y}<extra></extra>",
           "legendgroup": "Age 45-54",
           "marker": {
            "color": "#FFA15A",
            "pattern": {
             "shape": ""
            }
           },
           "name": "Age 45-54",
           "offsetgroup": "Age 45-54",
           "orientation": "v",
           "showlegend": true,
           "textposition": "auto",
           "type": "bar",
           "x": [
            "Age 45-54"
           ],
           "xaxis": "x",
           "y": [
            0.08
           ],
           "yaxis": "y"
          },
          {
           "alignmentgroup": "True",
           "hovertemplate": "Age Group=%{x}<br>Date=2021-05-01 00:00:00<br>Unemployment Rate=%{y}<extra></extra>",
           "legendgroup": "Age 55-64",
           "marker": {
            "color": "#19d3f3",
            "pattern": {
             "shape": ""
            }
           },
           "name": "Age 55-64",
           "offsetgroup": "Age 55-64",
           "orientation": "v",
           "showlegend": true,
           "textposition": "auto",
           "type": "bar",
           "x": [
            "Age 55-64"
           ],
           "xaxis": "x",
           "y": [
            0.088
           ],
           "yaxis": "y"
          },
          {
           "alignmentgroup": "True",
           "hovertemplate": "Age Group=%{x}<br>Date=2021-05-01 00:00:00<br>Unemployment Rate=%{y}<extra></extra>",
           "legendgroup": "Age 65+",
           "marker": {
            "color": "#FF6692",
            "pattern": {
             "shape": ""
            }
           },
           "name": "Age 65+",
           "offsetgroup": "Age 65+",
           "orientation": "v",
           "showlegend": true,
           "textposition": "auto",
           "type": "bar",
           "x": [
            "Age 65+"
           ],
           "xaxis": "x",
           "y": [
            0.095
           ],
           "yaxis": "y"
          }
         ],
         "name": "2021-05-01 00:00:00"
        },
        {
         "data": [
          {
           "alignmentgroup": "True",
           "hovertemplate": "Age Group=%{x}<br>Date=2021-06-01 00:00:00<br>Unemployment Rate=%{y}<extra></extra>",
           "legendgroup": "Age 16-19",
           "marker": {
            "color": "#636efa",
            "pattern": {
             "shape": ""
            }
           },
           "name": "Age 16-19",
           "offsetgroup": "Age 16-19",
           "orientation": "v",
           "showlegend": true,
           "textposition": "auto",
           "type": "bar",
           "x": [
            "Age 16-19"
           ],
           "xaxis": "x",
           "y": [
            0.197
           ],
           "yaxis": "y"
          },
          {
           "alignmentgroup": "True",
           "hovertemplate": "Age Group=%{x}<br>Date=2021-06-01 00:00:00<br>Unemployment Rate=%{y}<extra></extra>",
           "legendgroup": "Age 20-24",
           "marker": {
            "color": "#EF553B",
            "pattern": {
             "shape": ""
            }
           },
           "name": "Age 20-24",
           "offsetgroup": "Age 20-24",
           "orientation": "v",
           "showlegend": true,
           "textposition": "auto",
           "type": "bar",
           "x": [
            "Age 20-24"
           ],
           "xaxis": "x",
           "y": [
            0.147
           ],
           "yaxis": "y"
          },
          {
           "alignmentgroup": "True",
           "hovertemplate": "Age Group=%{x}<br>Date=2021-06-01 00:00:00<br>Unemployment Rate=%{y}<extra></extra>",
           "legendgroup": "Age 25-34",
           "marker": {
            "color": "#00cc96",
            "pattern": {
             "shape": ""
            }
           },
           "name": "Age 25-34",
           "offsetgroup": "Age 25-34",
           "orientation": "v",
           "showlegend": true,
           "textposition": "auto",
           "type": "bar",
           "x": [
            "Age 25-34"
           ],
           "xaxis": "x",
           "y": [
            0.096
           ],
           "yaxis": "y"
          },
          {
           "alignmentgroup": "True",
           "hovertemplate": "Age Group=%{x}<br>Date=2021-06-01 00:00:00<br>Unemployment Rate=%{y}<extra></extra>",
           "legendgroup": "Age 35-44",
           "marker": {
            "color": "#ab63fa",
            "pattern": {
             "shape": ""
            }
           },
           "name": "Age 35-44",
           "offsetgroup": "Age 35-44",
           "orientation": "v",
           "showlegend": true,
           "textposition": "auto",
           "type": "bar",
           "x": [
            "Age 35-44"
           ],
           "xaxis": "x",
           "y": [
            0.078
           ],
           "yaxis": "y"
          },
          {
           "alignmentgroup": "True",
           "hovertemplate": "Age Group=%{x}<br>Date=2021-06-01 00:00:00<br>Unemployment Rate=%{y}<extra></extra>",
           "legendgroup": "Age 45-54",
           "marker": {
            "color": "#FFA15A",
            "pattern": {
             "shape": ""
            }
           },
           "name": "Age 45-54",
           "offsetgroup": "Age 45-54",
           "orientation": "v",
           "showlegend": true,
           "textposition": "auto",
           "type": "bar",
           "x": [
            "Age 45-54"
           ],
           "xaxis": "x",
           "y": [
            0.074
           ],
           "yaxis": "y"
          },
          {
           "alignmentgroup": "True",
           "hovertemplate": "Age Group=%{x}<br>Date=2021-06-01 00:00:00<br>Unemployment Rate=%{y}<extra></extra>",
           "legendgroup": "Age 55-64",
           "marker": {
            "color": "#19d3f3",
            "pattern": {
             "shape": ""
            }
           },
           "name": "Age 55-64",
           "offsetgroup": "Age 55-64",
           "orientation": "v",
           "showlegend": true,
           "textposition": "auto",
           "type": "bar",
           "x": [
            "Age 55-64"
           ],
           "xaxis": "x",
           "y": [
            0.083
           ],
           "yaxis": "y"
          },
          {
           "alignmentgroup": "True",
           "hovertemplate": "Age Group=%{x}<br>Date=2021-06-01 00:00:00<br>Unemployment Rate=%{y}<extra></extra>",
           "legendgroup": "Age 65+",
           "marker": {
            "color": "#FF6692",
            "pattern": {
             "shape": ""
            }
           },
           "name": "Age 65+",
           "offsetgroup": "Age 65+",
           "orientation": "v",
           "showlegend": true,
           "textposition": "auto",
           "type": "bar",
           "x": [
            "Age 65+"
           ],
           "xaxis": "x",
           "y": [
            0.091
           ],
           "yaxis": "y"
          }
         ],
         "name": "2021-06-01 00:00:00"
        },
        {
         "data": [
          {
           "alignmentgroup": "True",
           "hovertemplate": "Age Group=%{x}<br>Date=2021-07-01 00:00:00<br>Unemployment Rate=%{y}<extra></extra>",
           "legendgroup": "Age 16-19",
           "marker": {
            "color": "#636efa",
            "pattern": {
             "shape": ""
            }
           },
           "name": "Age 16-19",
           "offsetgroup": "Age 16-19",
           "orientation": "v",
           "showlegend": true,
           "textposition": "auto",
           "type": "bar",
           "x": [
            "Age 16-19"
           ],
           "xaxis": "x",
           "y": [
            0.18
           ],
           "yaxis": "y"
          },
          {
           "alignmentgroup": "True",
           "hovertemplate": "Age Group=%{x}<br>Date=2021-07-01 00:00:00<br>Unemployment Rate=%{y}<extra></extra>",
           "legendgroup": "Age 20-24",
           "marker": {
            "color": "#EF553B",
            "pattern": {
             "shape": ""
            }
           },
           "name": "Age 20-24",
           "offsetgroup": "Age 20-24",
           "orientation": "v",
           "showlegend": true,
           "textposition": "auto",
           "type": "bar",
           "x": [
            "Age 20-24"
           ],
           "xaxis": "x",
           "y": [
            0.141
           ],
           "yaxis": "y"
          },
          {
           "alignmentgroup": "True",
           "hovertemplate": "Age Group=%{x}<br>Date=2021-07-01 00:00:00<br>Unemployment Rate=%{y}<extra></extra>",
           "legendgroup": "Age 25-34",
           "marker": {
            "color": "#00cc96",
            "pattern": {
             "shape": ""
            }
           },
           "name": "Age 25-34",
           "offsetgroup": "Age 25-34",
           "orientation": "v",
           "showlegend": true,
           "textposition": "auto",
           "type": "bar",
           "x": [
            "Age 25-34"
           ],
           "xaxis": "x",
           "y": [
            0.092
           ],
           "yaxis": "y"
          },
          {
           "alignmentgroup": "True",
           "hovertemplate": "Age Group=%{x}<br>Date=2021-07-01 00:00:00<br>Unemployment Rate=%{y}<extra></extra>",
           "legendgroup": "Age 35-44",
           "marker": {
            "color": "#ab63fa",
            "pattern": {
             "shape": ""
            }
           },
           "name": "Age 35-44",
           "offsetgroup": "Age 35-44",
           "orientation": "v",
           "showlegend": true,
           "textposition": "auto",
           "type": "bar",
           "x": [
            "Age 35-44"
           ],
           "xaxis": "x",
           "y": [
            0.073
           ],
           "yaxis": "y"
          },
          {
           "alignmentgroup": "True",
           "hovertemplate": "Age Group=%{x}<br>Date=2021-07-01 00:00:00<br>Unemployment Rate=%{y}<extra></extra>",
           "legendgroup": "Age 45-54",
           "marker": {
            "color": "#FFA15A",
            "pattern": {
             "shape": ""
            }
           },
           "name": "Age 45-54",
           "offsetgroup": "Age 45-54",
           "orientation": "v",
           "showlegend": true,
           "textposition": "auto",
           "type": "bar",
           "x": [
            "Age 45-54"
           ],
           "xaxis": "x",
           "y": [
            0.07
           ],
           "yaxis": "y"
          },
          {
           "alignmentgroup": "True",
           "hovertemplate": "Age Group=%{x}<br>Date=2021-07-01 00:00:00<br>Unemployment Rate=%{y}<extra></extra>",
           "legendgroup": "Age 55-64",
           "marker": {
            "color": "#19d3f3",
            "pattern": {
             "shape": ""
            }
           },
           "name": "Age 55-64",
           "offsetgroup": "Age 55-64",
           "orientation": "v",
           "showlegend": true,
           "textposition": "auto",
           "type": "bar",
           "x": [
            "Age 55-64"
           ],
           "xaxis": "x",
           "y": [
            0.081
           ],
           "yaxis": "y"
          },
          {
           "alignmentgroup": "True",
           "hovertemplate": "Age Group=%{x}<br>Date=2021-07-01 00:00:00<br>Unemployment Rate=%{y}<extra></extra>",
           "legendgroup": "Age 65+",
           "marker": {
            "color": "#FF6692",
            "pattern": {
             "shape": ""
            }
           },
           "name": "Age 65+",
           "offsetgroup": "Age 65+",
           "orientation": "v",
           "showlegend": true,
           "textposition": "auto",
           "type": "bar",
           "x": [
            "Age 65+"
           ],
           "xaxis": "x",
           "y": [
            0.087
           ],
           "yaxis": "y"
          }
         ],
         "name": "2021-07-01 00:00:00"
        },
        {
         "data": [
          {
           "alignmentgroup": "True",
           "hovertemplate": "Age Group=%{x}<br>Date=2021-08-01 00:00:00<br>Unemployment Rate=%{y}<extra></extra>",
           "legendgroup": "Age 16-19",
           "marker": {
            "color": "#636efa",
            "pattern": {
             "shape": ""
            }
           },
           "name": "Age 16-19",
           "offsetgroup": "Age 16-19",
           "orientation": "v",
           "showlegend": true,
           "textposition": "auto",
           "type": "bar",
           "x": [
            "Age 16-19"
           ],
           "xaxis": "x",
           "y": [
            0.177
           ],
           "yaxis": "y"
          },
          {
           "alignmentgroup": "True",
           "hovertemplate": "Age Group=%{x}<br>Date=2021-08-01 00:00:00<br>Unemployment Rate=%{y}<extra></extra>",
           "legendgroup": "Age 20-24",
           "marker": {
            "color": "#EF553B",
            "pattern": {
             "shape": ""
            }
           },
           "name": "Age 20-24",
           "offsetgroup": "Age 20-24",
           "orientation": "v",
           "showlegend": true,
           "textposition": "auto",
           "type": "bar",
           "x": [
            "Age 20-24"
           ],
           "xaxis": "x",
           "y": [
            0.133
           ],
           "yaxis": "y"
          },
          {
           "alignmentgroup": "True",
           "hovertemplate": "Age Group=%{x}<br>Date=2021-08-01 00:00:00<br>Unemployment Rate=%{y}<extra></extra>",
           "legendgroup": "Age 25-34",
           "marker": {
            "color": "#00cc96",
            "pattern": {
             "shape": ""
            }
           },
           "name": "Age 25-34",
           "offsetgroup": "Age 25-34",
           "orientation": "v",
           "showlegend": true,
           "textposition": "auto",
           "type": "bar",
           "x": [
            "Age 25-34"
           ],
           "xaxis": "x",
           "y": [
            0.088
           ],
           "yaxis": "y"
          },
          {
           "alignmentgroup": "True",
           "hovertemplate": "Age Group=%{x}<br>Date=2021-08-01 00:00:00<br>Unemployment Rate=%{y}<extra></extra>",
           "legendgroup": "Age 35-44",
           "marker": {
            "color": "#ab63fa",
            "pattern": {
             "shape": ""
            }
           },
           "name": "Age 35-44",
           "offsetgroup": "Age 35-44",
           "orientation": "v",
           "showlegend": true,
           "textposition": "auto",
           "type": "bar",
           "x": [
            "Age 35-44"
           ],
           "xaxis": "x",
           "y": [
            0.07
           ],
           "yaxis": "y"
          },
          {
           "alignmentgroup": "True",
           "hovertemplate": "Age Group=%{x}<br>Date=2021-08-01 00:00:00<br>Unemployment Rate=%{y}<extra></extra>",
           "legendgroup": "Age 45-54",
           "marker": {
            "color": "#FFA15A",
            "pattern": {
             "shape": ""
            }
           },
           "name": "Age 45-54",
           "offsetgroup": "Age 45-54",
           "orientation": "v",
           "showlegend": true,
           "textposition": "auto",
           "type": "bar",
           "x": [
            "Age 45-54"
           ],
           "xaxis": "x",
           "y": [
            0.068
           ],
           "yaxis": "y"
          },
          {
           "alignmentgroup": "True",
           "hovertemplate": "Age Group=%{x}<br>Date=2021-08-01 00:00:00<br>Unemployment Rate=%{y}<extra></extra>",
           "legendgroup": "Age 55-64",
           "marker": {
            "color": "#19d3f3",
            "pattern": {
             "shape": ""
            }
           },
           "name": "Age 55-64",
           "offsetgroup": "Age 55-64",
           "orientation": "v",
           "showlegend": true,
           "textposition": "auto",
           "type": "bar",
           "x": [
            "Age 55-64"
           ],
           "xaxis": "x",
           "y": [
            0.077
           ],
           "yaxis": "y"
          },
          {
           "alignmentgroup": "True",
           "hovertemplate": "Age Group=%{x}<br>Date=2021-08-01 00:00:00<br>Unemployment Rate=%{y}<extra></extra>",
           "legendgroup": "Age 65+",
           "marker": {
            "color": "#FF6692",
            "pattern": {
             "shape": ""
            }
           },
           "name": "Age 65+",
           "offsetgroup": "Age 65+",
           "orientation": "v",
           "showlegend": true,
           "textposition": "auto",
           "type": "bar",
           "x": [
            "Age 65+"
           ],
           "xaxis": "x",
           "y": [
            0.083
           ],
           "yaxis": "y"
          }
         ],
         "name": "2021-08-01 00:00:00"
        },
        {
         "data": [
          {
           "alignmentgroup": "True",
           "hovertemplate": "Age Group=%{x}<br>Date=2021-09-01 00:00:00<br>Unemployment Rate=%{y}<extra></extra>",
           "legendgroup": "Age 16-19",
           "marker": {
            "color": "#636efa",
            "pattern": {
             "shape": ""
            }
           },
           "name": "Age 16-19",
           "offsetgroup": "Age 16-19",
           "orientation": "v",
           "showlegend": true,
           "textposition": "auto",
           "type": "bar",
           "x": [
            "Age 16-19"
           ],
           "xaxis": "x",
           "y": [
            0.174
           ],
           "yaxis": "y"
          },
          {
           "alignmentgroup": "True",
           "hovertemplate": "Age Group=%{x}<br>Date=2021-09-01 00:00:00<br>Unemployment Rate=%{y}<extra></extra>",
           "legendgroup": "Age 20-24",
           "marker": {
            "color": "#EF553B",
            "pattern": {
             "shape": ""
            }
           },
           "name": "Age 20-24",
           "offsetgroup": "Age 20-24",
           "orientation": "v",
           "showlegend": true,
           "textposition": "auto",
           "type": "bar",
           "x": [
            "Age 20-24"
           ],
           "xaxis": "x",
           "y": [
            0.127
           ],
           "yaxis": "y"
          },
          {
           "alignmentgroup": "True",
           "hovertemplate": "Age Group=%{x}<br>Date=2021-09-01 00:00:00<br>Unemployment Rate=%{y}<extra></extra>",
           "legendgroup": "Age 25-34",
           "marker": {
            "color": "#00cc96",
            "pattern": {
             "shape": ""
            }
           },
           "name": "Age 25-34",
           "offsetgroup": "Age 25-34",
           "orientation": "v",
           "showlegend": true,
           "textposition": "auto",
           "type": "bar",
           "x": [
            "Age 25-34"
           ],
           "xaxis": "x",
           "y": [
            0.082
           ],
           "yaxis": "y"
          },
          {
           "alignmentgroup": "True",
           "hovertemplate": "Age Group=%{x}<br>Date=2021-09-01 00:00:00<br>Unemployment Rate=%{y}<extra></extra>",
           "legendgroup": "Age 35-44",
           "marker": {
            "color": "#ab63fa",
            "pattern": {
             "shape": ""
            }
           },
           "name": "Age 35-44",
           "offsetgroup": "Age 35-44",
           "orientation": "v",
           "showlegend": true,
           "textposition": "auto",
           "type": "bar",
           "x": [
            "Age 35-44"
           ],
           "xaxis": "x",
           "y": [
            0.067
           ],
           "yaxis": "y"
          },
          {
           "alignmentgroup": "True",
           "hovertemplate": "Age Group=%{x}<br>Date=2021-09-01 00:00:00<br>Unemployment Rate=%{y}<extra></extra>",
           "legendgroup": "Age 45-54",
           "marker": {
            "color": "#FFA15A",
            "pattern": {
             "shape": ""
            }
           },
           "name": "Age 45-54",
           "offsetgroup": "Age 45-54",
           "orientation": "v",
           "showlegend": true,
           "textposition": "auto",
           "type": "bar",
           "x": [
            "Age 45-54"
           ],
           "xaxis": "x",
           "y": [
            0.066
           ],
           "yaxis": "y"
          },
          {
           "alignmentgroup": "True",
           "hovertemplate": "Age Group=%{x}<br>Date=2021-09-01 00:00:00<br>Unemployment Rate=%{y}<extra></extra>",
           "legendgroup": "Age 55-64",
           "marker": {
            "color": "#19d3f3",
            "pattern": {
             "shape": ""
            }
           },
           "name": "Age 55-64",
           "offsetgroup": "Age 55-64",
           "orientation": "v",
           "showlegend": true,
           "textposition": "auto",
           "type": "bar",
           "x": [
            "Age 55-64"
           ],
           "xaxis": "x",
           "y": [
            0.073
           ],
           "yaxis": "y"
          },
          {
           "alignmentgroup": "True",
           "hovertemplate": "Age Group=%{x}<br>Date=2021-09-01 00:00:00<br>Unemployment Rate=%{y}<extra></extra>",
           "legendgroup": "Age 65+",
           "marker": {
            "color": "#FF6692",
            "pattern": {
             "shape": ""
            }
           },
           "name": "Age 65+",
           "offsetgroup": "Age 65+",
           "orientation": "v",
           "showlegend": true,
           "textposition": "auto",
           "type": "bar",
           "x": [
            "Age 65+"
           ],
           "xaxis": "x",
           "y": [
            0.08
           ],
           "yaxis": "y"
          }
         ],
         "name": "2021-09-01 00:00:00"
        },
        {
         "data": [
          {
           "alignmentgroup": "True",
           "hovertemplate": "Age Group=%{x}<br>Date=2021-10-01 00:00:00<br>Unemployment Rate=%{y}<extra></extra>",
           "legendgroup": "Age 16-19",
           "marker": {
            "color": "#636efa",
            "pattern": {
             "shape": ""
            }
           },
           "name": "Age 16-19",
           "offsetgroup": "Age 16-19",
           "orientation": "v",
           "showlegend": true,
           "textposition": "auto",
           "type": "bar",
           "x": [
            "Age 16-19"
           ],
           "xaxis": "x",
           "y": [
            0.17
           ],
           "yaxis": "y"
          },
          {
           "alignmentgroup": "True",
           "hovertemplate": "Age Group=%{x}<br>Date=2021-10-01 00:00:00<br>Unemployment Rate=%{y}<extra></extra>",
           "legendgroup": "Age 20-24",
           "marker": {
            "color": "#EF553B",
            "pattern": {
             "shape": ""
            }
           },
           "name": "Age 20-24",
           "offsetgroup": "Age 20-24",
           "orientation": "v",
           "showlegend": true,
           "textposition": "auto",
           "type": "bar",
           "x": [
            "Age 20-24"
           ],
           "xaxis": "x",
           "y": [
            0.123
           ],
           "yaxis": "y"
          },
          {
           "alignmentgroup": "True",
           "hovertemplate": "Age Group=%{x}<br>Date=2021-10-01 00:00:00<br>Unemployment Rate=%{y}<extra></extra>",
           "legendgroup": "Age 25-34",
           "marker": {
            "color": "#00cc96",
            "pattern": {
             "shape": ""
            }
           },
           "name": "Age 25-34",
           "offsetgroup": "Age 25-34",
           "orientation": "v",
           "showlegend": true,
           "textposition": "auto",
           "type": "bar",
           "x": [
            "Age 25-34"
           ],
           "xaxis": "x",
           "y": [
            0.079
           ],
           "yaxis": "y"
          },
          {
           "alignmentgroup": "True",
           "hovertemplate": "Age Group=%{x}<br>Date=2021-10-01 00:00:00<br>Unemployment Rate=%{y}<extra></extra>",
           "legendgroup": "Age 35-44",
           "marker": {
            "color": "#ab63fa",
            "pattern": {
             "shape": ""
            }
           },
           "name": "Age 35-44",
           "offsetgroup": "Age 35-44",
           "orientation": "v",
           "showlegend": true,
           "textposition": "auto",
           "type": "bar",
           "x": [
            "Age 35-44"
           ],
           "xaxis": "x",
           "y": [
            0.065
           ],
           "yaxis": "y"
          },
          {
           "alignmentgroup": "True",
           "hovertemplate": "Age Group=%{x}<br>Date=2021-10-01 00:00:00<br>Unemployment Rate=%{y}<extra></extra>",
           "legendgroup": "Age 45-54",
           "marker": {
            "color": "#FFA15A",
            "pattern": {
             "shape": ""
            }
           },
           "name": "Age 45-54",
           "offsetgroup": "Age 45-54",
           "orientation": "v",
           "showlegend": true,
           "textposition": "auto",
           "type": "bar",
           "x": [
            "Age 45-54"
           ],
           "xaxis": "x",
           "y": [
            0.063
           ],
           "yaxis": "y"
          },
          {
           "alignmentgroup": "True",
           "hovertemplate": "Age Group=%{x}<br>Date=2021-10-01 00:00:00<br>Unemployment Rate=%{y}<extra></extra>",
           "legendgroup": "Age 55-64",
           "marker": {
            "color": "#19d3f3",
            "pattern": {
             "shape": ""
            }
           },
           "name": "Age 55-64",
           "offsetgroup": "Age 55-64",
           "orientation": "v",
           "showlegend": true,
           "textposition": "auto",
           "type": "bar",
           "x": [
            "Age 55-64"
           ],
           "xaxis": "x",
           "y": [
            0.07
           ],
           "yaxis": "y"
          },
          {
           "alignmentgroup": "True",
           "hovertemplate": "Age Group=%{x}<br>Date=2021-10-01 00:00:00<br>Unemployment Rate=%{y}<extra></extra>",
           "legendgroup": "Age 65+",
           "marker": {
            "color": "#FF6692",
            "pattern": {
             "shape": ""
            }
           },
           "name": "Age 65+",
           "offsetgroup": "Age 65+",
           "orientation": "v",
           "showlegend": true,
           "textposition": "auto",
           "type": "bar",
           "x": [
            "Age 65+"
           ],
           "xaxis": "x",
           "y": [
            0.081
           ],
           "yaxis": "y"
          }
         ],
         "name": "2021-10-01 00:00:00"
        },
        {
         "data": [
          {
           "alignmentgroup": "True",
           "hovertemplate": "Age Group=%{x}<br>Date=2021-11-01 00:00:00<br>Unemployment Rate=%{y}<extra></extra>",
           "legendgroup": "Age 16-19",
           "marker": {
            "color": "#636efa",
            "pattern": {
             "shape": ""
            }
           },
           "name": "Age 16-19",
           "offsetgroup": "Age 16-19",
           "orientation": "v",
           "showlegend": true,
           "textposition": "auto",
           "type": "bar",
           "x": [
            "Age 16-19"
           ],
           "xaxis": "x",
           "y": [
            0.164
           ],
           "yaxis": "y"
          },
          {
           "alignmentgroup": "True",
           "hovertemplate": "Age Group=%{x}<br>Date=2021-11-01 00:00:00<br>Unemployment Rate=%{y}<extra></extra>",
           "legendgroup": "Age 20-24",
           "marker": {
            "color": "#EF553B",
            "pattern": {
             "shape": ""
            }
           },
           "name": "Age 20-24",
           "offsetgroup": "Age 20-24",
           "orientation": "v",
           "showlegend": true,
           "textposition": "auto",
           "type": "bar",
           "x": [
            "Age 20-24"
           ],
           "xaxis": "x",
           "y": [
            0.118
           ],
           "yaxis": "y"
          },
          {
           "alignmentgroup": "True",
           "hovertemplate": "Age Group=%{x}<br>Date=2021-11-01 00:00:00<br>Unemployment Rate=%{y}<extra></extra>",
           "legendgroup": "Age 25-34",
           "marker": {
            "color": "#00cc96",
            "pattern": {
             "shape": ""
            }
           },
           "name": "Age 25-34",
           "offsetgroup": "Age 25-34",
           "orientation": "v",
           "showlegend": true,
           "textposition": "auto",
           "type": "bar",
           "x": [
            "Age 25-34"
           ],
           "xaxis": "x",
           "y": [
            0.076
           ],
           "yaxis": "y"
          },
          {
           "alignmentgroup": "True",
           "hovertemplate": "Age Group=%{x}<br>Date=2021-11-01 00:00:00<br>Unemployment Rate=%{y}<extra></extra>",
           "legendgroup": "Age 35-44",
           "marker": {
            "color": "#ab63fa",
            "pattern": {
             "shape": ""
            }
           },
           "name": "Age 35-44",
           "offsetgroup": "Age 35-44",
           "orientation": "v",
           "showlegend": true,
           "textposition": "auto",
           "type": "bar",
           "x": [
            "Age 35-44"
           ],
           "xaxis": "x",
           "y": [
            0.064
           ],
           "yaxis": "y"
          },
          {
           "alignmentgroup": "True",
           "hovertemplate": "Age Group=%{x}<br>Date=2021-11-01 00:00:00<br>Unemployment Rate=%{y}<extra></extra>",
           "legendgroup": "Age 45-54",
           "marker": {
            "color": "#FFA15A",
            "pattern": {
             "shape": ""
            }
           },
           "name": "Age 45-54",
           "offsetgroup": "Age 45-54",
           "orientation": "v",
           "showlegend": true,
           "textposition": "auto",
           "type": "bar",
           "x": [
            "Age 45-54"
           ],
           "xaxis": "x",
           "y": [
            0.061
           ],
           "yaxis": "y"
          },
          {
           "alignmentgroup": "True",
           "hovertemplate": "Age Group=%{x}<br>Date=2021-11-01 00:00:00<br>Unemployment Rate=%{y}<extra></extra>",
           "legendgroup": "Age 55-64",
           "marker": {
            "color": "#19d3f3",
            "pattern": {
             "shape": ""
            }
           },
           "name": "Age 55-64",
           "offsetgroup": "Age 55-64",
           "orientation": "v",
           "showlegend": true,
           "textposition": "auto",
           "type": "bar",
           "x": [
            "Age 55-64"
           ],
           "xaxis": "x",
           "y": [
            0.067
           ],
           "yaxis": "y"
          },
          {
           "alignmentgroup": "True",
           "hovertemplate": "Age Group=%{x}<br>Date=2021-11-01 00:00:00<br>Unemployment Rate=%{y}<extra></extra>",
           "legendgroup": "Age 65+",
           "marker": {
            "color": "#FF6692",
            "pattern": {
             "shape": ""
            }
           },
           "name": "Age 65+",
           "offsetgroup": "Age 65+",
           "orientation": "v",
           "showlegend": true,
           "textposition": "auto",
           "type": "bar",
           "x": [
            "Age 65+"
           ],
           "xaxis": "x",
           "y": [
            0.081
           ],
           "yaxis": "y"
          }
         ],
         "name": "2021-11-01 00:00:00"
        },
        {
         "data": [
          {
           "alignmentgroup": "True",
           "hovertemplate": "Age Group=%{x}<br>Date=2021-12-01 00:00:00<br>Unemployment Rate=%{y}<extra></extra>",
           "legendgroup": "Age 16-19",
           "marker": {
            "color": "#636efa",
            "pattern": {
             "shape": ""
            }
           },
           "name": "Age 16-19",
           "offsetgroup": "Age 16-19",
           "orientation": "v",
           "showlegend": true,
           "textposition": "auto",
           "type": "bar",
           "x": [
            "Age 16-19"
           ],
           "xaxis": "x",
           "y": [
            0.156
           ],
           "yaxis": "y"
          },
          {
           "alignmentgroup": "True",
           "hovertemplate": "Age Group=%{x}<br>Date=2021-12-01 00:00:00<br>Unemployment Rate=%{y}<extra></extra>",
           "legendgroup": "Age 20-24",
           "marker": {
            "color": "#EF553B",
            "pattern": {
             "shape": ""
            }
           },
           "name": "Age 20-24",
           "offsetgroup": "Age 20-24",
           "orientation": "v",
           "showlegend": true,
           "textposition": "auto",
           "type": "bar",
           "x": [
            "Age 20-24"
           ],
           "xaxis": "x",
           "y": [
            0.112
           ],
           "yaxis": "y"
          },
          {
           "alignmentgroup": "True",
           "hovertemplate": "Age Group=%{x}<br>Date=2021-12-01 00:00:00<br>Unemployment Rate=%{y}<extra></extra>",
           "legendgroup": "Age 25-34",
           "marker": {
            "color": "#00cc96",
            "pattern": {
             "shape": ""
            }
           },
           "name": "Age 25-34",
           "offsetgroup": "Age 25-34",
           "orientation": "v",
           "showlegend": true,
           "textposition": "auto",
           "type": "bar",
           "x": [
            "Age 25-34"
           ],
           "xaxis": "x",
           "y": [
            0.071
           ],
           "yaxis": "y"
          },
          {
           "alignmentgroup": "True",
           "hovertemplate": "Age Group=%{x}<br>Date=2021-12-01 00:00:00<br>Unemployment Rate=%{y}<extra></extra>",
           "legendgroup": "Age 35-44",
           "marker": {
            "color": "#ab63fa",
            "pattern": {
             "shape": ""
            }
           },
           "name": "Age 35-44",
           "offsetgroup": "Age 35-44",
           "orientation": "v",
           "showlegend": true,
           "textposition": "auto",
           "type": "bar",
           "x": [
            "Age 35-44"
           ],
           "xaxis": "x",
           "y": [
            0.062
           ],
           "yaxis": "y"
          },
          {
           "alignmentgroup": "True",
           "hovertemplate": "Age Group=%{x}<br>Date=2021-12-01 00:00:00<br>Unemployment Rate=%{y}<extra></extra>",
           "legendgroup": "Age 45-54",
           "marker": {
            "color": "#FFA15A",
            "pattern": {
             "shape": ""
            }
           },
           "name": "Age 45-54",
           "offsetgroup": "Age 45-54",
           "orientation": "v",
           "showlegend": true,
           "textposition": "auto",
           "type": "bar",
           "x": [
            "Age 45-54"
           ],
           "xaxis": "x",
           "y": [
            0.058
           ],
           "yaxis": "y"
          },
          {
           "alignmentgroup": "True",
           "hovertemplate": "Age Group=%{x}<br>Date=2021-12-01 00:00:00<br>Unemployment Rate=%{y}<extra></extra>",
           "legendgroup": "Age 55-64",
           "marker": {
            "color": "#19d3f3",
            "pattern": {
             "shape": ""
            }
           },
           "name": "Age 55-64",
           "offsetgroup": "Age 55-64",
           "orientation": "v",
           "showlegend": true,
           "textposition": "auto",
           "type": "bar",
           "x": [
            "Age 55-64"
           ],
           "xaxis": "x",
           "y": [
            0.064
           ],
           "yaxis": "y"
          },
          {
           "alignmentgroup": "True",
           "hovertemplate": "Age Group=%{x}<br>Date=2021-12-01 00:00:00<br>Unemployment Rate=%{y}<extra></extra>",
           "legendgroup": "Age 65+",
           "marker": {
            "color": "#FF6692",
            "pattern": {
             "shape": ""
            }
           },
           "name": "Age 65+",
           "offsetgroup": "Age 65+",
           "orientation": "v",
           "showlegend": true,
           "textposition": "auto",
           "type": "bar",
           "x": [
            "Age 65+"
           ],
           "xaxis": "x",
           "y": [
            0.078
           ],
           "yaxis": "y"
          }
         ],
         "name": "2021-12-01 00:00:00"
        },
        {
         "data": [
          {
           "alignmentgroup": "True",
           "hovertemplate": "Age Group=%{x}<br>Date=2022-01-01 00:00:00<br>Unemployment Rate=%{y}<extra></extra>",
           "legendgroup": "Age 16-19",
           "marker": {
            "color": "#636efa",
            "pattern": {
             "shape": ""
            }
           },
           "name": "Age 16-19",
           "offsetgroup": "Age 16-19",
           "orientation": "v",
           "showlegend": true,
           "textposition": "auto",
           "type": "bar",
           "x": [
            "Age 16-19"
           ],
           "xaxis": "x",
           "y": [
            0.149
           ],
           "yaxis": "y"
          },
          {
           "alignmentgroup": "True",
           "hovertemplate": "Age Group=%{x}<br>Date=2022-01-01 00:00:00<br>Unemployment Rate=%{y}<extra></extra>",
           "legendgroup": "Age 20-24",
           "marker": {
            "color": "#EF553B",
            "pattern": {
             "shape": ""
            }
           },
           "name": "Age 20-24",
           "offsetgroup": "Age 20-24",
           "orientation": "v",
           "showlegend": true,
           "textposition": "auto",
           "type": "bar",
           "x": [
            "Age 20-24"
           ],
           "xaxis": "x",
           "y": [
            0.109
           ],
           "yaxis": "y"
          },
          {
           "alignmentgroup": "True",
           "hovertemplate": "Age Group=%{x}<br>Date=2022-01-01 00:00:00<br>Unemployment Rate=%{y}<extra></extra>",
           "legendgroup": "Age 25-34",
           "marker": {
            "color": "#00cc96",
            "pattern": {
             "shape": ""
            }
           },
           "name": "Age 25-34",
           "offsetgroup": "Age 25-34",
           "orientation": "v",
           "showlegend": true,
           "textposition": "auto",
           "type": "bar",
           "x": [
            "Age 25-34"
           ],
           "xaxis": "x",
           "y": [
            0.067
           ],
           "yaxis": "y"
          },
          {
           "alignmentgroup": "True",
           "hovertemplate": "Age Group=%{x}<br>Date=2022-01-01 00:00:00<br>Unemployment Rate=%{y}<extra></extra>",
           "legendgroup": "Age 35-44",
           "marker": {
            "color": "#ab63fa",
            "pattern": {
             "shape": ""
            }
           },
           "name": "Age 35-44",
           "offsetgroup": "Age 35-44",
           "orientation": "v",
           "showlegend": true,
           "textposition": "auto",
           "type": "bar",
           "x": [
            "Age 35-44"
           ],
           "xaxis": "x",
           "y": [
            0.059
           ],
           "yaxis": "y"
          },
          {
           "alignmentgroup": "True",
           "hovertemplate": "Age Group=%{x}<br>Date=2022-01-01 00:00:00<br>Unemployment Rate=%{y}<extra></extra>",
           "legendgroup": "Age 45-54",
           "marker": {
            "color": "#FFA15A",
            "pattern": {
             "shape": ""
            }
           },
           "name": "Age 45-54",
           "offsetgroup": "Age 45-54",
           "orientation": "v",
           "showlegend": true,
           "textposition": "auto",
           "type": "bar",
           "x": [
            "Age 45-54"
           ],
           "xaxis": "x",
           "y": [
            0.055
           ],
           "yaxis": "y"
          },
          {
           "alignmentgroup": "True",
           "hovertemplate": "Age Group=%{x}<br>Date=2022-01-01 00:00:00<br>Unemployment Rate=%{y}<extra></extra>",
           "legendgroup": "Age 55-64",
           "marker": {
            "color": "#19d3f3",
            "pattern": {
             "shape": ""
            }
           },
           "name": "Age 55-64",
           "offsetgroup": "Age 55-64",
           "orientation": "v",
           "showlegend": true,
           "textposition": "auto",
           "type": "bar",
           "x": [
            "Age 55-64"
           ],
           "xaxis": "x",
           "y": [
            0.061
           ],
           "yaxis": "y"
          },
          {
           "alignmentgroup": "True",
           "hovertemplate": "Age Group=%{x}<br>Date=2022-01-01 00:00:00<br>Unemployment Rate=%{y}<extra></extra>",
           "legendgroup": "Age 65+",
           "marker": {
            "color": "#FF6692",
            "pattern": {
             "shape": ""
            }
           },
           "name": "Age 65+",
           "offsetgroup": "Age 65+",
           "orientation": "v",
           "showlegend": true,
           "textposition": "auto",
           "type": "bar",
           "x": [
            "Age 65+"
           ],
           "xaxis": "x",
           "y": [
            0.076
           ],
           "yaxis": "y"
          }
         ],
         "name": "2022-01-01 00:00:00"
        },
        {
         "data": [
          {
           "alignmentgroup": "True",
           "hovertemplate": "Age Group=%{x}<br>Date=2022-02-01 00:00:00<br>Unemployment Rate=%{y}<extra></extra>",
           "legendgroup": "Age 16-19",
           "marker": {
            "color": "#636efa",
            "pattern": {
             "shape": ""
            }
           },
           "name": "Age 16-19",
           "offsetgroup": "Age 16-19",
           "orientation": "v",
           "showlegend": true,
           "textposition": "auto",
           "type": "bar",
           "x": [
            "Age 16-19"
           ],
           "xaxis": "x",
           "y": [
            0.146
           ],
           "yaxis": "y"
          },
          {
           "alignmentgroup": "True",
           "hovertemplate": "Age Group=%{x}<br>Date=2022-02-01 00:00:00<br>Unemployment Rate=%{y}<extra></extra>",
           "legendgroup": "Age 20-24",
           "marker": {
            "color": "#EF553B",
            "pattern": {
             "shape": ""
            }
           },
           "name": "Age 20-24",
           "offsetgroup": "Age 20-24",
           "orientation": "v",
           "showlegend": true,
           "textposition": "auto",
           "type": "bar",
           "x": [
            "Age 20-24"
           ],
           "xaxis": "x",
           "y": [
            0.106
           ],
           "yaxis": "y"
          },
          {
           "alignmentgroup": "True",
           "hovertemplate": "Age Group=%{x}<br>Date=2022-02-01 00:00:00<br>Unemployment Rate=%{y}<extra></extra>",
           "legendgroup": "Age 25-34",
           "marker": {
            "color": "#00cc96",
            "pattern": {
             "shape": ""
            }
           },
           "name": "Age 25-34",
           "offsetgroup": "Age 25-34",
           "orientation": "v",
           "showlegend": true,
           "textposition": "auto",
           "type": "bar",
           "x": [
            "Age 25-34"
           ],
           "xaxis": "x",
           "y": [
            0.065
           ],
           "yaxis": "y"
          },
          {
           "alignmentgroup": "True",
           "hovertemplate": "Age Group=%{x}<br>Date=2022-02-01 00:00:00<br>Unemployment Rate=%{y}<extra></extra>",
           "legendgroup": "Age 35-44",
           "marker": {
            "color": "#ab63fa",
            "pattern": {
             "shape": ""
            }
           },
           "name": "Age 35-44",
           "offsetgroup": "Age 35-44",
           "orientation": "v",
           "showlegend": true,
           "textposition": "auto",
           "type": "bar",
           "x": [
            "Age 35-44"
           ],
           "xaxis": "x",
           "y": [
            0.056
           ],
           "yaxis": "y"
          },
          {
           "alignmentgroup": "True",
           "hovertemplate": "Age Group=%{x}<br>Date=2022-02-01 00:00:00<br>Unemployment Rate=%{y}<extra></extra>",
           "legendgroup": "Age 45-54",
           "marker": {
            "color": "#FFA15A",
            "pattern": {
             "shape": ""
            }
           },
           "name": "Age 45-54",
           "offsetgroup": "Age 45-54",
           "orientation": "v",
           "showlegend": true,
           "textposition": "auto",
           "type": "bar",
           "x": [
            "Age 45-54"
           ],
           "xaxis": "x",
           "y": [
            0.052
           ],
           "yaxis": "y"
          },
          {
           "alignmentgroup": "True",
           "hovertemplate": "Age Group=%{x}<br>Date=2022-02-01 00:00:00<br>Unemployment Rate=%{y}<extra></extra>",
           "legendgroup": "Age 55-64",
           "marker": {
            "color": "#19d3f3",
            "pattern": {
             "shape": ""
            }
           },
           "name": "Age 55-64",
           "offsetgroup": "Age 55-64",
           "orientation": "v",
           "showlegend": true,
           "textposition": "auto",
           "type": "bar",
           "x": [
            "Age 55-64"
           ],
           "xaxis": "x",
           "y": [
            0.059
           ],
           "yaxis": "y"
          },
          {
           "alignmentgroup": "True",
           "hovertemplate": "Age Group=%{x}<br>Date=2022-02-01 00:00:00<br>Unemployment Rate=%{y}<extra></extra>",
           "legendgroup": "Age 65+",
           "marker": {
            "color": "#FF6692",
            "pattern": {
             "shape": ""
            }
           },
           "name": "Age 65+",
           "offsetgroup": "Age 65+",
           "orientation": "v",
           "showlegend": true,
           "textposition": "auto",
           "type": "bar",
           "x": [
            "Age 65+"
           ],
           "xaxis": "x",
           "y": [
            0.074
           ],
           "yaxis": "y"
          }
         ],
         "name": "2022-02-01 00:00:00"
        },
        {
         "data": [
          {
           "alignmentgroup": "True",
           "hovertemplate": "Age Group=%{x}<br>Date=2022-03-01 00:00:00<br>Unemployment Rate=%{y}<extra></extra>",
           "legendgroup": "Age 16-19",
           "marker": {
            "color": "#636efa",
            "pattern": {
             "shape": ""
            }
           },
           "name": "Age 16-19",
           "offsetgroup": "Age 16-19",
           "orientation": "v",
           "showlegend": true,
           "textposition": "auto",
           "type": "bar",
           "x": [
            "Age 16-19"
           ],
           "xaxis": "x",
           "y": [
            0.136
           ],
           "yaxis": "y"
          },
          {
           "alignmentgroup": "True",
           "hovertemplate": "Age Group=%{x}<br>Date=2022-03-01 00:00:00<br>Unemployment Rate=%{y}<extra></extra>",
           "legendgroup": "Age 20-24",
           "marker": {
            "color": "#EF553B",
            "pattern": {
             "shape": ""
            }
           },
           "name": "Age 20-24",
           "offsetgroup": "Age 20-24",
           "orientation": "v",
           "showlegend": true,
           "textposition": "auto",
           "type": "bar",
           "x": [
            "Age 20-24"
           ],
           "xaxis": "x",
           "y": [
            0.101
           ],
           "yaxis": "y"
          },
          {
           "alignmentgroup": "True",
           "hovertemplate": "Age Group=%{x}<br>Date=2022-03-01 00:00:00<br>Unemployment Rate=%{y}<extra></extra>",
           "legendgroup": "Age 25-34",
           "marker": {
            "color": "#00cc96",
            "pattern": {
             "shape": ""
            }
           },
           "name": "Age 25-34",
           "offsetgroup": "Age 25-34",
           "orientation": "v",
           "showlegend": true,
           "textposition": "auto",
           "type": "bar",
           "x": [
            "Age 25-34"
           ],
           "xaxis": "x",
           "y": [
            0.061
           ],
           "yaxis": "y"
          },
          {
           "alignmentgroup": "True",
           "hovertemplate": "Age Group=%{x}<br>Date=2022-03-01 00:00:00<br>Unemployment Rate=%{y}<extra></extra>",
           "legendgroup": "Age 35-44",
           "marker": {
            "color": "#ab63fa",
            "pattern": {
             "shape": ""
            }
           },
           "name": "Age 35-44",
           "offsetgroup": "Age 35-44",
           "orientation": "v",
           "showlegend": true,
           "textposition": "auto",
           "type": "bar",
           "x": [
            "Age 35-44"
           ],
           "xaxis": "x",
           "y": [
            0.054
           ],
           "yaxis": "y"
          },
          {
           "alignmentgroup": "True",
           "hovertemplate": "Age Group=%{x}<br>Date=2022-03-01 00:00:00<br>Unemployment Rate=%{y}<extra></extra>",
           "legendgroup": "Age 45-54",
           "marker": {
            "color": "#FFA15A",
            "pattern": {
             "shape": ""
            }
           },
           "name": "Age 45-54",
           "offsetgroup": "Age 45-54",
           "orientation": "v",
           "showlegend": true,
           "textposition": "auto",
           "type": "bar",
           "x": [
            "Age 45-54"
           ],
           "xaxis": "x",
           "y": [
            0.049
           ],
           "yaxis": "y"
          },
          {
           "alignmentgroup": "True",
           "hovertemplate": "Age Group=%{x}<br>Date=2022-03-01 00:00:00<br>Unemployment Rate=%{y}<extra></extra>",
           "legendgroup": "Age 55-64",
           "marker": {
            "color": "#19d3f3",
            "pattern": {
             "shape": ""
            }
           },
           "name": "Age 55-64",
           "offsetgroup": "Age 55-64",
           "orientation": "v",
           "showlegend": true,
           "textposition": "auto",
           "type": "bar",
           "x": [
            "Age 55-64"
           ],
           "xaxis": "x",
           "y": [
            0.056
           ],
           "yaxis": "y"
          },
          {
           "alignmentgroup": "True",
           "hovertemplate": "Age Group=%{x}<br>Date=2022-03-01 00:00:00<br>Unemployment Rate=%{y}<extra></extra>",
           "legendgroup": "Age 65+",
           "marker": {
            "color": "#FF6692",
            "pattern": {
             "shape": ""
            }
           },
           "name": "Age 65+",
           "offsetgroup": "Age 65+",
           "orientation": "v",
           "showlegend": true,
           "textposition": "auto",
           "type": "bar",
           "x": [
            "Age 65+"
           ],
           "xaxis": "x",
           "y": [
            0.071
           ],
           "yaxis": "y"
          }
         ],
         "name": "2022-03-01 00:00:00"
        },
        {
         "data": [
          {
           "alignmentgroup": "True",
           "hovertemplate": "Age Group=%{x}<br>Date=2022-04-01 00:00:00<br>Unemployment Rate=%{y}<extra></extra>",
           "legendgroup": "Age 16-19",
           "marker": {
            "color": "#636efa",
            "pattern": {
             "shape": ""
            }
           },
           "name": "Age 16-19",
           "offsetgroup": "Age 16-19",
           "orientation": "v",
           "showlegend": true,
           "textposition": "auto",
           "type": "bar",
           "x": [
            "Age 16-19"
           ],
           "xaxis": "x",
           "y": [
            0.13
           ],
           "yaxis": "y"
          },
          {
           "alignmentgroup": "True",
           "hovertemplate": "Age Group=%{x}<br>Date=2022-04-01 00:00:00<br>Unemployment Rate=%{y}<extra></extra>",
           "legendgroup": "Age 20-24",
           "marker": {
            "color": "#EF553B",
            "pattern": {
             "shape": ""
            }
           },
           "name": "Age 20-24",
           "offsetgroup": "Age 20-24",
           "orientation": "v",
           "showlegend": true,
           "textposition": "auto",
           "type": "bar",
           "x": [
            "Age 20-24"
           ],
           "xaxis": "x",
           "y": [
            0.093
           ],
           "yaxis": "y"
          },
          {
           "alignmentgroup": "True",
           "hovertemplate": "Age Group=%{x}<br>Date=2022-04-01 00:00:00<br>Unemployment Rate=%{y}<extra></extra>",
           "legendgroup": "Age 25-34",
           "marker": {
            "color": "#00cc96",
            "pattern": {
             "shape": ""
            }
           },
           "name": "Age 25-34",
           "offsetgroup": "Age 25-34",
           "orientation": "v",
           "showlegend": true,
           "textposition": "auto",
           "type": "bar",
           "x": [
            "Age 25-34"
           ],
           "xaxis": "x",
           "y": [
            0.058
           ],
           "yaxis": "y"
          },
          {
           "alignmentgroup": "True",
           "hovertemplate": "Age Group=%{x}<br>Date=2022-04-01 00:00:00<br>Unemployment Rate=%{y}<extra></extra>",
           "legendgroup": "Age 35-44",
           "marker": {
            "color": "#ab63fa",
            "pattern": {
             "shape": ""
            }
           },
           "name": "Age 35-44",
           "offsetgroup": "Age 35-44",
           "orientation": "v",
           "showlegend": true,
           "textposition": "auto",
           "type": "bar",
           "x": [
            "Age 35-44"
           ],
           "xaxis": "x",
           "y": [
            0.051
           ],
           "yaxis": "y"
          },
          {
           "alignmentgroup": "True",
           "hovertemplate": "Age Group=%{x}<br>Date=2022-04-01 00:00:00<br>Unemployment Rate=%{y}<extra></extra>",
           "legendgroup": "Age 45-54",
           "marker": {
            "color": "#FFA15A",
            "pattern": {
             "shape": ""
            }
           },
           "name": "Age 45-54",
           "offsetgroup": "Age 45-54",
           "orientation": "v",
           "showlegend": true,
           "textposition": "auto",
           "type": "bar",
           "x": [
            "Age 45-54"
           ],
           "xaxis": "x",
           "y": [
            0.045
           ],
           "yaxis": "y"
          },
          {
           "alignmentgroup": "True",
           "hovertemplate": "Age Group=%{x}<br>Date=2022-04-01 00:00:00<br>Unemployment Rate=%{y}<extra></extra>",
           "legendgroup": "Age 55-64",
           "marker": {
            "color": "#19d3f3",
            "pattern": {
             "shape": ""
            }
           },
           "name": "Age 55-64",
           "offsetgroup": "Age 55-64",
           "orientation": "v",
           "showlegend": true,
           "textposition": "auto",
           "type": "bar",
           "x": [
            "Age 55-64"
           ],
           "xaxis": "x",
           "y": [
            0.052
           ],
           "yaxis": "y"
          },
          {
           "alignmentgroup": "True",
           "hovertemplate": "Age Group=%{x}<br>Date=2022-04-01 00:00:00<br>Unemployment Rate=%{y}<extra></extra>",
           "legendgroup": "Age 65+",
           "marker": {
            "color": "#FF6692",
            "pattern": {
             "shape": ""
            }
           },
           "name": "Age 65+",
           "offsetgroup": "Age 65+",
           "orientation": "v",
           "showlegend": true,
           "textposition": "auto",
           "type": "bar",
           "x": [
            "Age 65+"
           ],
           "xaxis": "x",
           "y": [
            0.066
           ],
           "yaxis": "y"
          }
         ],
         "name": "2022-04-01 00:00:00"
        },
        {
         "data": [
          {
           "alignmentgroup": "True",
           "hovertemplate": "Age Group=%{x}<br>Date=2022-05-01 00:00:00<br>Unemployment Rate=%{y}<extra></extra>",
           "legendgroup": "Age 16-19",
           "marker": {
            "color": "#636efa",
            "pattern": {
             "shape": ""
            }
           },
           "name": "Age 16-19",
           "offsetgroup": "Age 16-19",
           "orientation": "v",
           "showlegend": true,
           "textposition": "auto",
           "type": "bar",
           "x": [
            "Age 16-19"
           ],
           "xaxis": "x",
           "y": [
            0.124
           ],
           "yaxis": "y"
          },
          {
           "alignmentgroup": "True",
           "hovertemplate": "Age Group=%{x}<br>Date=2022-05-01 00:00:00<br>Unemployment Rate=%{y}<extra></extra>",
           "legendgroup": "Age 20-24",
           "marker": {
            "color": "#EF553B",
            "pattern": {
             "shape": ""
            }
           },
           "name": "Age 20-24",
           "offsetgroup": "Age 20-24",
           "orientation": "v",
           "showlegend": true,
           "textposition": "auto",
           "type": "bar",
           "x": [
            "Age 20-24"
           ],
           "xaxis": "x",
           "y": [
            0.086
           ],
           "yaxis": "y"
          },
          {
           "alignmentgroup": "True",
           "hovertemplate": "Age Group=%{x}<br>Date=2022-05-01 00:00:00<br>Unemployment Rate=%{y}<extra></extra>",
           "legendgroup": "Age 25-34",
           "marker": {
            "color": "#00cc96",
            "pattern": {
             "shape": ""
            }
           },
           "name": "Age 25-34",
           "offsetgroup": "Age 25-34",
           "orientation": "v",
           "showlegend": true,
           "textposition": "auto",
           "type": "bar",
           "x": [
            "Age 25-34"
           ],
           "xaxis": "x",
           "y": [
            0.056
           ],
           "yaxis": "y"
          },
          {
           "alignmentgroup": "True",
           "hovertemplate": "Age Group=%{x}<br>Date=2022-05-01 00:00:00<br>Unemployment Rate=%{y}<extra></extra>",
           "legendgroup": "Age 35-44",
           "marker": {
            "color": "#ab63fa",
            "pattern": {
             "shape": ""
            }
           },
           "name": "Age 35-44",
           "offsetgroup": "Age 35-44",
           "orientation": "v",
           "showlegend": true,
           "textposition": "auto",
           "type": "bar",
           "x": [
            "Age 35-44"
           ],
           "xaxis": "x",
           "y": [
            0.048
           ],
           "yaxis": "y"
          },
          {
           "alignmentgroup": "True",
           "hovertemplate": "Age Group=%{x}<br>Date=2022-05-01 00:00:00<br>Unemployment Rate=%{y}<extra></extra>",
           "legendgroup": "Age 45-54",
           "marker": {
            "color": "#FFA15A",
            "pattern": {
             "shape": ""
            }
           },
           "name": "Age 45-54",
           "offsetgroup": "Age 45-54",
           "orientation": "v",
           "showlegend": true,
           "textposition": "auto",
           "type": "bar",
           "x": [
            "Age 45-54"
           ],
           "xaxis": "x",
           "y": [
            0.041
           ],
           "yaxis": "y"
          },
          {
           "alignmentgroup": "True",
           "hovertemplate": "Age Group=%{x}<br>Date=2022-05-01 00:00:00<br>Unemployment Rate=%{y}<extra></extra>",
           "legendgroup": "Age 55-64",
           "marker": {
            "color": "#19d3f3",
            "pattern": {
             "shape": ""
            }
           },
           "name": "Age 55-64",
           "offsetgroup": "Age 55-64",
           "orientation": "v",
           "showlegend": true,
           "textposition": "auto",
           "type": "bar",
           "x": [
            "Age 55-64"
           ],
           "xaxis": "x",
           "y": [
            0.049
           ],
           "yaxis": "y"
          },
          {
           "alignmentgroup": "True",
           "hovertemplate": "Age Group=%{x}<br>Date=2022-05-01 00:00:00<br>Unemployment Rate=%{y}<extra></extra>",
           "legendgroup": "Age 65+",
           "marker": {
            "color": "#FF6692",
            "pattern": {
             "shape": ""
            }
           },
           "name": "Age 65+",
           "offsetgroup": "Age 65+",
           "orientation": "v",
           "showlegend": true,
           "textposition": "auto",
           "type": "bar",
           "x": [
            "Age 65+"
           ],
           "xaxis": "x",
           "y": [
            0.061
           ],
           "yaxis": "y"
          }
         ],
         "name": "2022-05-01 00:00:00"
        },
        {
         "data": [
          {
           "alignmentgroup": "True",
           "hovertemplate": "Age Group=%{x}<br>Date=2022-06-01 00:00:00<br>Unemployment Rate=%{y}<extra></extra>",
           "legendgroup": "Age 16-19",
           "marker": {
            "color": "#636efa",
            "pattern": {
             "shape": ""
            }
           },
           "name": "Age 16-19",
           "offsetgroup": "Age 16-19",
           "orientation": "v",
           "showlegend": true,
           "textposition": "auto",
           "type": "bar",
           "x": [
            "Age 16-19"
           ],
           "xaxis": "x",
           "y": [
            0.12
           ],
           "yaxis": "y"
          },
          {
           "alignmentgroup": "True",
           "hovertemplate": "Age Group=%{x}<br>Date=2022-06-01 00:00:00<br>Unemployment Rate=%{y}<extra></extra>",
           "legendgroup": "Age 20-24",
           "marker": {
            "color": "#EF553B",
            "pattern": {
             "shape": ""
            }
           },
           "name": "Age 20-24",
           "offsetgroup": "Age 20-24",
           "orientation": "v",
           "showlegend": true,
           "textposition": "auto",
           "type": "bar",
           "x": [
            "Age 20-24"
           ],
           "xaxis": "x",
           "y": [
            0.082
           ],
           "yaxis": "y"
          },
          {
           "alignmentgroup": "True",
           "hovertemplate": "Age Group=%{x}<br>Date=2022-06-01 00:00:00<br>Unemployment Rate=%{y}<extra></extra>",
           "legendgroup": "Age 25-34",
           "marker": {
            "color": "#00cc96",
            "pattern": {
             "shape": ""
            }
           },
           "name": "Age 25-34",
           "offsetgroup": "Age 25-34",
           "orientation": "v",
           "showlegend": true,
           "textposition": "auto",
           "type": "bar",
           "x": [
            "Age 25-34"
           ],
           "xaxis": "x",
           "y": [
            0.053
           ],
           "yaxis": "y"
          },
          {
           "alignmentgroup": "True",
           "hovertemplate": "Age Group=%{x}<br>Date=2022-06-01 00:00:00<br>Unemployment Rate=%{y}<extra></extra>",
           "legendgroup": "Age 35-44",
           "marker": {
            "color": "#ab63fa",
            "pattern": {
             "shape": ""
            }
           },
           "name": "Age 35-44",
           "offsetgroup": "Age 35-44",
           "orientation": "v",
           "showlegend": true,
           "textposition": "auto",
           "type": "bar",
           "x": [
            "Age 35-44"
           ],
           "xaxis": "x",
           "y": [
            0.046
           ],
           "yaxis": "y"
          },
          {
           "alignmentgroup": "True",
           "hovertemplate": "Age Group=%{x}<br>Date=2022-06-01 00:00:00<br>Unemployment Rate=%{y}<extra></extra>",
           "legendgroup": "Age 45-54",
           "marker": {
            "color": "#FFA15A",
            "pattern": {
             "shape": ""
            }
           },
           "name": "Age 45-54",
           "offsetgroup": "Age 45-54",
           "orientation": "v",
           "showlegend": true,
           "textposition": "auto",
           "type": "bar",
           "x": [
            "Age 45-54"
           ],
           "xaxis": "x",
           "y": [
            0.039
           ],
           "yaxis": "y"
          },
          {
           "alignmentgroup": "True",
           "hovertemplate": "Age Group=%{x}<br>Date=2022-06-01 00:00:00<br>Unemployment Rate=%{y}<extra></extra>",
           "legendgroup": "Age 55-64",
           "marker": {
            "color": "#19d3f3",
            "pattern": {
             "shape": ""
            }
           },
           "name": "Age 55-64",
           "offsetgroup": "Age 55-64",
           "orientation": "v",
           "showlegend": true,
           "textposition": "auto",
           "type": "bar",
           "x": [
            "Age 55-64"
           ],
           "xaxis": "x",
           "y": [
            0.046
           ],
           "yaxis": "y"
          },
          {
           "alignmentgroup": "True",
           "hovertemplate": "Age Group=%{x}<br>Date=2022-06-01 00:00:00<br>Unemployment Rate=%{y}<extra></extra>",
           "legendgroup": "Age 65+",
           "marker": {
            "color": "#FF6692",
            "pattern": {
             "shape": ""
            }
           },
           "name": "Age 65+",
           "offsetgroup": "Age 65+",
           "orientation": "v",
           "showlegend": true,
           "textposition": "auto",
           "type": "bar",
           "x": [
            "Age 65+"
           ],
           "xaxis": "x",
           "y": [
            0.057
           ],
           "yaxis": "y"
          }
         ],
         "name": "2022-06-01 00:00:00"
        },
        {
         "data": [
          {
           "alignmentgroup": "True",
           "hovertemplate": "Age Group=%{x}<br>Date=2022-07-01 00:00:00<br>Unemployment Rate=%{y}<extra></extra>",
           "legendgroup": "Age 16-19",
           "marker": {
            "color": "#636efa",
            "pattern": {
             "shape": ""
            }
           },
           "name": "Age 16-19",
           "offsetgroup": "Age 16-19",
           "orientation": "v",
           "showlegend": true,
           "textposition": "auto",
           "type": "bar",
           "x": [
            "Age 16-19"
           ],
           "xaxis": "x",
           "y": [
            0.118
           ],
           "yaxis": "y"
          },
          {
           "alignmentgroup": "True",
           "hovertemplate": "Age Group=%{x}<br>Date=2022-07-01 00:00:00<br>Unemployment Rate=%{y}<extra></extra>",
           "legendgroup": "Age 20-24",
           "marker": {
            "color": "#EF553B",
            "pattern": {
             "shape": ""
            }
           },
           "name": "Age 20-24",
           "offsetgroup": "Age 20-24",
           "orientation": "v",
           "showlegend": true,
           "textposition": "auto",
           "type": "bar",
           "x": [
            "Age 20-24"
           ],
           "xaxis": "x",
           "y": [
            0.078
           ],
           "yaxis": "y"
          },
          {
           "alignmentgroup": "True",
           "hovertemplate": "Age Group=%{x}<br>Date=2022-07-01 00:00:00<br>Unemployment Rate=%{y}<extra></extra>",
           "legendgroup": "Age 25-34",
           "marker": {
            "color": "#00cc96",
            "pattern": {
             "shape": ""
            }
           },
           "name": "Age 25-34",
           "offsetgroup": "Age 25-34",
           "orientation": "v",
           "showlegend": true,
           "textposition": "auto",
           "type": "bar",
           "x": [
            "Age 25-34"
           ],
           "xaxis": "x",
           "y": [
            0.049
           ],
           "yaxis": "y"
          },
          {
           "alignmentgroup": "True",
           "hovertemplate": "Age Group=%{x}<br>Date=2022-07-01 00:00:00<br>Unemployment Rate=%{y}<extra></extra>",
           "legendgroup": "Age 35-44",
           "marker": {
            "color": "#ab63fa",
            "pattern": {
             "shape": ""
            }
           },
           "name": "Age 35-44",
           "offsetgroup": "Age 35-44",
           "orientation": "v",
           "showlegend": true,
           "textposition": "auto",
           "type": "bar",
           "x": [
            "Age 35-44"
           ],
           "xaxis": "x",
           "y": [
            0.044
           ],
           "yaxis": "y"
          },
          {
           "alignmentgroup": "True",
           "hovertemplate": "Age Group=%{x}<br>Date=2022-07-01 00:00:00<br>Unemployment Rate=%{y}<extra></extra>",
           "legendgroup": "Age 45-54",
           "marker": {
            "color": "#FFA15A",
            "pattern": {
             "shape": ""
            }
           },
           "name": "Age 45-54",
           "offsetgroup": "Age 45-54",
           "orientation": "v",
           "showlegend": true,
           "textposition": "auto",
           "type": "bar",
           "x": [
            "Age 45-54"
           ],
           "xaxis": "x",
           "y": [
            0.036
           ],
           "yaxis": "y"
          },
          {
           "alignmentgroup": "True",
           "hovertemplate": "Age Group=%{x}<br>Date=2022-07-01 00:00:00<br>Unemployment Rate=%{y}<extra></extra>",
           "legendgroup": "Age 55-64",
           "marker": {
            "color": "#19d3f3",
            "pattern": {
             "shape": ""
            }
           },
           "name": "Age 55-64",
           "offsetgroup": "Age 55-64",
           "orientation": "v",
           "showlegend": true,
           "textposition": "auto",
           "type": "bar",
           "x": [
            "Age 55-64"
           ],
           "xaxis": "x",
           "y": [
            0.042
           ],
           "yaxis": "y"
          },
          {
           "alignmentgroup": "True",
           "hovertemplate": "Age Group=%{x}<br>Date=2022-07-01 00:00:00<br>Unemployment Rate=%{y}<extra></extra>",
           "legendgroup": "Age 65+",
           "marker": {
            "color": "#FF6692",
            "pattern": {
             "shape": ""
            }
           },
           "name": "Age 65+",
           "offsetgroup": "Age 65+",
           "orientation": "v",
           "showlegend": true,
           "textposition": "auto",
           "type": "bar",
           "x": [
            "Age 65+"
           ],
           "xaxis": "x",
           "y": [
            0.053
           ],
           "yaxis": "y"
          }
         ],
         "name": "2022-07-01 00:00:00"
        },
        {
         "data": [
          {
           "alignmentgroup": "True",
           "hovertemplate": "Age Group=%{x}<br>Date=2022-08-01 00:00:00<br>Unemployment Rate=%{y}<extra></extra>",
           "legendgroup": "Age 16-19",
           "marker": {
            "color": "#636efa",
            "pattern": {
             "shape": ""
            }
           },
           "name": "Age 16-19",
           "offsetgroup": "Age 16-19",
           "orientation": "v",
           "showlegend": true,
           "textposition": "auto",
           "type": "bar",
           "x": [
            "Age 16-19"
           ],
           "xaxis": "x",
           "y": [
            0.118
           ],
           "yaxis": "y"
          },
          {
           "alignmentgroup": "True",
           "hovertemplate": "Age Group=%{x}<br>Date=2022-08-01 00:00:00<br>Unemployment Rate=%{y}<extra></extra>",
           "legendgroup": "Age 20-24",
           "marker": {
            "color": "#EF553B",
            "pattern": {
             "shape": ""
            }
           },
           "name": "Age 20-24",
           "offsetgroup": "Age 20-24",
           "orientation": "v",
           "showlegend": true,
           "textposition": "auto",
           "type": "bar",
           "x": [
            "Age 20-24"
           ],
           "xaxis": "x",
           "y": [
            0.077
           ],
           "yaxis": "y"
          },
          {
           "alignmentgroup": "True",
           "hovertemplate": "Age Group=%{x}<br>Date=2022-08-01 00:00:00<br>Unemployment Rate=%{y}<extra></extra>",
           "legendgroup": "Age 25-34",
           "marker": {
            "color": "#00cc96",
            "pattern": {
             "shape": ""
            }
           },
           "name": "Age 25-34",
           "offsetgroup": "Age 25-34",
           "orientation": "v",
           "showlegend": true,
           "textposition": "auto",
           "type": "bar",
           "x": [
            "Age 25-34"
           ],
           "xaxis": "x",
           "y": [
            0.047
           ],
           "yaxis": "y"
          },
          {
           "alignmentgroup": "True",
           "hovertemplate": "Age Group=%{x}<br>Date=2022-08-01 00:00:00<br>Unemployment Rate=%{y}<extra></extra>",
           "legendgroup": "Age 35-44",
           "marker": {
            "color": "#ab63fa",
            "pattern": {
             "shape": ""
            }
           },
           "name": "Age 35-44",
           "offsetgroup": "Age 35-44",
           "orientation": "v",
           "showlegend": true,
           "textposition": "auto",
           "type": "bar",
           "x": [
            "Age 35-44"
           ],
           "xaxis": "x",
           "y": [
            0.04
           ],
           "yaxis": "y"
          },
          {
           "alignmentgroup": "True",
           "hovertemplate": "Age Group=%{x}<br>Date=2022-08-01 00:00:00<br>Unemployment Rate=%{y}<extra></extra>",
           "legendgroup": "Age 45-54",
           "marker": {
            "color": "#FFA15A",
            "pattern": {
             "shape": ""
            }
           },
           "name": "Age 45-54",
           "offsetgroup": "Age 45-54",
           "orientation": "v",
           "showlegend": true,
           "textposition": "auto",
           "type": "bar",
           "x": [
            "Age 45-54"
           ],
           "xaxis": "x",
           "y": [
            0.033
           ],
           "yaxis": "y"
          },
          {
           "alignmentgroup": "True",
           "hovertemplate": "Age Group=%{x}<br>Date=2022-08-01 00:00:00<br>Unemployment Rate=%{y}<extra></extra>",
           "legendgroup": "Age 55-64",
           "marker": {
            "color": "#19d3f3",
            "pattern": {
             "shape": ""
            }
           },
           "name": "Age 55-64",
           "offsetgroup": "Age 55-64",
           "orientation": "v",
           "showlegend": true,
           "textposition": "auto",
           "type": "bar",
           "x": [
            "Age 55-64"
           ],
           "xaxis": "x",
           "y": [
            0.04
           ],
           "yaxis": "y"
          },
          {
           "alignmentgroup": "True",
           "hovertemplate": "Age Group=%{x}<br>Date=2022-08-01 00:00:00<br>Unemployment Rate=%{y}<extra></extra>",
           "legendgroup": "Age 65+",
           "marker": {
            "color": "#FF6692",
            "pattern": {
             "shape": ""
            }
           },
           "name": "Age 65+",
           "offsetgroup": "Age 65+",
           "orientation": "v",
           "showlegend": true,
           "textposition": "auto",
           "type": "bar",
           "x": [
            "Age 65+"
           ],
           "xaxis": "x",
           "y": [
            0.048
           ],
           "yaxis": "y"
          }
         ],
         "name": "2022-08-01 00:00:00"
        },
        {
         "data": [
          {
           "alignmentgroup": "True",
           "hovertemplate": "Age Group=%{x}<br>Date=2022-09-01 00:00:00<br>Unemployment Rate=%{y}<extra></extra>",
           "legendgroup": "Age 16-19",
           "marker": {
            "color": "#636efa",
            "pattern": {
             "shape": ""
            }
           },
           "name": "Age 16-19",
           "offsetgroup": "Age 16-19",
           "orientation": "v",
           "showlegend": true,
           "textposition": "auto",
           "type": "bar",
           "x": [
            "Age 16-19"
           ],
           "xaxis": "x",
           "y": [
            0.116
           ],
           "yaxis": "y"
          },
          {
           "alignmentgroup": "True",
           "hovertemplate": "Age Group=%{x}<br>Date=2022-09-01 00:00:00<br>Unemployment Rate=%{y}<extra></extra>",
           "legendgroup": "Age 20-24",
           "marker": {
            "color": "#EF553B",
            "pattern": {
             "shape": ""
            }
           },
           "name": "Age 20-24",
           "offsetgroup": "Age 20-24",
           "orientation": "v",
           "showlegend": true,
           "textposition": "auto",
           "type": "bar",
           "x": [
            "Age 20-24"
           ],
           "xaxis": "x",
           "y": [
            0.075
           ],
           "yaxis": "y"
          },
          {
           "alignmentgroup": "True",
           "hovertemplate": "Age Group=%{x}<br>Date=2022-09-01 00:00:00<br>Unemployment Rate=%{y}<extra></extra>",
           "legendgroup": "Age 25-34",
           "marker": {
            "color": "#00cc96",
            "pattern": {
             "shape": ""
            }
           },
           "name": "Age 25-34",
           "offsetgroup": "Age 25-34",
           "orientation": "v",
           "showlegend": true,
           "textposition": "auto",
           "type": "bar",
           "x": [
            "Age 25-34"
           ],
           "xaxis": "x",
           "y": [
            0.045
           ],
           "yaxis": "y"
          },
          {
           "alignmentgroup": "True",
           "hovertemplate": "Age Group=%{x}<br>Date=2022-09-01 00:00:00<br>Unemployment Rate=%{y}<extra></extra>",
           "legendgroup": "Age 35-44",
           "marker": {
            "color": "#ab63fa",
            "pattern": {
             "shape": ""
            }
           },
           "name": "Age 35-44",
           "offsetgroup": "Age 35-44",
           "orientation": "v",
           "showlegend": true,
           "textposition": "auto",
           "type": "bar",
           "x": [
            "Age 35-44"
           ],
           "xaxis": "x",
           "y": [
            0.04
           ],
           "yaxis": "y"
          },
          {
           "alignmentgroup": "True",
           "hovertemplate": "Age Group=%{x}<br>Date=2022-09-01 00:00:00<br>Unemployment Rate=%{y}<extra></extra>",
           "legendgroup": "Age 45-54",
           "marker": {
            "color": "#FFA15A",
            "pattern": {
             "shape": ""
            }
           },
           "name": "Age 45-54",
           "offsetgroup": "Age 45-54",
           "orientation": "v",
           "showlegend": true,
           "textposition": "auto",
           "type": "bar",
           "x": [
            "Age 45-54"
           ],
           "xaxis": "x",
           "y": [
            0.031
           ],
           "yaxis": "y"
          },
          {
           "alignmentgroup": "True",
           "hovertemplate": "Age Group=%{x}<br>Date=2022-09-01 00:00:00<br>Unemployment Rate=%{y}<extra></extra>",
           "legendgroup": "Age 55-64",
           "marker": {
            "color": "#19d3f3",
            "pattern": {
             "shape": ""
            }
           },
           "name": "Age 55-64",
           "offsetgroup": "Age 55-64",
           "orientation": "v",
           "showlegend": true,
           "textposition": "auto",
           "type": "bar",
           "x": [
            "Age 55-64"
           ],
           "xaxis": "x",
           "y": [
            0.038
           ],
           "yaxis": "y"
          },
          {
           "alignmentgroup": "True",
           "hovertemplate": "Age Group=%{x}<br>Date=2022-09-01 00:00:00<br>Unemployment Rate=%{y}<extra></extra>",
           "legendgroup": "Age 65+",
           "marker": {
            "color": "#FF6692",
            "pattern": {
             "shape": ""
            }
           },
           "name": "Age 65+",
           "offsetgroup": "Age 65+",
           "orientation": "v",
           "showlegend": true,
           "textposition": "auto",
           "type": "bar",
           "x": [
            "Age 65+"
           ],
           "xaxis": "x",
           "y": [
            0.044
           ],
           "yaxis": "y"
          }
         ],
         "name": "2022-09-01 00:00:00"
        },
        {
         "data": [
          {
           "alignmentgroup": "True",
           "hovertemplate": "Age Group=%{x}<br>Date=2022-10-01 00:00:00<br>Unemployment Rate=%{y}<extra></extra>",
           "legendgroup": "Age 16-19",
           "marker": {
            "color": "#636efa",
            "pattern": {
             "shape": ""
            }
           },
           "name": "Age 16-19",
           "offsetgroup": "Age 16-19",
           "orientation": "v",
           "showlegend": true,
           "textposition": "auto",
           "type": "bar",
           "x": [
            "Age 16-19"
           ],
           "xaxis": "x",
           "y": [
            0.116
           ],
           "yaxis": "y"
          },
          {
           "alignmentgroup": "True",
           "hovertemplate": "Age Group=%{x}<br>Date=2022-10-01 00:00:00<br>Unemployment Rate=%{y}<extra></extra>",
           "legendgroup": "Age 20-24",
           "marker": {
            "color": "#EF553B",
            "pattern": {
             "shape": ""
            }
           },
           "name": "Age 20-24",
           "offsetgroup": "Age 20-24",
           "orientation": "v",
           "showlegend": true,
           "textposition": "auto",
           "type": "bar",
           "x": [
            "Age 20-24"
           ],
           "xaxis": "x",
           "y": [
            0.072
           ],
           "yaxis": "y"
          },
          {
           "alignmentgroup": "True",
           "hovertemplate": "Age Group=%{x}<br>Date=2022-10-01 00:00:00<br>Unemployment Rate=%{y}<extra></extra>",
           "legendgroup": "Age 25-34",
           "marker": {
            "color": "#00cc96",
            "pattern": {
             "shape": ""
            }
           },
           "name": "Age 25-34",
           "offsetgroup": "Age 25-34",
           "orientation": "v",
           "showlegend": true,
           "textposition": "auto",
           "type": "bar",
           "x": [
            "Age 25-34"
           ],
           "xaxis": "x",
           "y": [
            0.044
           ],
           "yaxis": "y"
          },
          {
           "alignmentgroup": "True",
           "hovertemplate": "Age Group=%{x}<br>Date=2022-10-01 00:00:00<br>Unemployment Rate=%{y}<extra></extra>",
           "legendgroup": "Age 35-44",
           "marker": {
            "color": "#ab63fa",
            "pattern": {
             "shape": ""
            }
           },
           "name": "Age 35-44",
           "offsetgroup": "Age 35-44",
           "orientation": "v",
           "showlegend": true,
           "textposition": "auto",
           "type": "bar",
           "x": [
            "Age 35-44"
           ],
           "xaxis": "x",
           "y": [
            0.038
           ],
           "yaxis": "y"
          },
          {
           "alignmentgroup": "True",
           "hovertemplate": "Age Group=%{x}<br>Date=2022-10-01 00:00:00<br>Unemployment Rate=%{y}<extra></extra>",
           "legendgroup": "Age 45-54",
           "marker": {
            "color": "#FFA15A",
            "pattern": {
             "shape": ""
            }
           },
           "name": "Age 45-54",
           "offsetgroup": "Age 45-54",
           "orientation": "v",
           "showlegend": true,
           "textposition": "auto",
           "type": "bar",
           "x": [
            "Age 45-54"
           ],
           "xaxis": "x",
           "y": [
            0.031
           ],
           "yaxis": "y"
          },
          {
           "alignmentgroup": "True",
           "hovertemplate": "Age Group=%{x}<br>Date=2022-10-01 00:00:00<br>Unemployment Rate=%{y}<extra></extra>",
           "legendgroup": "Age 55-64",
           "marker": {
            "color": "#19d3f3",
            "pattern": {
             "shape": ""
            }
           },
           "name": "Age 55-64",
           "offsetgroup": "Age 55-64",
           "orientation": "v",
           "showlegend": true,
           "textposition": "auto",
           "type": "bar",
           "x": [
            "Age 55-64"
           ],
           "xaxis": "x",
           "y": [
            0.036
           ],
           "yaxis": "y"
          },
          {
           "alignmentgroup": "True",
           "hovertemplate": "Age Group=%{x}<br>Date=2022-10-01 00:00:00<br>Unemployment Rate=%{y}<extra></extra>",
           "legendgroup": "Age 65+",
           "marker": {
            "color": "#FF6692",
            "pattern": {
             "shape": ""
            }
           },
           "name": "Age 65+",
           "offsetgroup": "Age 65+",
           "orientation": "v",
           "showlegend": true,
           "textposition": "auto",
           "type": "bar",
           "x": [
            "Age 65+"
           ],
           "xaxis": "x",
           "y": [
            0.038
           ],
           "yaxis": "y"
          }
         ],
         "name": "2022-10-01 00:00:00"
        },
        {
         "data": [
          {
           "alignmentgroup": "True",
           "hovertemplate": "Age Group=%{x}<br>Date=2022-11-01 00:00:00<br>Unemployment Rate=%{y}<extra></extra>",
           "legendgroup": "Age 16-19",
           "marker": {
            "color": "#636efa",
            "pattern": {
             "shape": ""
            }
           },
           "name": "Age 16-19",
           "offsetgroup": "Age 16-19",
           "orientation": "v",
           "showlegend": true,
           "textposition": "auto",
           "type": "bar",
           "x": [
            "Age 16-19"
           ],
           "xaxis": "x",
           "y": [
            0.116
           ],
           "yaxis": "y"
          },
          {
           "alignmentgroup": "True",
           "hovertemplate": "Age Group=%{x}<br>Date=2022-11-01 00:00:00<br>Unemployment Rate=%{y}<extra></extra>",
           "legendgroup": "Age 20-24",
           "marker": {
            "color": "#EF553B",
            "pattern": {
             "shape": ""
            }
           },
           "name": "Age 20-24",
           "offsetgroup": "Age 20-24",
           "orientation": "v",
           "showlegend": true,
           "textposition": "auto",
           "type": "bar",
           "x": [
            "Age 20-24"
           ],
           "xaxis": "x",
           "y": [
            0.074
           ],
           "yaxis": "y"
          },
          {
           "alignmentgroup": "True",
           "hovertemplate": "Age Group=%{x}<br>Date=2022-11-01 00:00:00<br>Unemployment Rate=%{y}<extra></extra>",
           "legendgroup": "Age 25-34",
           "marker": {
            "color": "#00cc96",
            "pattern": {
             "shape": ""
            }
           },
           "name": "Age 25-34",
           "offsetgroup": "Age 25-34",
           "orientation": "v",
           "showlegend": true,
           "textposition": "auto",
           "type": "bar",
           "x": [
            "Age 25-34"
           ],
           "xaxis": "x",
           "y": [
            0.044
           ],
           "yaxis": "y"
          },
          {
           "alignmentgroup": "True",
           "hovertemplate": "Age Group=%{x}<br>Date=2022-11-01 00:00:00<br>Unemployment Rate=%{y}<extra></extra>",
           "legendgroup": "Age 35-44",
           "marker": {
            "color": "#ab63fa",
            "pattern": {
             "shape": ""
            }
           },
           "name": "Age 35-44",
           "offsetgroup": "Age 35-44",
           "orientation": "v",
           "showlegend": true,
           "textposition": "auto",
           "type": "bar",
           "x": [
            "Age 35-44"
           ],
           "xaxis": "x",
           "y": [
            0.037
           ],
           "yaxis": "y"
          },
          {
           "alignmentgroup": "True",
           "hovertemplate": "Age Group=%{x}<br>Date=2022-11-01 00:00:00<br>Unemployment Rate=%{y}<extra></extra>",
           "legendgroup": "Age 45-54",
           "marker": {
            "color": "#FFA15A",
            "pattern": {
             "shape": ""
            }
           },
           "name": "Age 45-54",
           "offsetgroup": "Age 45-54",
           "orientation": "v",
           "showlegend": true,
           "textposition": "auto",
           "type": "bar",
           "x": [
            "Age 45-54"
           ],
           "xaxis": "x",
           "y": [
            0.031
           ],
           "yaxis": "y"
          },
          {
           "alignmentgroup": "True",
           "hovertemplate": "Age Group=%{x}<br>Date=2022-11-01 00:00:00<br>Unemployment Rate=%{y}<extra></extra>",
           "legendgroup": "Age 55-64",
           "marker": {
            "color": "#19d3f3",
            "pattern": {
             "shape": ""
            }
           },
           "name": "Age 55-64",
           "offsetgroup": "Age 55-64",
           "orientation": "v",
           "showlegend": true,
           "textposition": "auto",
           "type": "bar",
           "x": [
            "Age 55-64"
           ],
           "xaxis": "x",
           "y": [
            0.035
           ],
           "yaxis": "y"
          },
          {
           "alignmentgroup": "True",
           "hovertemplate": "Age Group=%{x}<br>Date=2022-11-01 00:00:00<br>Unemployment Rate=%{y}<extra></extra>",
           "legendgroup": "Age 65+",
           "marker": {
            "color": "#FF6692",
            "pattern": {
             "shape": ""
            }
           },
           "name": "Age 65+",
           "offsetgroup": "Age 65+",
           "orientation": "v",
           "showlegend": true,
           "textposition": "auto",
           "type": "bar",
           "x": [
            "Age 65+"
           ],
           "xaxis": "x",
           "y": [
            0.037
           ],
           "yaxis": "y"
          }
         ],
         "name": "2022-11-01 00:00:00"
        },
        {
         "data": [
          {
           "alignmentgroup": "True",
           "hovertemplate": "Age Group=%{x}<br>Date=2022-12-01 00:00:00<br>Unemployment Rate=%{y}<extra></extra>",
           "legendgroup": "Age 16-19",
           "marker": {
            "color": "#636efa",
            "pattern": {
             "shape": ""
            }
           },
           "name": "Age 16-19",
           "offsetgroup": "Age 16-19",
           "orientation": "v",
           "showlegend": true,
           "textposition": "auto",
           "type": "bar",
           "x": [
            "Age 16-19"
           ],
           "xaxis": "x",
           "y": [
            0.115
           ],
           "yaxis": "y"
          },
          {
           "alignmentgroup": "True",
           "hovertemplate": "Age Group=%{x}<br>Date=2022-12-01 00:00:00<br>Unemployment Rate=%{y}<extra></extra>",
           "legendgroup": "Age 20-24",
           "marker": {
            "color": "#EF553B",
            "pattern": {
             "shape": ""
            }
           },
           "name": "Age 20-24",
           "offsetgroup": "Age 20-24",
           "orientation": "v",
           "showlegend": true,
           "textposition": "auto",
           "type": "bar",
           "x": [
            "Age 20-24"
           ],
           "xaxis": "x",
           "y": [
            0.074
           ],
           "yaxis": "y"
          },
          {
           "alignmentgroup": "True",
           "hovertemplate": "Age Group=%{x}<br>Date=2022-12-01 00:00:00<br>Unemployment Rate=%{y}<extra></extra>",
           "legendgroup": "Age 25-34",
           "marker": {
            "color": "#00cc96",
            "pattern": {
             "shape": ""
            }
           },
           "name": "Age 25-34",
           "offsetgroup": "Age 25-34",
           "orientation": "v",
           "showlegend": true,
           "textposition": "auto",
           "type": "bar",
           "x": [
            "Age 25-34"
           ],
           "xaxis": "x",
           "y": [
            0.044
           ],
           "yaxis": "y"
          },
          {
           "alignmentgroup": "True",
           "hovertemplate": "Age Group=%{x}<br>Date=2022-12-01 00:00:00<br>Unemployment Rate=%{y}<extra></extra>",
           "legendgroup": "Age 35-44",
           "marker": {
            "color": "#ab63fa",
            "pattern": {
             "shape": ""
            }
           },
           "name": "Age 35-44",
           "offsetgroup": "Age 35-44",
           "orientation": "v",
           "showlegend": true,
           "textposition": "auto",
           "type": "bar",
           "x": [
            "Age 35-44"
           ],
           "xaxis": "x",
           "y": [
            0.036
           ],
           "yaxis": "y"
          },
          {
           "alignmentgroup": "True",
           "hovertemplate": "Age Group=%{x}<br>Date=2022-12-01 00:00:00<br>Unemployment Rate=%{y}<extra></extra>",
           "legendgroup": "Age 45-54",
           "marker": {
            "color": "#FFA15A",
            "pattern": {
             "shape": ""
            }
           },
           "name": "Age 45-54",
           "offsetgroup": "Age 45-54",
           "orientation": "v",
           "showlegend": true,
           "textposition": "auto",
           "type": "bar",
           "x": [
            "Age 45-54"
           ],
           "xaxis": "x",
           "y": [
            0.029
           ],
           "yaxis": "y"
          },
          {
           "alignmentgroup": "True",
           "hovertemplate": "Age Group=%{x}<br>Date=2022-12-01 00:00:00<br>Unemployment Rate=%{y}<extra></extra>",
           "legendgroup": "Age 55-64",
           "marker": {
            "color": "#19d3f3",
            "pattern": {
             "shape": ""
            }
           },
           "name": "Age 55-64",
           "offsetgroup": "Age 55-64",
           "orientation": "v",
           "showlegend": true,
           "textposition": "auto",
           "type": "bar",
           "x": [
            "Age 55-64"
           ],
           "xaxis": "x",
           "y": [
            0.034
           ],
           "yaxis": "y"
          },
          {
           "alignmentgroup": "True",
           "hovertemplate": "Age Group=%{x}<br>Date=2022-12-01 00:00:00<br>Unemployment Rate=%{y}<extra></extra>",
           "legendgroup": "Age 65+",
           "marker": {
            "color": "#FF6692",
            "pattern": {
             "shape": ""
            }
           },
           "name": "Age 65+",
           "offsetgroup": "Age 65+",
           "orientation": "v",
           "showlegend": true,
           "textposition": "auto",
           "type": "bar",
           "x": [
            "Age 65+"
           ],
           "xaxis": "x",
           "y": [
            0.037
           ],
           "yaxis": "y"
          }
         ],
         "name": "2022-12-01 00:00:00"
        },
        {
         "data": [
          {
           "alignmentgroup": "True",
           "hovertemplate": "Age Group=%{x}<br>Date=2023-01-01 00:00:00<br>Unemployment Rate=%{y}<extra></extra>",
           "legendgroup": "Age 16-19",
           "marker": {
            "color": "#636efa",
            "pattern": {
             "shape": ""
            }
           },
           "name": "Age 16-19",
           "offsetgroup": "Age 16-19",
           "orientation": "v",
           "showlegend": true,
           "textposition": "auto",
           "type": "bar",
           "x": [
            "Age 16-19"
           ],
           "xaxis": "x",
           "y": [
            0.113
           ],
           "yaxis": "y"
          },
          {
           "alignmentgroup": "True",
           "hovertemplate": "Age Group=%{x}<br>Date=2023-01-01 00:00:00<br>Unemployment Rate=%{y}<extra></extra>",
           "legendgroup": "Age 20-24",
           "marker": {
            "color": "#EF553B",
            "pattern": {
             "shape": ""
            }
           },
           "name": "Age 20-24",
           "offsetgroup": "Age 20-24",
           "orientation": "v",
           "showlegend": true,
           "textposition": "auto",
           "type": "bar",
           "x": [
            "Age 20-24"
           ],
           "xaxis": "x",
           "y": [
            0.075
           ],
           "yaxis": "y"
          },
          {
           "alignmentgroup": "True",
           "hovertemplate": "Age Group=%{x}<br>Date=2023-01-01 00:00:00<br>Unemployment Rate=%{y}<extra></extra>",
           "legendgroup": "Age 25-34",
           "marker": {
            "color": "#00cc96",
            "pattern": {
             "shape": ""
            }
           },
           "name": "Age 25-34",
           "offsetgroup": "Age 25-34",
           "orientation": "v",
           "showlegend": true,
           "textposition": "auto",
           "type": "bar",
           "x": [
            "Age 25-34"
           ],
           "xaxis": "x",
           "y": [
            0.044
           ],
           "yaxis": "y"
          },
          {
           "alignmentgroup": "True",
           "hovertemplate": "Age Group=%{x}<br>Date=2023-01-01 00:00:00<br>Unemployment Rate=%{y}<extra></extra>",
           "legendgroup": "Age 35-44",
           "marker": {
            "color": "#ab63fa",
            "pattern": {
             "shape": ""
            }
           },
           "name": "Age 35-44",
           "offsetgroup": "Age 35-44",
           "orientation": "v",
           "showlegend": true,
           "textposition": "auto",
           "type": "bar",
           "x": [
            "Age 35-44"
           ],
           "xaxis": "x",
           "y": [
            0.035
           ],
           "yaxis": "y"
          },
          {
           "alignmentgroup": "True",
           "hovertemplate": "Age Group=%{x}<br>Date=2023-01-01 00:00:00<br>Unemployment Rate=%{y}<extra></extra>",
           "legendgroup": "Age 45-54",
           "marker": {
            "color": "#FFA15A",
            "pattern": {
             "shape": ""
            }
           },
           "name": "Age 45-54",
           "offsetgroup": "Age 45-54",
           "orientation": "v",
           "showlegend": true,
           "textposition": "auto",
           "type": "bar",
           "x": [
            "Age 45-54"
           ],
           "xaxis": "x",
           "y": [
            0.028
           ],
           "yaxis": "y"
          },
          {
           "alignmentgroup": "True",
           "hovertemplate": "Age Group=%{x}<br>Date=2023-01-01 00:00:00<br>Unemployment Rate=%{y}<extra></extra>",
           "legendgroup": "Age 55-64",
           "marker": {
            "color": "#19d3f3",
            "pattern": {
             "shape": ""
            }
           },
           "name": "Age 55-64",
           "offsetgroup": "Age 55-64",
           "orientation": "v",
           "showlegend": true,
           "textposition": "auto",
           "type": "bar",
           "x": [
            "Age 55-64"
           ],
           "xaxis": "x",
           "y": [
            0.032
           ],
           "yaxis": "y"
          },
          {
           "alignmentgroup": "True",
           "hovertemplate": "Age Group=%{x}<br>Date=2023-01-01 00:00:00<br>Unemployment Rate=%{y}<extra></extra>",
           "legendgroup": "Age 65+",
           "marker": {
            "color": "#FF6692",
            "pattern": {
             "shape": ""
            }
           },
           "name": "Age 65+",
           "offsetgroup": "Age 65+",
           "orientation": "v",
           "showlegend": true,
           "textposition": "auto",
           "type": "bar",
           "x": [
            "Age 65+"
           ],
           "xaxis": "x",
           "y": [
            0.036
           ],
           "yaxis": "y"
          }
         ],
         "name": "2023-01-01 00:00:00"
        },
        {
         "data": [
          {
           "alignmentgroup": "True",
           "hovertemplate": "Age Group=%{x}<br>Date=2023-02-01 00:00:00<br>Unemployment Rate=%{y}<extra></extra>",
           "legendgroup": "Age 16-19",
           "marker": {
            "color": "#636efa",
            "pattern": {
             "shape": ""
            }
           },
           "name": "Age 16-19",
           "offsetgroup": "Age 16-19",
           "orientation": "v",
           "showlegend": true,
           "textposition": "auto",
           "type": "bar",
           "x": [
            "Age 16-19"
           ],
           "xaxis": "x",
           "y": [
            0.115
           ],
           "yaxis": "y"
          },
          {
           "alignmentgroup": "True",
           "hovertemplate": "Age Group=%{x}<br>Date=2023-02-01 00:00:00<br>Unemployment Rate=%{y}<extra></extra>",
           "legendgroup": "Age 20-24",
           "marker": {
            "color": "#EF553B",
            "pattern": {
             "shape": ""
            }
           },
           "name": "Age 20-24",
           "offsetgroup": "Age 20-24",
           "orientation": "v",
           "showlegend": true,
           "textposition": "auto",
           "type": "bar",
           "x": [
            "Age 20-24"
           ],
           "xaxis": "x",
           "y": [
            0.075
           ],
           "yaxis": "y"
          },
          {
           "alignmentgroup": "True",
           "hovertemplate": "Age Group=%{x}<br>Date=2023-02-01 00:00:00<br>Unemployment Rate=%{y}<extra></extra>",
           "legendgroup": "Age 25-34",
           "marker": {
            "color": "#00cc96",
            "pattern": {
             "shape": ""
            }
           },
           "name": "Age 25-34",
           "offsetgroup": "Age 25-34",
           "orientation": "v",
           "showlegend": true,
           "textposition": "auto",
           "type": "bar",
           "x": [
            "Age 25-34"
           ],
           "xaxis": "x",
           "y": [
            0.045
           ],
           "yaxis": "y"
          },
          {
           "alignmentgroup": "True",
           "hovertemplate": "Age Group=%{x}<br>Date=2023-02-01 00:00:00<br>Unemployment Rate=%{y}<extra></extra>",
           "legendgroup": "Age 35-44",
           "marker": {
            "color": "#ab63fa",
            "pattern": {
             "shape": ""
            }
           },
           "name": "Age 35-44",
           "offsetgroup": "Age 35-44",
           "orientation": "v",
           "showlegend": true,
           "textposition": "auto",
           "type": "bar",
           "x": [
            "Age 35-44"
           ],
           "xaxis": "x",
           "y": [
            0.036
           ],
           "yaxis": "y"
          },
          {
           "alignmentgroup": "True",
           "hovertemplate": "Age Group=%{x}<br>Date=2023-02-01 00:00:00<br>Unemployment Rate=%{y}<extra></extra>",
           "legendgroup": "Age 45-54",
           "marker": {
            "color": "#FFA15A",
            "pattern": {
             "shape": ""
            }
           },
           "name": "Age 45-54",
           "offsetgroup": "Age 45-54",
           "orientation": "v",
           "showlegend": true,
           "textposition": "auto",
           "type": "bar",
           "x": [
            "Age 45-54"
           ],
           "xaxis": "x",
           "y": [
            0.028
           ],
           "yaxis": "y"
          },
          {
           "alignmentgroup": "True",
           "hovertemplate": "Age Group=%{x}<br>Date=2023-02-01 00:00:00<br>Unemployment Rate=%{y}<extra></extra>",
           "legendgroup": "Age 55-64",
           "marker": {
            "color": "#19d3f3",
            "pattern": {
             "shape": ""
            }
           },
           "name": "Age 55-64",
           "offsetgroup": "Age 55-64",
           "orientation": "v",
           "showlegend": true,
           "textposition": "auto",
           "type": "bar",
           "x": [
            "Age 55-64"
           ],
           "xaxis": "x",
           "y": [
            0.031
           ],
           "yaxis": "y"
          },
          {
           "alignmentgroup": "True",
           "hovertemplate": "Age Group=%{x}<br>Date=2023-02-01 00:00:00<br>Unemployment Rate=%{y}<extra></extra>",
           "legendgroup": "Age 65+",
           "marker": {
            "color": "#FF6692",
            "pattern": {
             "shape": ""
            }
           },
           "name": "Age 65+",
           "offsetgroup": "Age 65+",
           "orientation": "v",
           "showlegend": true,
           "textposition": "auto",
           "type": "bar",
           "x": [
            "Age 65+"
           ],
           "xaxis": "x",
           "y": [
            0.035
           ],
           "yaxis": "y"
          }
         ],
         "name": "2023-02-01 00:00:00"
        },
        {
         "data": [
          {
           "alignmentgroup": "True",
           "hovertemplate": "Age Group=%{x}<br>Date=2023-03-01 00:00:00<br>Unemployment Rate=%{y}<extra></extra>",
           "legendgroup": "Age 16-19",
           "marker": {
            "color": "#636efa",
            "pattern": {
             "shape": ""
            }
           },
           "name": "Age 16-19",
           "offsetgroup": "Age 16-19",
           "orientation": "v",
           "showlegend": true,
           "textposition": "auto",
           "type": "bar",
           "x": [
            "Age 16-19"
           ],
           "xaxis": "x",
           "y": [
            0.123
           ],
           "yaxis": "y"
          },
          {
           "alignmentgroup": "True",
           "hovertemplate": "Age Group=%{x}<br>Date=2023-03-01 00:00:00<br>Unemployment Rate=%{y}<extra></extra>",
           "legendgroup": "Age 20-24",
           "marker": {
            "color": "#EF553B",
            "pattern": {
             "shape": ""
            }
           },
           "name": "Age 20-24",
           "offsetgroup": "Age 20-24",
           "orientation": "v",
           "showlegend": true,
           "textposition": "auto",
           "type": "bar",
           "x": [
            "Age 20-24"
           ],
           "xaxis": "x",
           "y": [
            0.074
           ],
           "yaxis": "y"
          },
          {
           "alignmentgroup": "True",
           "hovertemplate": "Age Group=%{x}<br>Date=2023-03-01 00:00:00<br>Unemployment Rate=%{y}<extra></extra>",
           "legendgroup": "Age 25-34",
           "marker": {
            "color": "#00cc96",
            "pattern": {
             "shape": ""
            }
           },
           "name": "Age 25-34",
           "offsetgroup": "Age 25-34",
           "orientation": "v",
           "showlegend": true,
           "textposition": "auto",
           "type": "bar",
           "x": [
            "Age 25-34"
           ],
           "xaxis": "x",
           "y": [
            0.046
           ],
           "yaxis": "y"
          },
          {
           "alignmentgroup": "True",
           "hovertemplate": "Age Group=%{x}<br>Date=2023-03-01 00:00:00<br>Unemployment Rate=%{y}<extra></extra>",
           "legendgroup": "Age 35-44",
           "marker": {
            "color": "#ab63fa",
            "pattern": {
             "shape": ""
            }
           },
           "name": "Age 35-44",
           "offsetgroup": "Age 35-44",
           "orientation": "v",
           "showlegend": true,
           "textposition": "auto",
           "type": "bar",
           "x": [
            "Age 35-44"
           ],
           "xaxis": "x",
           "y": [
            0.035
           ],
           "yaxis": "y"
          },
          {
           "alignmentgroup": "True",
           "hovertemplate": "Age Group=%{x}<br>Date=2023-03-01 00:00:00<br>Unemployment Rate=%{y}<extra></extra>",
           "legendgroup": "Age 45-54",
           "marker": {
            "color": "#FFA15A",
            "pattern": {
             "shape": ""
            }
           },
           "name": "Age 45-54",
           "offsetgroup": "Age 45-54",
           "orientation": "v",
           "showlegend": true,
           "textposition": "auto",
           "type": "bar",
           "x": [
            "Age 45-54"
           ],
           "xaxis": "x",
           "y": [
            0.028
           ],
           "yaxis": "y"
          },
          {
           "alignmentgroup": "True",
           "hovertemplate": "Age Group=%{x}<br>Date=2023-03-01 00:00:00<br>Unemployment Rate=%{y}<extra></extra>",
           "legendgroup": "Age 55-64",
           "marker": {
            "color": "#19d3f3",
            "pattern": {
             "shape": ""
            }
           },
           "name": "Age 55-64",
           "offsetgroup": "Age 55-64",
           "orientation": "v",
           "showlegend": true,
           "textposition": "auto",
           "type": "bar",
           "x": [
            "Age 55-64"
           ],
           "xaxis": "x",
           "y": [
            0.032
           ],
           "yaxis": "y"
          },
          {
           "alignmentgroup": "True",
           "hovertemplate": "Age Group=%{x}<br>Date=2023-03-01 00:00:00<br>Unemployment Rate=%{y}<extra></extra>",
           "legendgroup": "Age 65+",
           "marker": {
            "color": "#FF6692",
            "pattern": {
             "shape": ""
            }
           },
           "name": "Age 65+",
           "offsetgroup": "Age 65+",
           "orientation": "v",
           "showlegend": true,
           "textposition": "auto",
           "type": "bar",
           "x": [
            "Age 65+"
           ],
           "xaxis": "x",
           "y": [
            0.036
           ],
           "yaxis": "y"
          }
         ],
         "name": "2023-03-01 00:00:00"
        },
        {
         "data": [
          {
           "alignmentgroup": "True",
           "hovertemplate": "Age Group=%{x}<br>Date=2023-04-01 00:00:00<br>Unemployment Rate=%{y}<extra></extra>",
           "legendgroup": "Age 16-19",
           "marker": {
            "color": "#636efa",
            "pattern": {
             "shape": ""
            }
           },
           "name": "Age 16-19",
           "offsetgroup": "Age 16-19",
           "orientation": "v",
           "showlegend": true,
           "textposition": "auto",
           "type": "bar",
           "x": [
            "Age 16-19"
           ],
           "xaxis": "x",
           "y": [
            0.127
           ],
           "yaxis": "y"
          },
          {
           "alignmentgroup": "True",
           "hovertemplate": "Age Group=%{x}<br>Date=2023-04-01 00:00:00<br>Unemployment Rate=%{y}<extra></extra>",
           "legendgroup": "Age 20-24",
           "marker": {
            "color": "#EF553B",
            "pattern": {
             "shape": ""
            }
           },
           "name": "Age 20-24",
           "offsetgroup": "Age 20-24",
           "orientation": "v",
           "showlegend": true,
           "textposition": "auto",
           "type": "bar",
           "x": [
            "Age 20-24"
           ],
           "xaxis": "x",
           "y": [
            0.073
           ],
           "yaxis": "y"
          },
          {
           "alignmentgroup": "True",
           "hovertemplate": "Age Group=%{x}<br>Date=2023-04-01 00:00:00<br>Unemployment Rate=%{y}<extra></extra>",
           "legendgroup": "Age 25-34",
           "marker": {
            "color": "#00cc96",
            "pattern": {
             "shape": ""
            }
           },
           "name": "Age 25-34",
           "offsetgroup": "Age 25-34",
           "orientation": "v",
           "showlegend": true,
           "textposition": "auto",
           "type": "bar",
           "x": [
            "Age 25-34"
           ],
           "xaxis": "x",
           "y": [
            0.046
           ],
           "yaxis": "y"
          },
          {
           "alignmentgroup": "True",
           "hovertemplate": "Age Group=%{x}<br>Date=2023-04-01 00:00:00<br>Unemployment Rate=%{y}<extra></extra>",
           "legendgroup": "Age 35-44",
           "marker": {
            "color": "#ab63fa",
            "pattern": {
             "shape": ""
            }
           },
           "name": "Age 35-44",
           "offsetgroup": "Age 35-44",
           "orientation": "v",
           "showlegend": true,
           "textposition": "auto",
           "type": "bar",
           "x": [
            "Age 35-44"
           ],
           "xaxis": "x",
           "y": [
            0.036
           ],
           "yaxis": "y"
          },
          {
           "alignmentgroup": "True",
           "hovertemplate": "Age Group=%{x}<br>Date=2023-04-01 00:00:00<br>Unemployment Rate=%{y}<extra></extra>",
           "legendgroup": "Age 45-54",
           "marker": {
            "color": "#FFA15A",
            "pattern": {
             "shape": ""
            }
           },
           "name": "Age 45-54",
           "offsetgroup": "Age 45-54",
           "orientation": "v",
           "showlegend": true,
           "textposition": "auto",
           "type": "bar",
           "x": [
            "Age 45-54"
           ],
           "xaxis": "x",
           "y": [
            0.029
           ],
           "yaxis": "y"
          },
          {
           "alignmentgroup": "True",
           "hovertemplate": "Age Group=%{x}<br>Date=2023-04-01 00:00:00<br>Unemployment Rate=%{y}<extra></extra>",
           "legendgroup": "Age 55-64",
           "marker": {
            "color": "#19d3f3",
            "pattern": {
             "shape": ""
            }
           },
           "name": "Age 55-64",
           "offsetgroup": "Age 55-64",
           "orientation": "v",
           "showlegend": true,
           "textposition": "auto",
           "type": "bar",
           "x": [
            "Age 55-64"
           ],
           "xaxis": "x",
           "y": [
            0.032
           ],
           "yaxis": "y"
          },
          {
           "alignmentgroup": "True",
           "hovertemplate": "Age Group=%{x}<br>Date=2023-04-01 00:00:00<br>Unemployment Rate=%{y}<extra></extra>",
           "legendgroup": "Age 65+",
           "marker": {
            "color": "#FF6692",
            "pattern": {
             "shape": ""
            }
           },
           "name": "Age 65+",
           "offsetgroup": "Age 65+",
           "orientation": "v",
           "showlegend": true,
           "textposition": "auto",
           "type": "bar",
           "x": [
            "Age 65+"
           ],
           "xaxis": "x",
           "y": [
            0.037
           ],
           "yaxis": "y"
          }
         ],
         "name": "2023-04-01 00:00:00"
        },
        {
         "data": [
          {
           "alignmentgroup": "True",
           "hovertemplate": "Age Group=%{x}<br>Date=2023-05-01 00:00:00<br>Unemployment Rate=%{y}<extra></extra>",
           "legendgroup": "Age 16-19",
           "marker": {
            "color": "#636efa",
            "pattern": {
             "shape": ""
            }
           },
           "name": "Age 16-19",
           "offsetgroup": "Age 16-19",
           "orientation": "v",
           "showlegend": true,
           "textposition": "auto",
           "type": "bar",
           "x": [
            "Age 16-19"
           ],
           "xaxis": "x",
           "y": [
            0.131
           ],
           "yaxis": "y"
          },
          {
           "alignmentgroup": "True",
           "hovertemplate": "Age Group=%{x}<br>Date=2023-05-01 00:00:00<br>Unemployment Rate=%{y}<extra></extra>",
           "legendgroup": "Age 20-24",
           "marker": {
            "color": "#EF553B",
            "pattern": {
             "shape": ""
            }
           },
           "name": "Age 20-24",
           "offsetgroup": "Age 20-24",
           "orientation": "v",
           "showlegend": true,
           "textposition": "auto",
           "type": "bar",
           "x": [
            "Age 20-24"
           ],
           "xaxis": "x",
           "y": [
            0.076
           ],
           "yaxis": "y"
          },
          {
           "alignmentgroup": "True",
           "hovertemplate": "Age Group=%{x}<br>Date=2023-05-01 00:00:00<br>Unemployment Rate=%{y}<extra></extra>",
           "legendgroup": "Age 25-34",
           "marker": {
            "color": "#00cc96",
            "pattern": {
             "shape": ""
            }
           },
           "name": "Age 25-34",
           "offsetgroup": "Age 25-34",
           "orientation": "v",
           "showlegend": true,
           "textposition": "auto",
           "type": "bar",
           "x": [
            "Age 25-34"
           ],
           "xaxis": "x",
           "y": [
            0.046
           ],
           "yaxis": "y"
          },
          {
           "alignmentgroup": "True",
           "hovertemplate": "Age Group=%{x}<br>Date=2023-05-01 00:00:00<br>Unemployment Rate=%{y}<extra></extra>",
           "legendgroup": "Age 35-44",
           "marker": {
            "color": "#ab63fa",
            "pattern": {
             "shape": ""
            }
           },
           "name": "Age 35-44",
           "offsetgroup": "Age 35-44",
           "orientation": "v",
           "showlegend": true,
           "textposition": "auto",
           "type": "bar",
           "x": [
            "Age 35-44"
           ],
           "xaxis": "x",
           "y": [
            0.037
           ],
           "yaxis": "y"
          },
          {
           "alignmentgroup": "True",
           "hovertemplate": "Age Group=%{x}<br>Date=2023-05-01 00:00:00<br>Unemployment Rate=%{y}<extra></extra>",
           "legendgroup": "Age 45-54",
           "marker": {
            "color": "#FFA15A",
            "pattern": {
             "shape": ""
            }
           },
           "name": "Age 45-54",
           "offsetgroup": "Age 45-54",
           "orientation": "v",
           "showlegend": true,
           "textposition": "auto",
           "type": "bar",
           "x": [
            "Age 45-54"
           ],
           "xaxis": "x",
           "y": [
            0.029
           ],
           "yaxis": "y"
          },
          {
           "alignmentgroup": "True",
           "hovertemplate": "Age Group=%{x}<br>Date=2023-05-01 00:00:00<br>Unemployment Rate=%{y}<extra></extra>",
           "legendgroup": "Age 55-64",
           "marker": {
            "color": "#19d3f3",
            "pattern": {
             "shape": ""
            }
           },
           "name": "Age 55-64",
           "offsetgroup": "Age 55-64",
           "orientation": "v",
           "showlegend": true,
           "textposition": "auto",
           "type": "bar",
           "x": [
            "Age 55-64"
           ],
           "xaxis": "x",
           "y": [
            0.033
           ],
           "yaxis": "y"
          },
          {
           "alignmentgroup": "True",
           "hovertemplate": "Age Group=%{x}<br>Date=2023-05-01 00:00:00<br>Unemployment Rate=%{y}<extra></extra>",
           "legendgroup": "Age 65+",
           "marker": {
            "color": "#FF6692",
            "pattern": {
             "shape": ""
            }
           },
           "name": "Age 65+",
           "offsetgroup": "Age 65+",
           "orientation": "v",
           "showlegend": true,
           "textposition": "auto",
           "type": "bar",
           "x": [
            "Age 65+"
           ],
           "xaxis": "x",
           "y": [
            0.036
           ],
           "yaxis": "y"
          }
         ],
         "name": "2023-05-01 00:00:00"
        },
        {
         "data": [
          {
           "alignmentgroup": "True",
           "hovertemplate": "Age Group=%{x}<br>Date=2023-06-01 00:00:00<br>Unemployment Rate=%{y}<extra></extra>",
           "legendgroup": "Age 16-19",
           "marker": {
            "color": "#636efa",
            "pattern": {
             "shape": ""
            }
           },
           "name": "Age 16-19",
           "offsetgroup": "Age 16-19",
           "orientation": "v",
           "showlegend": true,
           "textposition": "auto",
           "type": "bar",
           "x": [
            "Age 16-19"
           ],
           "xaxis": "x",
           "y": [
            0.135
           ],
           "yaxis": "y"
          },
          {
           "alignmentgroup": "True",
           "hovertemplate": "Age Group=%{x}<br>Date=2023-06-01 00:00:00<br>Unemployment Rate=%{y}<extra></extra>",
           "legendgroup": "Age 20-24",
           "marker": {
            "color": "#EF553B",
            "pattern": {
             "shape": ""
            }
           },
           "name": "Age 20-24",
           "offsetgroup": "Age 20-24",
           "orientation": "v",
           "showlegend": true,
           "textposition": "auto",
           "type": "bar",
           "x": [
            "Age 20-24"
           ],
           "xaxis": "x",
           "y": [
            0.075
           ],
           "yaxis": "y"
          },
          {
           "alignmentgroup": "True",
           "hovertemplate": "Age Group=%{x}<br>Date=2023-06-01 00:00:00<br>Unemployment Rate=%{y}<extra></extra>",
           "legendgroup": "Age 25-34",
           "marker": {
            "color": "#00cc96",
            "pattern": {
             "shape": ""
            }
           },
           "name": "Age 25-34",
           "offsetgroup": "Age 25-34",
           "orientation": "v",
           "showlegend": true,
           "textposition": "auto",
           "type": "bar",
           "x": [
            "Age 25-34"
           ],
           "xaxis": "x",
           "y": [
            0.047
           ],
           "yaxis": "y"
          },
          {
           "alignmentgroup": "True",
           "hovertemplate": "Age Group=%{x}<br>Date=2023-06-01 00:00:00<br>Unemployment Rate=%{y}<extra></extra>",
           "legendgroup": "Age 35-44",
           "marker": {
            "color": "#ab63fa",
            "pattern": {
             "shape": ""
            }
           },
           "name": "Age 35-44",
           "offsetgroup": "Age 35-44",
           "orientation": "v",
           "showlegend": true,
           "textposition": "auto",
           "type": "bar",
           "x": [
            "Age 35-44"
           ],
           "xaxis": "x",
           "y": [
            0.037
           ],
           "yaxis": "y"
          },
          {
           "alignmentgroup": "True",
           "hovertemplate": "Age Group=%{x}<br>Date=2023-06-01 00:00:00<br>Unemployment Rate=%{y}<extra></extra>",
           "legendgroup": "Age 45-54",
           "marker": {
            "color": "#FFA15A",
            "pattern": {
             "shape": ""
            }
           },
           "name": "Age 45-54",
           "offsetgroup": "Age 45-54",
           "orientation": "v",
           "showlegend": true,
           "textposition": "auto",
           "type": "bar",
           "x": [
            "Age 45-54"
           ],
           "xaxis": "x",
           "y": [
            0.03
           ],
           "yaxis": "y"
          },
          {
           "alignmentgroup": "True",
           "hovertemplate": "Age Group=%{x}<br>Date=2023-06-01 00:00:00<br>Unemployment Rate=%{y}<extra></extra>",
           "legendgroup": "Age 55-64",
           "marker": {
            "color": "#19d3f3",
            "pattern": {
             "shape": ""
            }
           },
           "name": "Age 55-64",
           "offsetgroup": "Age 55-64",
           "orientation": "v",
           "showlegend": true,
           "textposition": "auto",
           "type": "bar",
           "x": [
            "Age 55-64"
           ],
           "xaxis": "x",
           "y": [
            0.032
           ],
           "yaxis": "y"
          },
          {
           "alignmentgroup": "True",
           "hovertemplate": "Age Group=%{x}<br>Date=2023-06-01 00:00:00<br>Unemployment Rate=%{y}<extra></extra>",
           "legendgroup": "Age 65+",
           "marker": {
            "color": "#FF6692",
            "pattern": {
             "shape": ""
            }
           },
           "name": "Age 65+",
           "offsetgroup": "Age 65+",
           "orientation": "v",
           "showlegend": true,
           "textposition": "auto",
           "type": "bar",
           "x": [
            "Age 65+"
           ],
           "xaxis": "x",
           "y": [
            0.035
           ],
           "yaxis": "y"
          }
         ],
         "name": "2023-06-01 00:00:00"
        },
        {
         "data": [
          {
           "alignmentgroup": "True",
           "hovertemplate": "Age Group=%{x}<br>Date=2023-07-01 00:00:00<br>Unemployment Rate=%{y}<extra></extra>",
           "legendgroup": "Age 16-19",
           "marker": {
            "color": "#636efa",
            "pattern": {
             "shape": ""
            }
           },
           "name": "Age 16-19",
           "offsetgroup": "Age 16-19",
           "orientation": "v",
           "showlegend": true,
           "textposition": "auto",
           "type": "bar",
           "x": [
            "Age 16-19"
           ],
           "xaxis": "x",
           "y": [
            0.136
           ],
           "yaxis": "y"
          },
          {
           "alignmentgroup": "True",
           "hovertemplate": "Age Group=%{x}<br>Date=2023-07-01 00:00:00<br>Unemployment Rate=%{y}<extra></extra>",
           "legendgroup": "Age 20-24",
           "marker": {
            "color": "#EF553B",
            "pattern": {
             "shape": ""
            }
           },
           "name": "Age 20-24",
           "offsetgroup": "Age 20-24",
           "orientation": "v",
           "showlegend": true,
           "textposition": "auto",
           "type": "bar",
           "x": [
            "Age 20-24"
           ],
           "xaxis": "x",
           "y": [
            0.075
           ],
           "yaxis": "y"
          },
          {
           "alignmentgroup": "True",
           "hovertemplate": "Age Group=%{x}<br>Date=2023-07-01 00:00:00<br>Unemployment Rate=%{y}<extra></extra>",
           "legendgroup": "Age 25-34",
           "marker": {
            "color": "#00cc96",
            "pattern": {
             "shape": ""
            }
           },
           "name": "Age 25-34",
           "offsetgroup": "Age 25-34",
           "orientation": "v",
           "showlegend": true,
           "textposition": "auto",
           "type": "bar",
           "x": [
            "Age 25-34"
           ],
           "xaxis": "x",
           "y": [
            0.048
           ],
           "yaxis": "y"
          },
          {
           "alignmentgroup": "True",
           "hovertemplate": "Age Group=%{x}<br>Date=2023-07-01 00:00:00<br>Unemployment Rate=%{y}<extra></extra>",
           "legendgroup": "Age 35-44",
           "marker": {
            "color": "#ab63fa",
            "pattern": {
             "shape": ""
            }
           },
           "name": "Age 35-44",
           "offsetgroup": "Age 35-44",
           "orientation": "v",
           "showlegend": true,
           "textposition": "auto",
           "type": "bar",
           "x": [
            "Age 35-44"
           ],
           "xaxis": "x",
           "y": [
            0.038
           ],
           "yaxis": "y"
          },
          {
           "alignmentgroup": "True",
           "hovertemplate": "Age Group=%{x}<br>Date=2023-07-01 00:00:00<br>Unemployment Rate=%{y}<extra></extra>",
           "legendgroup": "Age 45-54",
           "marker": {
            "color": "#FFA15A",
            "pattern": {
             "shape": ""
            }
           },
           "name": "Age 45-54",
           "offsetgroup": "Age 45-54",
           "orientation": "v",
           "showlegend": true,
           "textposition": "auto",
           "type": "bar",
           "x": [
            "Age 45-54"
           ],
           "xaxis": "x",
           "y": [
            0.03
           ],
           "yaxis": "y"
          },
          {
           "alignmentgroup": "True",
           "hovertemplate": "Age Group=%{x}<br>Date=2023-07-01 00:00:00<br>Unemployment Rate=%{y}<extra></extra>",
           "legendgroup": "Age 55-64",
           "marker": {
            "color": "#19d3f3",
            "pattern": {
             "shape": ""
            }
           },
           "name": "Age 55-64",
           "offsetgroup": "Age 55-64",
           "orientation": "v",
           "showlegend": true,
           "textposition": "auto",
           "type": "bar",
           "x": [
            "Age 55-64"
           ],
           "xaxis": "x",
           "y": [
            0.031
           ],
           "yaxis": "y"
          },
          {
           "alignmentgroup": "True",
           "hovertemplate": "Age Group=%{x}<br>Date=2023-07-01 00:00:00<br>Unemployment Rate=%{y}<extra></extra>",
           "legendgroup": "Age 65+",
           "marker": {
            "color": "#FF6692",
            "pattern": {
             "shape": ""
            }
           },
           "name": "Age 65+",
           "offsetgroup": "Age 65+",
           "orientation": "v",
           "showlegend": true,
           "textposition": "auto",
           "type": "bar",
           "x": [
            "Age 65+"
           ],
           "xaxis": "x",
           "y": [
            0.036
           ],
           "yaxis": "y"
          }
         ],
         "name": "2023-07-01 00:00:00"
        },
        {
         "data": [
          {
           "alignmentgroup": "True",
           "hovertemplate": "Age Group=%{x}<br>Date=2023-08-01 00:00:00<br>Unemployment Rate=%{y}<extra></extra>",
           "legendgroup": "Age 16-19",
           "marker": {
            "color": "#636efa",
            "pattern": {
             "shape": ""
            }
           },
           "name": "Age 16-19",
           "offsetgroup": "Age 16-19",
           "orientation": "v",
           "showlegend": true,
           "textposition": "auto",
           "type": "bar",
           "x": [
            "Age 16-19"
           ],
           "xaxis": "x",
           "y": [
            0.138
           ],
           "yaxis": "y"
          },
          {
           "alignmentgroup": "True",
           "hovertemplate": "Age Group=%{x}<br>Date=2023-08-01 00:00:00<br>Unemployment Rate=%{y}<extra></extra>",
           "legendgroup": "Age 20-24",
           "marker": {
            "color": "#EF553B",
            "pattern": {
             "shape": ""
            }
           },
           "name": "Age 20-24",
           "offsetgroup": "Age 20-24",
           "orientation": "v",
           "showlegend": true,
           "textposition": "auto",
           "type": "bar",
           "x": [
            "Age 20-24"
           ],
           "xaxis": "x",
           "y": [
            0.078
           ],
           "yaxis": "y"
          },
          {
           "alignmentgroup": "True",
           "hovertemplate": "Age Group=%{x}<br>Date=2023-08-01 00:00:00<br>Unemployment Rate=%{y}<extra></extra>",
           "legendgroup": "Age 25-34",
           "marker": {
            "color": "#00cc96",
            "pattern": {
             "shape": ""
            }
           },
           "name": "Age 25-34",
           "offsetgroup": "Age 25-34",
           "orientation": "v",
           "showlegend": true,
           "textposition": "auto",
           "type": "bar",
           "x": [
            "Age 25-34"
           ],
           "xaxis": "x",
           "y": [
            0.049
           ],
           "yaxis": "y"
          },
          {
           "alignmentgroup": "True",
           "hovertemplate": "Age Group=%{x}<br>Date=2023-08-01 00:00:00<br>Unemployment Rate=%{y}<extra></extra>",
           "legendgroup": "Age 35-44",
           "marker": {
            "color": "#ab63fa",
            "pattern": {
             "shape": ""
            }
           },
           "name": "Age 35-44",
           "offsetgroup": "Age 35-44",
           "orientation": "v",
           "showlegend": true,
           "textposition": "auto",
           "type": "bar",
           "x": [
            "Age 35-44"
           ],
           "xaxis": "x",
           "y": [
            0.039
           ],
           "yaxis": "y"
          },
          {
           "alignmentgroup": "True",
           "hovertemplate": "Age Group=%{x}<br>Date=2023-08-01 00:00:00<br>Unemployment Rate=%{y}<extra></extra>",
           "legendgroup": "Age 45-54",
           "marker": {
            "color": "#FFA15A",
            "pattern": {
             "shape": ""
            }
           },
           "name": "Age 45-54",
           "offsetgroup": "Age 45-54",
           "orientation": "v",
           "showlegend": true,
           "textposition": "auto",
           "type": "bar",
           "x": [
            "Age 45-54"
           ],
           "xaxis": "x",
           "y": [
            0.029
           ],
           "yaxis": "y"
          },
          {
           "alignmentgroup": "True",
           "hovertemplate": "Age Group=%{x}<br>Date=2023-08-01 00:00:00<br>Unemployment Rate=%{y}<extra></extra>",
           "legendgroup": "Age 55-64",
           "marker": {
            "color": "#19d3f3",
            "pattern": {
             "shape": ""
            }
           },
           "name": "Age 55-64",
           "offsetgroup": "Age 55-64",
           "orientation": "v",
           "showlegend": true,
           "textposition": "auto",
           "type": "bar",
           "x": [
            "Age 55-64"
           ],
           "xaxis": "x",
           "y": [
            0.03
           ],
           "yaxis": "y"
          },
          {
           "alignmentgroup": "True",
           "hovertemplate": "Age Group=%{x}<br>Date=2023-08-01 00:00:00<br>Unemployment Rate=%{y}<extra></extra>",
           "legendgroup": "Age 65+",
           "marker": {
            "color": "#FF6692",
            "pattern": {
             "shape": ""
            }
           },
           "name": "Age 65+",
           "offsetgroup": "Age 65+",
           "orientation": "v",
           "showlegend": true,
           "textposition": "auto",
           "type": "bar",
           "x": [
            "Age 65+"
           ],
           "xaxis": "x",
           "y": [
            0.037
           ],
           "yaxis": "y"
          }
         ],
         "name": "2023-08-01 00:00:00"
        },
        {
         "data": [
          {
           "alignmentgroup": "True",
           "hovertemplate": "Age Group=%{x}<br>Date=2023-09-01 00:00:00<br>Unemployment Rate=%{y}<extra></extra>",
           "legendgroup": "Age 16-19",
           "marker": {
            "color": "#636efa",
            "pattern": {
             "shape": ""
            }
           },
           "name": "Age 16-19",
           "offsetgroup": "Age 16-19",
           "orientation": "v",
           "showlegend": true,
           "textposition": "auto",
           "type": "bar",
           "x": [
            "Age 16-19"
           ],
           "xaxis": "x",
           "y": [
            0.139
           ],
           "yaxis": "y"
          },
          {
           "alignmentgroup": "True",
           "hovertemplate": "Age Group=%{x}<br>Date=2023-09-01 00:00:00<br>Unemployment Rate=%{y}<extra></extra>",
           "legendgroup": "Age 20-24",
           "marker": {
            "color": "#EF553B",
            "pattern": {
             "shape": ""
            }
           },
           "name": "Age 20-24",
           "offsetgroup": "Age 20-24",
           "orientation": "v",
           "showlegend": true,
           "textposition": "auto",
           "type": "bar",
           "x": [
            "Age 20-24"
           ],
           "xaxis": "x",
           "y": [
            0.081
           ],
           "yaxis": "y"
          },
          {
           "alignmentgroup": "True",
           "hovertemplate": "Age Group=%{x}<br>Date=2023-09-01 00:00:00<br>Unemployment Rate=%{y}<extra></extra>",
           "legendgroup": "Age 25-34",
           "marker": {
            "color": "#00cc96",
            "pattern": {
             "shape": ""
            }
           },
           "name": "Age 25-34",
           "offsetgroup": "Age 25-34",
           "orientation": "v",
           "showlegend": true,
           "textposition": "auto",
           "type": "bar",
           "x": [
            "Age 25-34"
           ],
           "xaxis": "x",
           "y": [
            0.05
           ],
           "yaxis": "y"
          },
          {
           "alignmentgroup": "True",
           "hovertemplate": "Age Group=%{x}<br>Date=2023-09-01 00:00:00<br>Unemployment Rate=%{y}<extra></extra>",
           "legendgroup": "Age 35-44",
           "marker": {
            "color": "#ab63fa",
            "pattern": {
             "shape": ""
            }
           },
           "name": "Age 35-44",
           "offsetgroup": "Age 35-44",
           "orientation": "v",
           "showlegend": true,
           "textposition": "auto",
           "type": "bar",
           "x": [
            "Age 35-44"
           ],
           "xaxis": "x",
           "y": [
            0.039
           ],
           "yaxis": "y"
          },
          {
           "alignmentgroup": "True",
           "hovertemplate": "Age Group=%{x}<br>Date=2023-09-01 00:00:00<br>Unemployment Rate=%{y}<extra></extra>",
           "legendgroup": "Age 45-54",
           "marker": {
            "color": "#FFA15A",
            "pattern": {
             "shape": ""
            }
           },
           "name": "Age 45-54",
           "offsetgroup": "Age 45-54",
           "orientation": "v",
           "showlegend": true,
           "textposition": "auto",
           "type": "bar",
           "x": [
            "Age 45-54"
           ],
           "xaxis": "x",
           "y": [
            0.03
           ],
           "yaxis": "y"
          },
          {
           "alignmentgroup": "True",
           "hovertemplate": "Age Group=%{x}<br>Date=2023-09-01 00:00:00<br>Unemployment Rate=%{y}<extra></extra>",
           "legendgroup": "Age 55-64",
           "marker": {
            "color": "#19d3f3",
            "pattern": {
             "shape": ""
            }
           },
           "name": "Age 55-64",
           "offsetgroup": "Age 55-64",
           "orientation": "v",
           "showlegend": true,
           "textposition": "auto",
           "type": "bar",
           "x": [
            "Age 55-64"
           ],
           "xaxis": "x",
           "y": [
            0.03
           ],
           "yaxis": "y"
          },
          {
           "alignmentgroup": "True",
           "hovertemplate": "Age Group=%{x}<br>Date=2023-09-01 00:00:00<br>Unemployment Rate=%{y}<extra></extra>",
           "legendgroup": "Age 65+",
           "marker": {
            "color": "#FF6692",
            "pattern": {
             "shape": ""
            }
           },
           "name": "Age 65+",
           "offsetgroup": "Age 65+",
           "orientation": "v",
           "showlegend": true,
           "textposition": "auto",
           "type": "bar",
           "x": [
            "Age 65+"
           ],
           "xaxis": "x",
           "y": [
            0.038
           ],
           "yaxis": "y"
          }
         ],
         "name": "2023-09-01 00:00:00"
        },
        {
         "data": [
          {
           "alignmentgroup": "True",
           "hovertemplate": "Age Group=%{x}<br>Date=2023-10-01 00:00:00<br>Unemployment Rate=%{y}<extra></extra>",
           "legendgroup": "Age 16-19",
           "marker": {
            "color": "#636efa",
            "pattern": {
             "shape": ""
            }
           },
           "name": "Age 16-19",
           "offsetgroup": "Age 16-19",
           "orientation": "v",
           "showlegend": true,
           "textposition": "auto",
           "type": "bar",
           "x": [
            "Age 16-19"
           ],
           "xaxis": "x",
           "y": [
            0.149
           ],
           "yaxis": "y"
          },
          {
           "alignmentgroup": "True",
           "hovertemplate": "Age Group=%{x}<br>Date=2023-10-01 00:00:00<br>Unemployment Rate=%{y}<extra></extra>",
           "legendgroup": "Age 20-24",
           "marker": {
            "color": "#EF553B",
            "pattern": {
             "shape": ""
            }
           },
           "name": "Age 20-24",
           "offsetgroup": "Age 20-24",
           "orientation": "v",
           "showlegend": true,
           "textposition": "auto",
           "type": "bar",
           "x": [
            "Age 20-24"
           ],
           "xaxis": "x",
           "y": [
            0.082
           ],
           "yaxis": "y"
          },
          {
           "alignmentgroup": "True",
           "hovertemplate": "Age Group=%{x}<br>Date=2023-10-01 00:00:00<br>Unemployment Rate=%{y}<extra></extra>",
           "legendgroup": "Age 25-34",
           "marker": {
            "color": "#00cc96",
            "pattern": {
             "shape": ""
            }
           },
           "name": "Age 25-34",
           "offsetgroup": "Age 25-34",
           "orientation": "v",
           "showlegend": true,
           "textposition": "auto",
           "type": "bar",
           "x": [
            "Age 25-34"
           ],
           "xaxis": "x",
           "y": [
            0.05
           ],
           "yaxis": "y"
          },
          {
           "alignmentgroup": "True",
           "hovertemplate": "Age Group=%{x}<br>Date=2023-10-01 00:00:00<br>Unemployment Rate=%{y}<extra></extra>",
           "legendgroup": "Age 35-44",
           "marker": {
            "color": "#ab63fa",
            "pattern": {
             "shape": ""
            }
           },
           "name": "Age 35-44",
           "offsetgroup": "Age 35-44",
           "orientation": "v",
           "showlegend": true,
           "textposition": "auto",
           "type": "bar",
           "x": [
            "Age 35-44"
           ],
           "xaxis": "x",
           "y": [
            0.039
           ],
           "yaxis": "y"
          },
          {
           "alignmentgroup": "True",
           "hovertemplate": "Age Group=%{x}<br>Date=2023-10-01 00:00:00<br>Unemployment Rate=%{y}<extra></extra>",
           "legendgroup": "Age 45-54",
           "marker": {
            "color": "#FFA15A",
            "pattern": {
             "shape": ""
            }
           },
           "name": "Age 45-54",
           "offsetgroup": "Age 45-54",
           "orientation": "v",
           "showlegend": true,
           "textposition": "auto",
           "type": "bar",
           "x": [
            "Age 45-54"
           ],
           "xaxis": "x",
           "y": [
            0.029
           ],
           "yaxis": "y"
          },
          {
           "alignmentgroup": "True",
           "hovertemplate": "Age Group=%{x}<br>Date=2023-10-01 00:00:00<br>Unemployment Rate=%{y}<extra></extra>",
           "legendgroup": "Age 55-64",
           "marker": {
            "color": "#19d3f3",
            "pattern": {
             "shape": ""
            }
           },
           "name": "Age 55-64",
           "offsetgroup": "Age 55-64",
           "orientation": "v",
           "showlegend": true,
           "textposition": "auto",
           "type": "bar",
           "x": [
            "Age 55-64"
           ],
           "xaxis": "x",
           "y": [
            0.031
           ],
           "yaxis": "y"
          },
          {
           "alignmentgroup": "True",
           "hovertemplate": "Age Group=%{x}<br>Date=2023-10-01 00:00:00<br>Unemployment Rate=%{y}<extra></extra>",
           "legendgroup": "Age 65+",
           "marker": {
            "color": "#FF6692",
            "pattern": {
             "shape": ""
            }
           },
           "name": "Age 65+",
           "offsetgroup": "Age 65+",
           "orientation": "v",
           "showlegend": true,
           "textposition": "auto",
           "type": "bar",
           "x": [
            "Age 65+"
           ],
           "xaxis": "x",
           "y": [
            0.04
           ],
           "yaxis": "y"
          }
         ],
         "name": "2023-10-01 00:00:00"
        },
        {
         "data": [
          {
           "alignmentgroup": "True",
           "hovertemplate": "Age Group=%{x}<br>Date=2023-11-01 00:00:00<br>Unemployment Rate=%{y}<extra></extra>",
           "legendgroup": "Age 16-19",
           "marker": {
            "color": "#636efa",
            "pattern": {
             "shape": ""
            }
           },
           "name": "Age 16-19",
           "offsetgroup": "Age 16-19",
           "orientation": "v",
           "showlegend": true,
           "textposition": "auto",
           "type": "bar",
           "x": [
            "Age 16-19"
           ],
           "xaxis": "x",
           "y": [
            0.159
           ],
           "yaxis": "y"
          },
          {
           "alignmentgroup": "True",
           "hovertemplate": "Age Group=%{x}<br>Date=2023-11-01 00:00:00<br>Unemployment Rate=%{y}<extra></extra>",
           "legendgroup": "Age 20-24",
           "marker": {
            "color": "#EF553B",
            "pattern": {
             "shape": ""
            }
           },
           "name": "Age 20-24",
           "offsetgroup": "Age 20-24",
           "orientation": "v",
           "showlegend": true,
           "textposition": "auto",
           "type": "bar",
           "x": [
            "Age 20-24"
           ],
           "xaxis": "x",
           "y": [
            0.08
           ],
           "yaxis": "y"
          },
          {
           "alignmentgroup": "True",
           "hovertemplate": "Age Group=%{x}<br>Date=2023-11-01 00:00:00<br>Unemployment Rate=%{y}<extra></extra>",
           "legendgroup": "Age 25-34",
           "marker": {
            "color": "#00cc96",
            "pattern": {
             "shape": ""
            }
           },
           "name": "Age 25-34",
           "offsetgroup": "Age 25-34",
           "orientation": "v",
           "showlegend": true,
           "textposition": "auto",
           "type": "bar",
           "x": [
            "Age 25-34"
           ],
           "xaxis": "x",
           "y": [
            0.052
           ],
           "yaxis": "y"
          },
          {
           "alignmentgroup": "True",
           "hovertemplate": "Age Group=%{x}<br>Date=2023-11-01 00:00:00<br>Unemployment Rate=%{y}<extra></extra>",
           "legendgroup": "Age 35-44",
           "marker": {
            "color": "#ab63fa",
            "pattern": {
             "shape": ""
            }
           },
           "name": "Age 35-44",
           "offsetgroup": "Age 35-44",
           "orientation": "v",
           "showlegend": true,
           "textposition": "auto",
           "type": "bar",
           "x": [
            "Age 35-44"
           ],
           "xaxis": "x",
           "y": [
            0.039
           ],
           "yaxis": "y"
          },
          {
           "alignmentgroup": "True",
           "hovertemplate": "Age Group=%{x}<br>Date=2023-11-01 00:00:00<br>Unemployment Rate=%{y}<extra></extra>",
           "legendgroup": "Age 45-54",
           "marker": {
            "color": "#FFA15A",
            "pattern": {
             "shape": ""
            }
           },
           "name": "Age 45-54",
           "offsetgroup": "Age 45-54",
           "orientation": "v",
           "showlegend": true,
           "textposition": "auto",
           "type": "bar",
           "x": [
            "Age 45-54"
           ],
           "xaxis": "x",
           "y": [
            0.028
           ],
           "yaxis": "y"
          },
          {
           "alignmentgroup": "True",
           "hovertemplate": "Age Group=%{x}<br>Date=2023-11-01 00:00:00<br>Unemployment Rate=%{y}<extra></extra>",
           "legendgroup": "Age 55-64",
           "marker": {
            "color": "#19d3f3",
            "pattern": {
             "shape": ""
            }
           },
           "name": "Age 55-64",
           "offsetgroup": "Age 55-64",
           "orientation": "v",
           "showlegend": true,
           "textposition": "auto",
           "type": "bar",
           "x": [
            "Age 55-64"
           ],
           "xaxis": "x",
           "y": [
            0.033
           ],
           "yaxis": "y"
          },
          {
           "alignmentgroup": "True",
           "hovertemplate": "Age Group=%{x}<br>Date=2023-11-01 00:00:00<br>Unemployment Rate=%{y}<extra></extra>",
           "legendgroup": "Age 65+",
           "marker": {
            "color": "#FF6692",
            "pattern": {
             "shape": ""
            }
           },
           "name": "Age 65+",
           "offsetgroup": "Age 65+",
           "orientation": "v",
           "showlegend": true,
           "textposition": "auto",
           "type": "bar",
           "x": [
            "Age 65+"
           ],
           "xaxis": "x",
           "y": [
            0.039
           ],
           "yaxis": "y"
          }
         ],
         "name": "2023-11-01 00:00:00"
        },
        {
         "data": [
          {
           "alignmentgroup": "True",
           "hovertemplate": "Age Group=%{x}<br>Date=2023-12-01 00:00:00<br>Unemployment Rate=%{y}<extra></extra>",
           "legendgroup": "Age 16-19",
           "marker": {
            "color": "#636efa",
            "pattern": {
             "shape": ""
            }
           },
           "name": "Age 16-19",
           "offsetgroup": "Age 16-19",
           "orientation": "v",
           "showlegend": true,
           "textposition": "auto",
           "type": "bar",
           "x": [
            "Age 16-19"
           ],
           "xaxis": "x",
           "y": [
            0.168
           ],
           "yaxis": "y"
          },
          {
           "alignmentgroup": "True",
           "hovertemplate": "Age Group=%{x}<br>Date=2023-12-01 00:00:00<br>Unemployment Rate=%{y}<extra></extra>",
           "legendgroup": "Age 20-24",
           "marker": {
            "color": "#EF553B",
            "pattern": {
             "shape": ""
            }
           },
           "name": "Age 20-24",
           "offsetgroup": "Age 20-24",
           "orientation": "v",
           "showlegend": true,
           "textposition": "auto",
           "type": "bar",
           "x": [
            "Age 20-24"
           ],
           "xaxis": "x",
           "y": [
            0.079
           ],
           "yaxis": "y"
          },
          {
           "alignmentgroup": "True",
           "hovertemplate": "Age Group=%{x}<br>Date=2023-12-01 00:00:00<br>Unemployment Rate=%{y}<extra></extra>",
           "legendgroup": "Age 25-34",
           "marker": {
            "color": "#00cc96",
            "pattern": {
             "shape": ""
            }
           },
           "name": "Age 25-34",
           "offsetgroup": "Age 25-34",
           "orientation": "v",
           "showlegend": true,
           "textposition": "auto",
           "type": "bar",
           "x": [
            "Age 25-34"
           ],
           "xaxis": "x",
           "y": [
            0.053
           ],
           "yaxis": "y"
          },
          {
           "alignmentgroup": "True",
           "hovertemplate": "Age Group=%{x}<br>Date=2023-12-01 00:00:00<br>Unemployment Rate=%{y}<extra></extra>",
           "legendgroup": "Age 35-44",
           "marker": {
            "color": "#ab63fa",
            "pattern": {
             "shape": ""
            }
           },
           "name": "Age 35-44",
           "offsetgroup": "Age 35-44",
           "orientation": "v",
           "showlegend": true,
           "textposition": "auto",
           "type": "bar",
           "x": [
            "Age 35-44"
           ],
           "xaxis": "x",
           "y": [
            0.039
           ],
           "yaxis": "y"
          },
          {
           "alignmentgroup": "True",
           "hovertemplate": "Age Group=%{x}<br>Date=2023-12-01 00:00:00<br>Unemployment Rate=%{y}<extra></extra>",
           "legendgroup": "Age 45-54",
           "marker": {
            "color": "#FFA15A",
            "pattern": {
             "shape": ""
            }
           },
           "name": "Age 45-54",
           "offsetgroup": "Age 45-54",
           "orientation": "v",
           "showlegend": true,
           "textposition": "auto",
           "type": "bar",
           "x": [
            "Age 45-54"
           ],
           "xaxis": "x",
           "y": [
            0.029
           ],
           "yaxis": "y"
          },
          {
           "alignmentgroup": "True",
           "hovertemplate": "Age Group=%{x}<br>Date=2023-12-01 00:00:00<br>Unemployment Rate=%{y}<extra></extra>",
           "legendgroup": "Age 55-64",
           "marker": {
            "color": "#19d3f3",
            "pattern": {
             "shape": ""
            }
           },
           "name": "Age 55-64",
           "offsetgroup": "Age 55-64",
           "orientation": "v",
           "showlegend": true,
           "textposition": "auto",
           "type": "bar",
           "x": [
            "Age 55-64"
           ],
           "xaxis": "x",
           "y": [
            0.034
           ],
           "yaxis": "y"
          },
          {
           "alignmentgroup": "True",
           "hovertemplate": "Age Group=%{x}<br>Date=2023-12-01 00:00:00<br>Unemployment Rate=%{y}<extra></extra>",
           "legendgroup": "Age 65+",
           "marker": {
            "color": "#FF6692",
            "pattern": {
             "shape": ""
            }
           },
           "name": "Age 65+",
           "offsetgroup": "Age 65+",
           "orientation": "v",
           "showlegend": true,
           "textposition": "auto",
           "type": "bar",
           "x": [
            "Age 65+"
           ],
           "xaxis": "x",
           "y": [
            0.037
           ],
           "yaxis": "y"
          }
         ],
         "name": "2023-12-01 00:00:00"
        },
        {
         "data": [
          {
           "alignmentgroup": "True",
           "hovertemplate": "Age Group=%{x}<br>Date=2024-01-01 00:00:00<br>Unemployment Rate=%{y}<extra></extra>",
           "legendgroup": "Age 16-19",
           "marker": {
            "color": "#636efa",
            "pattern": {
             "shape": ""
            }
           },
           "name": "Age 16-19",
           "offsetgroup": "Age 16-19",
           "orientation": "v",
           "showlegend": true,
           "textposition": "auto",
           "type": "bar",
           "x": [
            "Age 16-19"
           ],
           "xaxis": "x",
           "y": [
            0.169
           ],
           "yaxis": "y"
          },
          {
           "alignmentgroup": "True",
           "hovertemplate": "Age Group=%{x}<br>Date=2024-01-01 00:00:00<br>Unemployment Rate=%{y}<extra></extra>",
           "legendgroup": "Age 20-24",
           "marker": {
            "color": "#EF553B",
            "pattern": {
             "shape": ""
            }
           },
           "name": "Age 20-24",
           "offsetgroup": "Age 20-24",
           "orientation": "v",
           "showlegend": true,
           "textposition": "auto",
           "type": "bar",
           "x": [
            "Age 20-24"
           ],
           "xaxis": "x",
           "y": [
            0.079
           ],
           "yaxis": "y"
          },
          {
           "alignmentgroup": "True",
           "hovertemplate": "Age Group=%{x}<br>Date=2024-01-01 00:00:00<br>Unemployment Rate=%{y}<extra></extra>",
           "legendgroup": "Age 25-34",
           "marker": {
            "color": "#00cc96",
            "pattern": {
             "shape": ""
            }
           },
           "name": "Age 25-34",
           "offsetgroup": "Age 25-34",
           "orientation": "v",
           "showlegend": true,
           "textposition": "auto",
           "type": "bar",
           "x": [
            "Age 25-34"
           ],
           "xaxis": "x",
           "y": [
            0.053
           ],
           "yaxis": "y"
          },
          {
           "alignmentgroup": "True",
           "hovertemplate": "Age Group=%{x}<br>Date=2024-01-01 00:00:00<br>Unemployment Rate=%{y}<extra></extra>",
           "legendgroup": "Age 35-44",
           "marker": {
            "color": "#ab63fa",
            "pattern": {
             "shape": ""
            }
           },
           "name": "Age 35-44",
           "offsetgroup": "Age 35-44",
           "orientation": "v",
           "showlegend": true,
           "textposition": "auto",
           "type": "bar",
           "x": [
            "Age 35-44"
           ],
           "xaxis": "x",
           "y": [
            0.04
           ],
           "yaxis": "y"
          },
          {
           "alignmentgroup": "True",
           "hovertemplate": "Age Group=%{x}<br>Date=2024-01-01 00:00:00<br>Unemployment Rate=%{y}<extra></extra>",
           "legendgroup": "Age 45-54",
           "marker": {
            "color": "#FFA15A",
            "pattern": {
             "shape": ""
            }
           },
           "name": "Age 45-54",
           "offsetgroup": "Age 45-54",
           "orientation": "v",
           "showlegend": true,
           "textposition": "auto",
           "type": "bar",
           "x": [
            "Age 45-54"
           ],
           "xaxis": "x",
           "y": [
            0.032
           ],
           "yaxis": "y"
          },
          {
           "alignmentgroup": "True",
           "hovertemplate": "Age Group=%{x}<br>Date=2024-01-01 00:00:00<br>Unemployment Rate=%{y}<extra></extra>",
           "legendgroup": "Age 55-64",
           "marker": {
            "color": "#19d3f3",
            "pattern": {
             "shape": ""
            }
           },
           "name": "Age 55-64",
           "offsetgroup": "Age 55-64",
           "orientation": "v",
           "showlegend": true,
           "textposition": "auto",
           "type": "bar",
           "x": [
            "Age 55-64"
           ],
           "xaxis": "x",
           "y": [
            0.035
           ],
           "yaxis": "y"
          },
          {
           "alignmentgroup": "True",
           "hovertemplate": "Age Group=%{x}<br>Date=2024-01-01 00:00:00<br>Unemployment Rate=%{y}<extra></extra>",
           "legendgroup": "Age 65+",
           "marker": {
            "color": "#FF6692",
            "pattern": {
             "shape": ""
            }
           },
           "name": "Age 65+",
           "offsetgroup": "Age 65+",
           "orientation": "v",
           "showlegend": true,
           "textposition": "auto",
           "type": "bar",
           "x": [
            "Age 65+"
           ],
           "xaxis": "x",
           "y": [
            0.039
           ],
           "yaxis": "y"
          }
         ],
         "name": "2024-01-01 00:00:00"
        },
        {
         "data": [
          {
           "alignmentgroup": "True",
           "hovertemplate": "Age Group=%{x}<br>Date=2024-02-01 00:00:00<br>Unemployment Rate=%{y}<extra></extra>",
           "legendgroup": "Age 16-19",
           "marker": {
            "color": "#636efa",
            "pattern": {
             "shape": ""
            }
           },
           "name": "Age 16-19",
           "offsetgroup": "Age 16-19",
           "orientation": "v",
           "showlegend": true,
           "textposition": "auto",
           "type": "bar",
           "x": [
            "Age 16-19"
           ],
           "xaxis": "x",
           "y": [
            0.175
           ],
           "yaxis": "y"
          },
          {
           "alignmentgroup": "True",
           "hovertemplate": "Age Group=%{x}<br>Date=2024-02-01 00:00:00<br>Unemployment Rate=%{y}<extra></extra>",
           "legendgroup": "Age 20-24",
           "marker": {
            "color": "#EF553B",
            "pattern": {
             "shape": ""
            }
           },
           "name": "Age 20-24",
           "offsetgroup": "Age 20-24",
           "orientation": "v",
           "showlegend": true,
           "textposition": "auto",
           "type": "bar",
           "x": [
            "Age 20-24"
           ],
           "xaxis": "x",
           "y": [
            0.081
           ],
           "yaxis": "y"
          },
          {
           "alignmentgroup": "True",
           "hovertemplate": "Age Group=%{x}<br>Date=2024-02-01 00:00:00<br>Unemployment Rate=%{y}<extra></extra>",
           "legendgroup": "Age 25-34",
           "marker": {
            "color": "#00cc96",
            "pattern": {
             "shape": ""
            }
           },
           "name": "Age 25-34",
           "offsetgroup": "Age 25-34",
           "orientation": "v",
           "showlegend": true,
           "textposition": "auto",
           "type": "bar",
           "x": [
            "Age 25-34"
           ],
           "xaxis": "x",
           "y": [
            0.052
           ],
           "yaxis": "y"
          },
          {
           "alignmentgroup": "True",
           "hovertemplate": "Age Group=%{x}<br>Date=2024-02-01 00:00:00<br>Unemployment Rate=%{y}<extra></extra>",
           "legendgroup": "Age 35-44",
           "marker": {
            "color": "#ab63fa",
            "pattern": {
             "shape": ""
            }
           },
           "name": "Age 35-44",
           "offsetgroup": "Age 35-44",
           "orientation": "v",
           "showlegend": true,
           "textposition": "auto",
           "type": "bar",
           "x": [
            "Age 35-44"
           ],
           "xaxis": "x",
           "y": [
            0.04
           ],
           "yaxis": "y"
          },
          {
           "alignmentgroup": "True",
           "hovertemplate": "Age Group=%{x}<br>Date=2024-02-01 00:00:00<br>Unemployment Rate=%{y}<extra></extra>",
           "legendgroup": "Age 45-54",
           "marker": {
            "color": "#FFA15A",
            "pattern": {
             "shape": ""
            }
           },
           "name": "Age 45-54",
           "offsetgroup": "Age 45-54",
           "orientation": "v",
           "showlegend": true,
           "textposition": "auto",
           "type": "bar",
           "x": [
            "Age 45-54"
           ],
           "xaxis": "x",
           "y": [
            0.033
           ],
           "yaxis": "y"
          },
          {
           "alignmentgroup": "True",
           "hovertemplate": "Age Group=%{x}<br>Date=2024-02-01 00:00:00<br>Unemployment Rate=%{y}<extra></extra>",
           "legendgroup": "Age 55-64",
           "marker": {
            "color": "#19d3f3",
            "pattern": {
             "shape": ""
            }
           },
           "name": "Age 55-64",
           "offsetgroup": "Age 55-64",
           "orientation": "v",
           "showlegend": true,
           "textposition": "auto",
           "type": "bar",
           "x": [
            "Age 55-64"
           ],
           "xaxis": "x",
           "y": [
            0.035
           ],
           "yaxis": "y"
          },
          {
           "alignmentgroup": "True",
           "hovertemplate": "Age Group=%{x}<br>Date=2024-02-01 00:00:00<br>Unemployment Rate=%{y}<extra></extra>",
           "legendgroup": "Age 65+",
           "marker": {
            "color": "#FF6692",
            "pattern": {
             "shape": ""
            }
           },
           "name": "Age 65+",
           "offsetgroup": "Age 65+",
           "orientation": "v",
           "showlegend": true,
           "textposition": "auto",
           "type": "bar",
           "x": [
            "Age 65+"
           ],
           "xaxis": "x",
           "y": [
            0.04
           ],
           "yaxis": "y"
          }
         ],
         "name": "2024-02-01 00:00:00"
        },
        {
         "data": [
          {
           "alignmentgroup": "True",
           "hovertemplate": "Age Group=%{x}<br>Date=2024-03-01 00:00:00<br>Unemployment Rate=%{y}<extra></extra>",
           "legendgroup": "Age 16-19",
           "marker": {
            "color": "#636efa",
            "pattern": {
             "shape": ""
            }
           },
           "name": "Age 16-19",
           "offsetgroup": "Age 16-19",
           "orientation": "v",
           "showlegend": true,
           "textposition": "auto",
           "type": "bar",
           "x": [
            "Age 16-19"
           ],
           "xaxis": "x",
           "y": [
            0.179
           ],
           "yaxis": "y"
          },
          {
           "alignmentgroup": "True",
           "hovertemplate": "Age Group=%{x}<br>Date=2024-03-01 00:00:00<br>Unemployment Rate=%{y}<extra></extra>",
           "legendgroup": "Age 20-24",
           "marker": {
            "color": "#EF553B",
            "pattern": {
             "shape": ""
            }
           },
           "name": "Age 20-24",
           "offsetgroup": "Age 20-24",
           "orientation": "v",
           "showlegend": true,
           "textposition": "auto",
           "type": "bar",
           "x": [
            "Age 20-24"
           ],
           "xaxis": "x",
           "y": [
            0.083
           ],
           "yaxis": "y"
          },
          {
           "alignmentgroup": "True",
           "hovertemplate": "Age Group=%{x}<br>Date=2024-03-01 00:00:00<br>Unemployment Rate=%{y}<extra></extra>",
           "legendgroup": "Age 25-34",
           "marker": {
            "color": "#00cc96",
            "pattern": {
             "shape": ""
            }
           },
           "name": "Age 25-34",
           "offsetgroup": "Age 25-34",
           "orientation": "v",
           "showlegend": true,
           "textposition": "auto",
           "type": "bar",
           "x": [
            "Age 25-34"
           ],
           "xaxis": "x",
           "y": [
            0.052
           ],
           "yaxis": "y"
          },
          {
           "alignmentgroup": "True",
           "hovertemplate": "Age Group=%{x}<br>Date=2024-03-01 00:00:00<br>Unemployment Rate=%{y}<extra></extra>",
           "legendgroup": "Age 35-44",
           "marker": {
            "color": "#ab63fa",
            "pattern": {
             "shape": ""
            }
           },
           "name": "Age 35-44",
           "offsetgroup": "Age 35-44",
           "orientation": "v",
           "showlegend": true,
           "textposition": "auto",
           "type": "bar",
           "x": [
            "Age 35-44"
           ],
           "xaxis": "x",
           "y": [
            0.039
           ],
           "yaxis": "y"
          },
          {
           "alignmentgroup": "True",
           "hovertemplate": "Age Group=%{x}<br>Date=2024-03-01 00:00:00<br>Unemployment Rate=%{y}<extra></extra>",
           "legendgroup": "Age 45-54",
           "marker": {
            "color": "#FFA15A",
            "pattern": {
             "shape": ""
            }
           },
           "name": "Age 45-54",
           "offsetgroup": "Age 45-54",
           "orientation": "v",
           "showlegend": true,
           "textposition": "auto",
           "type": "bar",
           "x": [
            "Age 45-54"
           ],
           "xaxis": "x",
           "y": [
            0.033
           ],
           "yaxis": "y"
          },
          {
           "alignmentgroup": "True",
           "hovertemplate": "Age Group=%{x}<br>Date=2024-03-01 00:00:00<br>Unemployment Rate=%{y}<extra></extra>",
           "legendgroup": "Age 55-64",
           "marker": {
            "color": "#19d3f3",
            "pattern": {
             "shape": ""
            }
           },
           "name": "Age 55-64",
           "offsetgroup": "Age 55-64",
           "orientation": "v",
           "showlegend": true,
           "textposition": "auto",
           "type": "bar",
           "x": [
            "Age 55-64"
           ],
           "xaxis": "x",
           "y": [
            0.034
           ],
           "yaxis": "y"
          },
          {
           "alignmentgroup": "True",
           "hovertemplate": "Age Group=%{x}<br>Date=2024-03-01 00:00:00<br>Unemployment Rate=%{y}<extra></extra>",
           "legendgroup": "Age 65+",
           "marker": {
            "color": "#FF6692",
            "pattern": {
             "shape": ""
            }
           },
           "name": "Age 65+",
           "offsetgroup": "Age 65+",
           "orientation": "v",
           "showlegend": true,
           "textposition": "auto",
           "type": "bar",
           "x": [
            "Age 65+"
           ],
           "xaxis": "x",
           "y": [
            0.04
           ],
           "yaxis": "y"
          }
         ],
         "name": "2024-03-01 00:00:00"
        }
       ],
       "layout": {
        "barmode": "relative",
        "legend": {
         "title": {
          "text": "Age Group"
         },
         "tracegroupgap": 0
        },
        "margin": {
         "t": 60
        },
        "plot_bgcolor": "white",
        "sliders": [
         {
          "active": 0,
          "currentvalue": {
           "prefix": "Date="
          },
          "len": 0.9,
          "pad": {
           "b": 10,
           "t": 60
          },
          "steps": [
           {
            "args": [
             [
              "2020-01-01 00:00:00"
             ],
             {
              "frame": {
               "duration": 0,
               "redraw": true
              },
              "fromcurrent": true,
              "mode": "immediate",
              "transition": {
               "duration": 0,
               "easing": "linear"
              }
             }
            ],
            "label": "2020-01-01 00:00:00",
            "method": "animate"
           },
           {
            "args": [
             [
              "2020-02-01 00:00:00"
             ],
             {
              "frame": {
               "duration": 0,
               "redraw": true
              },
              "fromcurrent": true,
              "mode": "immediate",
              "transition": {
               "duration": 0,
               "easing": "linear"
              }
             }
            ],
            "label": "2020-02-01 00:00:00",
            "method": "animate"
           },
           {
            "args": [
             [
              "2020-03-01 00:00:00"
             ],
             {
              "frame": {
               "duration": 0,
               "redraw": true
              },
              "fromcurrent": true,
              "mode": "immediate",
              "transition": {
               "duration": 0,
               "easing": "linear"
              }
             }
            ],
            "label": "2020-03-01 00:00:00",
            "method": "animate"
           },
           {
            "args": [
             [
              "2020-04-01 00:00:00"
             ],
             {
              "frame": {
               "duration": 0,
               "redraw": true
              },
              "fromcurrent": true,
              "mode": "immediate",
              "transition": {
               "duration": 0,
               "easing": "linear"
              }
             }
            ],
            "label": "2020-04-01 00:00:00",
            "method": "animate"
           },
           {
            "args": [
             [
              "2020-05-01 00:00:00"
             ],
             {
              "frame": {
               "duration": 0,
               "redraw": true
              },
              "fromcurrent": true,
              "mode": "immediate",
              "transition": {
               "duration": 0,
               "easing": "linear"
              }
             }
            ],
            "label": "2020-05-01 00:00:00",
            "method": "animate"
           },
           {
            "args": [
             [
              "2020-06-01 00:00:00"
             ],
             {
              "frame": {
               "duration": 0,
               "redraw": true
              },
              "fromcurrent": true,
              "mode": "immediate",
              "transition": {
               "duration": 0,
               "easing": "linear"
              }
             }
            ],
            "label": "2020-06-01 00:00:00",
            "method": "animate"
           },
           {
            "args": [
             [
              "2020-07-01 00:00:00"
             ],
             {
              "frame": {
               "duration": 0,
               "redraw": true
              },
              "fromcurrent": true,
              "mode": "immediate",
              "transition": {
               "duration": 0,
               "easing": "linear"
              }
             }
            ],
            "label": "2020-07-01 00:00:00",
            "method": "animate"
           },
           {
            "args": [
             [
              "2020-08-01 00:00:00"
             ],
             {
              "frame": {
               "duration": 0,
               "redraw": true
              },
              "fromcurrent": true,
              "mode": "immediate",
              "transition": {
               "duration": 0,
               "easing": "linear"
              }
             }
            ],
            "label": "2020-08-01 00:00:00",
            "method": "animate"
           },
           {
            "args": [
             [
              "2020-09-01 00:00:00"
             ],
             {
              "frame": {
               "duration": 0,
               "redraw": true
              },
              "fromcurrent": true,
              "mode": "immediate",
              "transition": {
               "duration": 0,
               "easing": "linear"
              }
             }
            ],
            "label": "2020-09-01 00:00:00",
            "method": "animate"
           },
           {
            "args": [
             [
              "2020-10-01 00:00:00"
             ],
             {
              "frame": {
               "duration": 0,
               "redraw": true
              },
              "fromcurrent": true,
              "mode": "immediate",
              "transition": {
               "duration": 0,
               "easing": "linear"
              }
             }
            ],
            "label": "2020-10-01 00:00:00",
            "method": "animate"
           },
           {
            "args": [
             [
              "2020-11-01 00:00:00"
             ],
             {
              "frame": {
               "duration": 0,
               "redraw": true
              },
              "fromcurrent": true,
              "mode": "immediate",
              "transition": {
               "duration": 0,
               "easing": "linear"
              }
             }
            ],
            "label": "2020-11-01 00:00:00",
            "method": "animate"
           },
           {
            "args": [
             [
              "2020-12-01 00:00:00"
             ],
             {
              "frame": {
               "duration": 0,
               "redraw": true
              },
              "fromcurrent": true,
              "mode": "immediate",
              "transition": {
               "duration": 0,
               "easing": "linear"
              }
             }
            ],
            "label": "2020-12-01 00:00:00",
            "method": "animate"
           },
           {
            "args": [
             [
              "2021-01-01 00:00:00"
             ],
             {
              "frame": {
               "duration": 0,
               "redraw": true
              },
              "fromcurrent": true,
              "mode": "immediate",
              "transition": {
               "duration": 0,
               "easing": "linear"
              }
             }
            ],
            "label": "2021-01-01 00:00:00",
            "method": "animate"
           },
           {
            "args": [
             [
              "2021-02-01 00:00:00"
             ],
             {
              "frame": {
               "duration": 0,
               "redraw": true
              },
              "fromcurrent": true,
              "mode": "immediate",
              "transition": {
               "duration": 0,
               "easing": "linear"
              }
             }
            ],
            "label": "2021-02-01 00:00:00",
            "method": "animate"
           },
           {
            "args": [
             [
              "2021-03-01 00:00:00"
             ],
             {
              "frame": {
               "duration": 0,
               "redraw": true
              },
              "fromcurrent": true,
              "mode": "immediate",
              "transition": {
               "duration": 0,
               "easing": "linear"
              }
             }
            ],
            "label": "2021-03-01 00:00:00",
            "method": "animate"
           },
           {
            "args": [
             [
              "2021-04-01 00:00:00"
             ],
             {
              "frame": {
               "duration": 0,
               "redraw": true
              },
              "fromcurrent": true,
              "mode": "immediate",
              "transition": {
               "duration": 0,
               "easing": "linear"
              }
             }
            ],
            "label": "2021-04-01 00:00:00",
            "method": "animate"
           },
           {
            "args": [
             [
              "2021-05-01 00:00:00"
             ],
             {
              "frame": {
               "duration": 0,
               "redraw": true
              },
              "fromcurrent": true,
              "mode": "immediate",
              "transition": {
               "duration": 0,
               "easing": "linear"
              }
             }
            ],
            "label": "2021-05-01 00:00:00",
            "method": "animate"
           },
           {
            "args": [
             [
              "2021-06-01 00:00:00"
             ],
             {
              "frame": {
               "duration": 0,
               "redraw": true
              },
              "fromcurrent": true,
              "mode": "immediate",
              "transition": {
               "duration": 0,
               "easing": "linear"
              }
             }
            ],
            "label": "2021-06-01 00:00:00",
            "method": "animate"
           },
           {
            "args": [
             [
              "2021-07-01 00:00:00"
             ],
             {
              "frame": {
               "duration": 0,
               "redraw": true
              },
              "fromcurrent": true,
              "mode": "immediate",
              "transition": {
               "duration": 0,
               "easing": "linear"
              }
             }
            ],
            "label": "2021-07-01 00:00:00",
            "method": "animate"
           },
           {
            "args": [
             [
              "2021-08-01 00:00:00"
             ],
             {
              "frame": {
               "duration": 0,
               "redraw": true
              },
              "fromcurrent": true,
              "mode": "immediate",
              "transition": {
               "duration": 0,
               "easing": "linear"
              }
             }
            ],
            "label": "2021-08-01 00:00:00",
            "method": "animate"
           },
           {
            "args": [
             [
              "2021-09-01 00:00:00"
             ],
             {
              "frame": {
               "duration": 0,
               "redraw": true
              },
              "fromcurrent": true,
              "mode": "immediate",
              "transition": {
               "duration": 0,
               "easing": "linear"
              }
             }
            ],
            "label": "2021-09-01 00:00:00",
            "method": "animate"
           },
           {
            "args": [
             [
              "2021-10-01 00:00:00"
             ],
             {
              "frame": {
               "duration": 0,
               "redraw": true
              },
              "fromcurrent": true,
              "mode": "immediate",
              "transition": {
               "duration": 0,
               "easing": "linear"
              }
             }
            ],
            "label": "2021-10-01 00:00:00",
            "method": "animate"
           },
           {
            "args": [
             [
              "2021-11-01 00:00:00"
             ],
             {
              "frame": {
               "duration": 0,
               "redraw": true
              },
              "fromcurrent": true,
              "mode": "immediate",
              "transition": {
               "duration": 0,
               "easing": "linear"
              }
             }
            ],
            "label": "2021-11-01 00:00:00",
            "method": "animate"
           },
           {
            "args": [
             [
              "2021-12-01 00:00:00"
             ],
             {
              "frame": {
               "duration": 0,
               "redraw": true
              },
              "fromcurrent": true,
              "mode": "immediate",
              "transition": {
               "duration": 0,
               "easing": "linear"
              }
             }
            ],
            "label": "2021-12-01 00:00:00",
            "method": "animate"
           },
           {
            "args": [
             [
              "2022-01-01 00:00:00"
             ],
             {
              "frame": {
               "duration": 0,
               "redraw": true
              },
              "fromcurrent": true,
              "mode": "immediate",
              "transition": {
               "duration": 0,
               "easing": "linear"
              }
             }
            ],
            "label": "2022-01-01 00:00:00",
            "method": "animate"
           },
           {
            "args": [
             [
              "2022-02-01 00:00:00"
             ],
             {
              "frame": {
               "duration": 0,
               "redraw": true
              },
              "fromcurrent": true,
              "mode": "immediate",
              "transition": {
               "duration": 0,
               "easing": "linear"
              }
             }
            ],
            "label": "2022-02-01 00:00:00",
            "method": "animate"
           },
           {
            "args": [
             [
              "2022-03-01 00:00:00"
             ],
             {
              "frame": {
               "duration": 0,
               "redraw": true
              },
              "fromcurrent": true,
              "mode": "immediate",
              "transition": {
               "duration": 0,
               "easing": "linear"
              }
             }
            ],
            "label": "2022-03-01 00:00:00",
            "method": "animate"
           },
           {
            "args": [
             [
              "2022-04-01 00:00:00"
             ],
             {
              "frame": {
               "duration": 0,
               "redraw": true
              },
              "fromcurrent": true,
              "mode": "immediate",
              "transition": {
               "duration": 0,
               "easing": "linear"
              }
             }
            ],
            "label": "2022-04-01 00:00:00",
            "method": "animate"
           },
           {
            "args": [
             [
              "2022-05-01 00:00:00"
             ],
             {
              "frame": {
               "duration": 0,
               "redraw": true
              },
              "fromcurrent": true,
              "mode": "immediate",
              "transition": {
               "duration": 0,
               "easing": "linear"
              }
             }
            ],
            "label": "2022-05-01 00:00:00",
            "method": "animate"
           },
           {
            "args": [
             [
              "2022-06-01 00:00:00"
             ],
             {
              "frame": {
               "duration": 0,
               "redraw": true
              },
              "fromcurrent": true,
              "mode": "immediate",
              "transition": {
               "duration": 0,
               "easing": "linear"
              }
             }
            ],
            "label": "2022-06-01 00:00:00",
            "method": "animate"
           },
           {
            "args": [
             [
              "2022-07-01 00:00:00"
             ],
             {
              "frame": {
               "duration": 0,
               "redraw": true
              },
              "fromcurrent": true,
              "mode": "immediate",
              "transition": {
               "duration": 0,
               "easing": "linear"
              }
             }
            ],
            "label": "2022-07-01 00:00:00",
            "method": "animate"
           },
           {
            "args": [
             [
              "2022-08-01 00:00:00"
             ],
             {
              "frame": {
               "duration": 0,
               "redraw": true
              },
              "fromcurrent": true,
              "mode": "immediate",
              "transition": {
               "duration": 0,
               "easing": "linear"
              }
             }
            ],
            "label": "2022-08-01 00:00:00",
            "method": "animate"
           },
           {
            "args": [
             [
              "2022-09-01 00:00:00"
             ],
             {
              "frame": {
               "duration": 0,
               "redraw": true
              },
              "fromcurrent": true,
              "mode": "immediate",
              "transition": {
               "duration": 0,
               "easing": "linear"
              }
             }
            ],
            "label": "2022-09-01 00:00:00",
            "method": "animate"
           },
           {
            "args": [
             [
              "2022-10-01 00:00:00"
             ],
             {
              "frame": {
               "duration": 0,
               "redraw": true
              },
              "fromcurrent": true,
              "mode": "immediate",
              "transition": {
               "duration": 0,
               "easing": "linear"
              }
             }
            ],
            "label": "2022-10-01 00:00:00",
            "method": "animate"
           },
           {
            "args": [
             [
              "2022-11-01 00:00:00"
             ],
             {
              "frame": {
               "duration": 0,
               "redraw": true
              },
              "fromcurrent": true,
              "mode": "immediate",
              "transition": {
               "duration": 0,
               "easing": "linear"
              }
             }
            ],
            "label": "2022-11-01 00:00:00",
            "method": "animate"
           },
           {
            "args": [
             [
              "2022-12-01 00:00:00"
             ],
             {
              "frame": {
               "duration": 0,
               "redraw": true
              },
              "fromcurrent": true,
              "mode": "immediate",
              "transition": {
               "duration": 0,
               "easing": "linear"
              }
             }
            ],
            "label": "2022-12-01 00:00:00",
            "method": "animate"
           },
           {
            "args": [
             [
              "2023-01-01 00:00:00"
             ],
             {
              "frame": {
               "duration": 0,
               "redraw": true
              },
              "fromcurrent": true,
              "mode": "immediate",
              "transition": {
               "duration": 0,
               "easing": "linear"
              }
             }
            ],
            "label": "2023-01-01 00:00:00",
            "method": "animate"
           },
           {
            "args": [
             [
              "2023-02-01 00:00:00"
             ],
             {
              "frame": {
               "duration": 0,
               "redraw": true
              },
              "fromcurrent": true,
              "mode": "immediate",
              "transition": {
               "duration": 0,
               "easing": "linear"
              }
             }
            ],
            "label": "2023-02-01 00:00:00",
            "method": "animate"
           },
           {
            "args": [
             [
              "2023-03-01 00:00:00"
             ],
             {
              "frame": {
               "duration": 0,
               "redraw": true
              },
              "fromcurrent": true,
              "mode": "immediate",
              "transition": {
               "duration": 0,
               "easing": "linear"
              }
             }
            ],
            "label": "2023-03-01 00:00:00",
            "method": "animate"
           },
           {
            "args": [
             [
              "2023-04-01 00:00:00"
             ],
             {
              "frame": {
               "duration": 0,
               "redraw": true
              },
              "fromcurrent": true,
              "mode": "immediate",
              "transition": {
               "duration": 0,
               "easing": "linear"
              }
             }
            ],
            "label": "2023-04-01 00:00:00",
            "method": "animate"
           },
           {
            "args": [
             [
              "2023-05-01 00:00:00"
             ],
             {
              "frame": {
               "duration": 0,
               "redraw": true
              },
              "fromcurrent": true,
              "mode": "immediate",
              "transition": {
               "duration": 0,
               "easing": "linear"
              }
             }
            ],
            "label": "2023-05-01 00:00:00",
            "method": "animate"
           },
           {
            "args": [
             [
              "2023-06-01 00:00:00"
             ],
             {
              "frame": {
               "duration": 0,
               "redraw": true
              },
              "fromcurrent": true,
              "mode": "immediate",
              "transition": {
               "duration": 0,
               "easing": "linear"
              }
             }
            ],
            "label": "2023-06-01 00:00:00",
            "method": "animate"
           },
           {
            "args": [
             [
              "2023-07-01 00:00:00"
             ],
             {
              "frame": {
               "duration": 0,
               "redraw": true
              },
              "fromcurrent": true,
              "mode": "immediate",
              "transition": {
               "duration": 0,
               "easing": "linear"
              }
             }
            ],
            "label": "2023-07-01 00:00:00",
            "method": "animate"
           },
           {
            "args": [
             [
              "2023-08-01 00:00:00"
             ],
             {
              "frame": {
               "duration": 0,
               "redraw": true
              },
              "fromcurrent": true,
              "mode": "immediate",
              "transition": {
               "duration": 0,
               "easing": "linear"
              }
             }
            ],
            "label": "2023-08-01 00:00:00",
            "method": "animate"
           },
           {
            "args": [
             [
              "2023-09-01 00:00:00"
             ],
             {
              "frame": {
               "duration": 0,
               "redraw": true
              },
              "fromcurrent": true,
              "mode": "immediate",
              "transition": {
               "duration": 0,
               "easing": "linear"
              }
             }
            ],
            "label": "2023-09-01 00:00:00",
            "method": "animate"
           },
           {
            "args": [
             [
              "2023-10-01 00:00:00"
             ],
             {
              "frame": {
               "duration": 0,
               "redraw": true
              },
              "fromcurrent": true,
              "mode": "immediate",
              "transition": {
               "duration": 0,
               "easing": "linear"
              }
             }
            ],
            "label": "2023-10-01 00:00:00",
            "method": "animate"
           },
           {
            "args": [
             [
              "2023-11-01 00:00:00"
             ],
             {
              "frame": {
               "duration": 0,
               "redraw": true
              },
              "fromcurrent": true,
              "mode": "immediate",
              "transition": {
               "duration": 0,
               "easing": "linear"
              }
             }
            ],
            "label": "2023-11-01 00:00:00",
            "method": "animate"
           },
           {
            "args": [
             [
              "2023-12-01 00:00:00"
             ],
             {
              "frame": {
               "duration": 0,
               "redraw": true
              },
              "fromcurrent": true,
              "mode": "immediate",
              "transition": {
               "duration": 0,
               "easing": "linear"
              }
             }
            ],
            "label": "2023-12-01 00:00:00",
            "method": "animate"
           },
           {
            "args": [
             [
              "2024-01-01 00:00:00"
             ],
             {
              "frame": {
               "duration": 0,
               "redraw": true
              },
              "fromcurrent": true,
              "mode": "immediate",
              "transition": {
               "duration": 0,
               "easing": "linear"
              }
             }
            ],
            "label": "2024-01-01 00:00:00",
            "method": "animate"
           },
           {
            "args": [
             [
              "2024-02-01 00:00:00"
             ],
             {
              "frame": {
               "duration": 0,
               "redraw": true
              },
              "fromcurrent": true,
              "mode": "immediate",
              "transition": {
               "duration": 0,
               "easing": "linear"
              }
             }
            ],
            "label": "2024-02-01 00:00:00",
            "method": "animate"
           },
           {
            "args": [
             [
              "2024-03-01 00:00:00"
             ],
             {
              "frame": {
               "duration": 0,
               "redraw": true
              },
              "fromcurrent": true,
              "mode": "immediate",
              "transition": {
               "duration": 0,
               "easing": "linear"
              }
             }
            ],
            "label": "2024-03-01 00:00:00",
            "method": "animate"
           }
          ],
          "x": 0.1,
          "xanchor": "left",
          "y": 0,
          "yanchor": "top"
         }
        ],
        "template": {
         "data": {
          "bar": [
           {
            "error_x": {
             "color": "#2a3f5f"
            },
            "error_y": {
             "color": "#2a3f5f"
            },
            "marker": {
             "line": {
              "color": "#E5ECF6",
              "width": 0.5
             },
             "pattern": {
              "fillmode": "overlay",
              "size": 10,
              "solidity": 0.2
             }
            },
            "type": "bar"
           }
          ],
          "barpolar": [
           {
            "marker": {
             "line": {
              "color": "#E5ECF6",
              "width": 0.5
             },
             "pattern": {
              "fillmode": "overlay",
              "size": 10,
              "solidity": 0.2
             }
            },
            "type": "barpolar"
           }
          ],
          "carpet": [
           {
            "aaxis": {
             "endlinecolor": "#2a3f5f",
             "gridcolor": "white",
             "linecolor": "white",
             "minorgridcolor": "white",
             "startlinecolor": "#2a3f5f"
            },
            "baxis": {
             "endlinecolor": "#2a3f5f",
             "gridcolor": "white",
             "linecolor": "white",
             "minorgridcolor": "white",
             "startlinecolor": "#2a3f5f"
            },
            "type": "carpet"
           }
          ],
          "choropleth": [
           {
            "colorbar": {
             "outlinewidth": 0,
             "ticks": ""
            },
            "type": "choropleth"
           }
          ],
          "contour": [
           {
            "colorbar": {
             "outlinewidth": 0,
             "ticks": ""
            },
            "colorscale": [
             [
              0,
              "#0d0887"
             ],
             [
              0.1111111111111111,
              "#46039f"
             ],
             [
              0.2222222222222222,
              "#7201a8"
             ],
             [
              0.3333333333333333,
              "#9c179e"
             ],
             [
              0.4444444444444444,
              "#bd3786"
             ],
             [
              0.5555555555555556,
              "#d8576b"
             ],
             [
              0.6666666666666666,
              "#ed7953"
             ],
             [
              0.7777777777777778,
              "#fb9f3a"
             ],
             [
              0.8888888888888888,
              "#fdca26"
             ],
             [
              1,
              "#f0f921"
             ]
            ],
            "type": "contour"
           }
          ],
          "contourcarpet": [
           {
            "colorbar": {
             "outlinewidth": 0,
             "ticks": ""
            },
            "type": "contourcarpet"
           }
          ],
          "heatmap": [
           {
            "colorbar": {
             "outlinewidth": 0,
             "ticks": ""
            },
            "colorscale": [
             [
              0,
              "#0d0887"
             ],
             [
              0.1111111111111111,
              "#46039f"
             ],
             [
              0.2222222222222222,
              "#7201a8"
             ],
             [
              0.3333333333333333,
              "#9c179e"
             ],
             [
              0.4444444444444444,
              "#bd3786"
             ],
             [
              0.5555555555555556,
              "#d8576b"
             ],
             [
              0.6666666666666666,
              "#ed7953"
             ],
             [
              0.7777777777777778,
              "#fb9f3a"
             ],
             [
              0.8888888888888888,
              "#fdca26"
             ],
             [
              1,
              "#f0f921"
             ]
            ],
            "type": "heatmap"
           }
          ],
          "heatmapgl": [
           {
            "colorbar": {
             "outlinewidth": 0,
             "ticks": ""
            },
            "colorscale": [
             [
              0,
              "#0d0887"
             ],
             [
              0.1111111111111111,
              "#46039f"
             ],
             [
              0.2222222222222222,
              "#7201a8"
             ],
             [
              0.3333333333333333,
              "#9c179e"
             ],
             [
              0.4444444444444444,
              "#bd3786"
             ],
             [
              0.5555555555555556,
              "#d8576b"
             ],
             [
              0.6666666666666666,
              "#ed7953"
             ],
             [
              0.7777777777777778,
              "#fb9f3a"
             ],
             [
              0.8888888888888888,
              "#fdca26"
             ],
             [
              1,
              "#f0f921"
             ]
            ],
            "type": "heatmapgl"
           }
          ],
          "histogram": [
           {
            "marker": {
             "pattern": {
              "fillmode": "overlay",
              "size": 10,
              "solidity": 0.2
             }
            },
            "type": "histogram"
           }
          ],
          "histogram2d": [
           {
            "colorbar": {
             "outlinewidth": 0,
             "ticks": ""
            },
            "colorscale": [
             [
              0,
              "#0d0887"
             ],
             [
              0.1111111111111111,
              "#46039f"
             ],
             [
              0.2222222222222222,
              "#7201a8"
             ],
             [
              0.3333333333333333,
              "#9c179e"
             ],
             [
              0.4444444444444444,
              "#bd3786"
             ],
             [
              0.5555555555555556,
              "#d8576b"
             ],
             [
              0.6666666666666666,
              "#ed7953"
             ],
             [
              0.7777777777777778,
              "#fb9f3a"
             ],
             [
              0.8888888888888888,
              "#fdca26"
             ],
             [
              1,
              "#f0f921"
             ]
            ],
            "type": "histogram2d"
           }
          ],
          "histogram2dcontour": [
           {
            "colorbar": {
             "outlinewidth": 0,
             "ticks": ""
            },
            "colorscale": [
             [
              0,
              "#0d0887"
             ],
             [
              0.1111111111111111,
              "#46039f"
             ],
             [
              0.2222222222222222,
              "#7201a8"
             ],
             [
              0.3333333333333333,
              "#9c179e"
             ],
             [
              0.4444444444444444,
              "#bd3786"
             ],
             [
              0.5555555555555556,
              "#d8576b"
             ],
             [
              0.6666666666666666,
              "#ed7953"
             ],
             [
              0.7777777777777778,
              "#fb9f3a"
             ],
             [
              0.8888888888888888,
              "#fdca26"
             ],
             [
              1,
              "#f0f921"
             ]
            ],
            "type": "histogram2dcontour"
           }
          ],
          "mesh3d": [
           {
            "colorbar": {
             "outlinewidth": 0,
             "ticks": ""
            },
            "type": "mesh3d"
           }
          ],
          "parcoords": [
           {
            "line": {
             "colorbar": {
              "outlinewidth": 0,
              "ticks": ""
             }
            },
            "type": "parcoords"
           }
          ],
          "pie": [
           {
            "automargin": true,
            "type": "pie"
           }
          ],
          "scatter": [
           {
            "fillpattern": {
             "fillmode": "overlay",
             "size": 10,
             "solidity": 0.2
            },
            "type": "scatter"
           }
          ],
          "scatter3d": [
           {
            "line": {
             "colorbar": {
              "outlinewidth": 0,
              "ticks": ""
             }
            },
            "marker": {
             "colorbar": {
              "outlinewidth": 0,
              "ticks": ""
             }
            },
            "type": "scatter3d"
           }
          ],
          "scattercarpet": [
           {
            "marker": {
             "colorbar": {
              "outlinewidth": 0,
              "ticks": ""
             }
            },
            "type": "scattercarpet"
           }
          ],
          "scattergeo": [
           {
            "marker": {
             "colorbar": {
              "outlinewidth": 0,
              "ticks": ""
             }
            },
            "type": "scattergeo"
           }
          ],
          "scattergl": [
           {
            "marker": {
             "colorbar": {
              "outlinewidth": 0,
              "ticks": ""
             }
            },
            "type": "scattergl"
           }
          ],
          "scattermapbox": [
           {
            "marker": {
             "colorbar": {
              "outlinewidth": 0,
              "ticks": ""
             }
            },
            "type": "scattermapbox"
           }
          ],
          "scatterpolar": [
           {
            "marker": {
             "colorbar": {
              "outlinewidth": 0,
              "ticks": ""
             }
            },
            "type": "scatterpolar"
           }
          ],
          "scatterpolargl": [
           {
            "marker": {
             "colorbar": {
              "outlinewidth": 0,
              "ticks": ""
             }
            },
            "type": "scatterpolargl"
           }
          ],
          "scatterternary": [
           {
            "marker": {
             "colorbar": {
              "outlinewidth": 0,
              "ticks": ""
             }
            },
            "type": "scatterternary"
           }
          ],
          "surface": [
           {
            "colorbar": {
             "outlinewidth": 0,
             "ticks": ""
            },
            "colorscale": [
             [
              0,
              "#0d0887"
             ],
             [
              0.1111111111111111,
              "#46039f"
             ],
             [
              0.2222222222222222,
              "#7201a8"
             ],
             [
              0.3333333333333333,
              "#9c179e"
             ],
             [
              0.4444444444444444,
              "#bd3786"
             ],
             [
              0.5555555555555556,
              "#d8576b"
             ],
             [
              0.6666666666666666,
              "#ed7953"
             ],
             [
              0.7777777777777778,
              "#fb9f3a"
             ],
             [
              0.8888888888888888,
              "#fdca26"
             ],
             [
              1,
              "#f0f921"
             ]
            ],
            "type": "surface"
           }
          ],
          "table": [
           {
            "cells": {
             "fill": {
              "color": "#EBF0F8"
             },
             "line": {
              "color": "white"
             }
            },
            "header": {
             "fill": {
              "color": "#C8D4E3"
             },
             "line": {
              "color": "white"
             }
            },
            "type": "table"
           }
          ]
         },
         "layout": {
          "annotationdefaults": {
           "arrowcolor": "#2a3f5f",
           "arrowhead": 0,
           "arrowwidth": 1
          },
          "autotypenumbers": "strict",
          "coloraxis": {
           "colorbar": {
            "outlinewidth": 0,
            "ticks": ""
           }
          },
          "colorscale": {
           "diverging": [
            [
             0,
             "#8e0152"
            ],
            [
             0.1,
             "#c51b7d"
            ],
            [
             0.2,
             "#de77ae"
            ],
            [
             0.3,
             "#f1b6da"
            ],
            [
             0.4,
             "#fde0ef"
            ],
            [
             0.5,
             "#f7f7f7"
            ],
            [
             0.6,
             "#e6f5d0"
            ],
            [
             0.7,
             "#b8e186"
            ],
            [
             0.8,
             "#7fbc41"
            ],
            [
             0.9,
             "#4d9221"
            ],
            [
             1,
             "#276419"
            ]
           ],
           "sequential": [
            [
             0,
             "#0d0887"
            ],
            [
             0.1111111111111111,
             "#46039f"
            ],
            [
             0.2222222222222222,
             "#7201a8"
            ],
            [
             0.3333333333333333,
             "#9c179e"
            ],
            [
             0.4444444444444444,
             "#bd3786"
            ],
            [
             0.5555555555555556,
             "#d8576b"
            ],
            [
             0.6666666666666666,
             "#ed7953"
            ],
            [
             0.7777777777777778,
             "#fb9f3a"
            ],
            [
             0.8888888888888888,
             "#fdca26"
            ],
            [
             1,
             "#f0f921"
            ]
           ],
           "sequentialminus": [
            [
             0,
             "#0d0887"
            ],
            [
             0.1111111111111111,
             "#46039f"
            ],
            [
             0.2222222222222222,
             "#7201a8"
            ],
            [
             0.3333333333333333,
             "#9c179e"
            ],
            [
             0.4444444444444444,
             "#bd3786"
            ],
            [
             0.5555555555555556,
             "#d8576b"
            ],
            [
             0.6666666666666666,
             "#ed7953"
            ],
            [
             0.7777777777777778,
             "#fb9f3a"
            ],
            [
             0.8888888888888888,
             "#fdca26"
            ],
            [
             1,
             "#f0f921"
            ]
           ]
          },
          "colorway": [
           "#636efa",
           "#EF553B",
           "#00cc96",
           "#ab63fa",
           "#FFA15A",
           "#19d3f3",
           "#FF6692",
           "#B6E880",
           "#FF97FF",
           "#FECB52"
          ],
          "font": {
           "color": "#2a3f5f"
          },
          "geo": {
           "bgcolor": "white",
           "lakecolor": "white",
           "landcolor": "#E5ECF6",
           "showlakes": true,
           "showland": true,
           "subunitcolor": "white"
          },
          "hoverlabel": {
           "align": "left"
          },
          "hovermode": "closest",
          "mapbox": {
           "style": "light"
          },
          "paper_bgcolor": "white",
          "plot_bgcolor": "#E5ECF6",
          "polar": {
           "angularaxis": {
            "gridcolor": "white",
            "linecolor": "white",
            "ticks": ""
           },
           "bgcolor": "#E5ECF6",
           "radialaxis": {
            "gridcolor": "white",
            "linecolor": "white",
            "ticks": ""
           }
          },
          "scene": {
           "xaxis": {
            "backgroundcolor": "#E5ECF6",
            "gridcolor": "white",
            "gridwidth": 2,
            "linecolor": "white",
            "showbackground": true,
            "ticks": "",
            "zerolinecolor": "white"
           },
           "yaxis": {
            "backgroundcolor": "#E5ECF6",
            "gridcolor": "white",
            "gridwidth": 2,
            "linecolor": "white",
            "showbackground": true,
            "ticks": "",
            "zerolinecolor": "white"
           },
           "zaxis": {
            "backgroundcolor": "#E5ECF6",
            "gridcolor": "white",
            "gridwidth": 2,
            "linecolor": "white",
            "showbackground": true,
            "ticks": "",
            "zerolinecolor": "white"
           }
          },
          "shapedefaults": {
           "line": {
            "color": "#2a3f5f"
           }
          },
          "ternary": {
           "aaxis": {
            "gridcolor": "white",
            "linecolor": "white",
            "ticks": ""
           },
           "baxis": {
            "gridcolor": "white",
            "linecolor": "white",
            "ticks": ""
           },
           "bgcolor": "#E5ECF6",
           "caxis": {
            "gridcolor": "white",
            "linecolor": "white",
            "ticks": ""
           }
          },
          "title": {
           "x": 0.05
          },
          "xaxis": {
           "automargin": true,
           "gridcolor": "white",
           "linecolor": "white",
           "ticks": "",
           "title": {
            "standoff": 15
           },
           "zerolinecolor": "white",
           "zerolinewidth": 2
          },
          "yaxis": {
           "automargin": true,
           "gridcolor": "white",
           "linecolor": "white",
           "ticks": "",
           "title": {
            "standoff": 15
           },
           "zerolinecolor": "white",
           "zerolinewidth": 2
          }
         }
        },
        "title": {
         "text": "California Unemployment During and After COVID-19"
        },
        "updatemenus": [
         {
          "buttons": [
           {
            "args": [
             null,
             {
              "frame": {
               "duration": 500,
               "redraw": true
              },
              "fromcurrent": true,
              "mode": "immediate",
              "transition": {
               "duration": 500,
               "easing": "linear"
              }
             }
            ],
            "label": "&#9654;",
            "method": "animate"
           },
           {
            "args": [
             [
              null
             ],
             {
              "frame": {
               "duration": 0,
               "redraw": true
              },
              "fromcurrent": true,
              "mode": "immediate",
              "transition": {
               "duration": 0,
               "easing": "linear"
              }
             }
            ],
            "label": "&#9724;",
            "method": "animate"
           }
          ],
          "direction": "left",
          "pad": {
           "r": 10,
           "t": 70
          },
          "showactive": false,
          "type": "buttons",
          "x": 0.1,
          "xanchor": "right",
          "y": 0,
          "yanchor": "top"
         }
        ],
        "xaxis": {
         "anchor": "y",
         "categoryarray": [
          "Age 16-19",
          "Age 20-24",
          "Age 25-34",
          "Age 35-44",
          "Age 45-54",
          "Age 55-64",
          "Age 65+"
         ],
         "categoryorder": "array",
         "domain": [
          0,
          1
         ],
         "title": {
          "text": "Age Group"
         }
        },
        "yaxis": {
         "anchor": "x",
         "domain": [
          0,
          1
         ],
         "range": [
          0,
          0.25
         ],
         "tickformat": ".0%",
         "title": {
          "text": "Unemployment Rate"
         }
        }
       }
      }
     },
     "metadata": {},
     "output_type": "display_data"
    }
   ],
   "source": [
    "# Filter the dataset for dates after December 31, 2019\n",
    "filtered_data = unemployment_data2[unemployment_data2['Date'] > '2019-12-31']\n",
    "\n",
    "# Create the animated bar plot using Plotly Express\n",
    "fig = px.bar(filtered_data, \n",
    "             x='Age Group', \n",
    "             y='Unemployment Rate', \n",
    "             animation_frame='Date', \n",
    "             color='Age Group',\n",
    "             range_y=[0, .25])\n",
    "\n",
    "# Update layout properties\n",
    "fig.update_layout(\n",
    "    plot_bgcolor='white',\n",
    "    yaxis_tickformat=\".0%\",  # Format y-axis tick labels as percentage\n",
    "    title='California Unemployment During and After COVID-19'  # Set title\n",
    ")\n",
    "\n",
    "fig.show()"
   ]
  },
  {
   "attachments": {},
   "cell_type": "markdown",
   "metadata": {},
   "source": [
    "<h3><b>Results and summary:</b></h3>"
   ]
  },
  {
   "attachments": {},
   "cell_type": "markdown",
   "metadata": {},
   "source": [
    "One of the most interesting findings in this dataset was observing two noticeable spikes in the unemployment rate trendline. The first spike occurred in 2010, coinciding with a recession. This recession was primarily a result of the global financial crisis that began in 2007-2008. It was characterized by a severe downturn in economic activity, leading to widespread job losses and high unemployment rates.\n",
    "\n",
    "The second spike occurred between 2020 and 2022, largely attributed to the COVID-19 pandemic. According to Google, the first reported case of COVID-19 in California was confirmed on January 25, 2020, in Orange County. The situation rapidly escalated thereafter, resulting in widespread job losses across various sectors. The pandemic's impact on employment was profound and enduring, as evidenced by the data trends.\n",
    "\n",
    "Interestingly, the data also reveals a rise in unemployment rates in 2023. This indicates ongoing economic challenges and underscores the need for continued monitoring and intervention.\n",
    "\n",
    "Given that this dataset segments unemployment by age groups, certain patterns emerge. Notably, younger age groups exhibit higher unemployment rates. This could be attributed to several factors, including delayed entry into the job market and a lack of requisite education and skills among individuals in their late teens and early twenties.\n",
    "\n",
    "Moreover, many younger individuals in California are enrolled in higher education institutions, such as colleges and universities. While some may engage in part-time employment while pursuing their studies, others may prioritize education over employment, resulting in elevated unemployment rates within this demographic.\n",
    "\n",
    "One surprising observation in the dataset is that age groups (35-44, 45-54, 55-64, 65+) demonstrate similar percentages of unemployment. This contrasts with expectations, as one might anticipate higher unemployment rates among older age groups, particularly those aged 65 and above, compared to individuals aged 35-44. This finding underscores the complexity of employment dynamics and warrants further investigation into underlying factors influencing unemployment across different age cohorts. "
   ]
  },
  {
   "attachments": {},
   "cell_type": "markdown",
   "metadata": {},
   "source": [
    "<h3><b>Ideas for further improvements:</b></h3>"
   ]
  },
  {
   "attachments": {},
   "cell_type": "markdown",
   "metadata": {},
   "source": [
    "For further enhancements, I propose incorporating additional demographic information into the dataset, such as gender. Exploring how gender influences unemployment rates could yield valuable insights into disparities and potential areas for intervention. Additionally, considering factors like pregnancy and their impact on employment could provide nuanced perspectives on workforce dynamics. Although collecting such data may pose challenges, the potential insights gained could be invaluable.\n",
    "\n",
    "Another intriguing avenue for exploration is comparing unemployment rates between 1950 and 2020. However, it's important to acknowledge the limitations of such a comparison. Data collection methods and employment structures differed significantly between these periods, potentially skewing the reliability of the analysis. Nevertheless, examining historical trends could offer valuable context for understanding contemporary employment patterns.\n",
    "\n",
    "Furthermore, conducting spatial analyses to identify regions within California with the highest unemployment rates could shed light on localized economic challenges. Understanding the socio-economic factors contributing to unemployment in these areas could inform targeted policy interventions and support initiatives. By identifying commonalities among individuals experiencing unemployment, such as educational attainment, industry of employment, or access to resources, policymakers and stakeholders can develop more effective strategies to address unemployment and promote economic resilience."
   ]
  }
 ],
 "metadata": {
  "kernelspec": {
   "display_name": "Python 3.9.13 ('.venv': venv)",
   "language": "python",
   "name": "python3"
  },
  "language_info": {
   "codemirror_mode": {
    "name": "ipython",
    "version": 3
   },
   "file_extension": ".py",
   "mimetype": "text/x-python",
   "name": "python",
   "nbconvert_exporter": "python",
   "pygments_lexer": "ipython3",
   "version": "3.12.3"
  },
  "orig_nbformat": 4,
  "vscode": {
   "interpreter": {
    "hash": "8544013bb5ee00a6b36145eaa8d717abd0f46e906ee65ff52dc2ec64e749734d"
   }
  }
 },
 "nbformat": 4,
 "nbformat_minor": 2
}
